{
 "cells": [
  {
   "cell_type": "code",
   "execution_count": 1,
   "metadata": {},
   "outputs": [],
   "source": [
    "# import the required packages\n",
    "import pandas as pd \n",
    "import numpy as np \n",
    "import matplotlib.pyplot as plt \n",
    "from sklearn.cluster import KMeans\n",
    "from sklearn.preprocessing import StandardScaler\n",
    "\n",
    "from sklearn.decomposition import PCA \n",
    "from sklearn.cluster import AgglomerativeClustering \n",
    "from sklearn.preprocessing import StandardScaler, normalize \n",
    "from sklearn.metrics import silhouette_score \n",
    "import scipy.cluster.hierarchy as shc \n",
    "\n",
    "import seaborn as sns\n",
    "\n",
    "from sklearn.model_selection import train_test_split\n",
    "from sklearn.ensemble import RandomForestClassifier\n",
    "\n",
    "from sklearn.metrics import accuracy_score, confusion_matrix, classification_report, fbeta_score #To evaluate our model\n",
    "from sklearn.model_selection import GridSearchCV\n",
    "\n",
    "from sklearn.utils import resample\n",
    "from sklearn.metrics import roc_curve, roc_auc_score"
   ]
  },
  {
   "cell_type": "markdown",
   "metadata": {},
   "source": [
    "## 1. Build Clustering Models using Numerical Data"
   ]
  },
  {
   "cell_type": "markdown",
   "metadata": {},
   "source": [
    "### 1.1 Data exploration and manipulation"
   ]
  },
  {
   "cell_type": "code",
   "execution_count": 2,
   "metadata": {},
   "outputs": [],
   "source": [
    "df=pd.read_csv('Bank_Data.csv')"
   ]
  },
  {
   "cell_type": "code",
   "execution_count": 3,
   "metadata": {},
   "outputs": [
    {
     "data": {
      "text/html": [
       "<div>\n",
       "<style scoped>\n",
       "    .dataframe tbody tr th:only-of-type {\n",
       "        vertical-align: middle;\n",
       "    }\n",
       "\n",
       "    .dataframe tbody tr th {\n",
       "        vertical-align: top;\n",
       "    }\n",
       "\n",
       "    .dataframe thead th {\n",
       "        text-align: right;\n",
       "    }\n",
       "</style>\n",
       "<table border=\"1\" class=\"dataframe\">\n",
       "  <thead>\n",
       "    <tr style=\"text-align: right;\">\n",
       "      <th></th>\n",
       "      <th>Account Status</th>\n",
       "      <th>Duration in month</th>\n",
       "      <th>Credit History</th>\n",
       "      <th>Purpose</th>\n",
       "      <th>Credit amount</th>\n",
       "      <th>Savings account or bonds</th>\n",
       "      <th>Present employment since</th>\n",
       "      <th>Instalment rate in percentage of disposable income</th>\n",
       "      <th>Personal status and sex</th>\n",
       "      <th>Other debtors or guarantors</th>\n",
       "      <th>...</th>\n",
       "      <th>Property</th>\n",
       "      <th>Age in years</th>\n",
       "      <th>Other installment plans</th>\n",
       "      <th>Housing</th>\n",
       "      <th>Number of existing credits at this bank</th>\n",
       "      <th>Job</th>\n",
       "      <th>Number of people being liable to provide maintenance for</th>\n",
       "      <th>Telephone</th>\n",
       "      <th>Foreign worker</th>\n",
       "      <th>Target</th>\n",
       "    </tr>\n",
       "  </thead>\n",
       "  <tbody>\n",
       "    <tr>\n",
       "      <th>0</th>\n",
       "      <td>Salary assignments for at least 1 year</td>\n",
       "      <td>6</td>\n",
       "      <td>critical account/ other credits existing (not ...</td>\n",
       "      <td>radio/television</td>\n",
       "      <td>1169</td>\n",
       "      <td>Savings account</td>\n",
       "      <td>&gt; 7 years</td>\n",
       "      <td>4</td>\n",
       "      <td>male : single</td>\n",
       "      <td>none</td>\n",
       "      <td>...</td>\n",
       "      <td>real estate</td>\n",
       "      <td>67</td>\n",
       "      <td>none</td>\n",
       "      <td>own</td>\n",
       "      <td>2</td>\n",
       "      <td>skilled employee / official</td>\n",
       "      <td>1</td>\n",
       "      <td>yes, registered under the customers name</td>\n",
       "      <td>yes</td>\n",
       "      <td>1</td>\n",
       "    </tr>\n",
       "    <tr>\n",
       "      <th>1</th>\n",
       "      <td>Salary assignments for at least 2 year</td>\n",
       "      <td>48</td>\n",
       "      <td>existing credits paid back duly till now</td>\n",
       "      <td>radio/television</td>\n",
       "      <td>5951</td>\n",
       "      <td>Savings account</td>\n",
       "      <td>1 - 4 years</td>\n",
       "      <td>2</td>\n",
       "      <td>female : divorced/separated/married</td>\n",
       "      <td>none</td>\n",
       "      <td>...</td>\n",
       "      <td>real estate</td>\n",
       "      <td>22</td>\n",
       "      <td>none</td>\n",
       "      <td>own</td>\n",
       "      <td>1</td>\n",
       "      <td>skilled employee / official</td>\n",
       "      <td>1</td>\n",
       "      <td>None</td>\n",
       "      <td>yes</td>\n",
       "      <td>2</td>\n",
       "    </tr>\n",
       "    <tr>\n",
       "      <th>2</th>\n",
       "      <td>No Checking account</td>\n",
       "      <td>12</td>\n",
       "      <td>critical account/ other credits existing (not ...</td>\n",
       "      <td>education</td>\n",
       "      <td>2096</td>\n",
       "      <td>Savings account</td>\n",
       "      <td>4- 7 years</td>\n",
       "      <td>2</td>\n",
       "      <td>male : single</td>\n",
       "      <td>none</td>\n",
       "      <td>...</td>\n",
       "      <td>real estate</td>\n",
       "      <td>49</td>\n",
       "      <td>none</td>\n",
       "      <td>own</td>\n",
       "      <td>1</td>\n",
       "      <td>unskilled - resident</td>\n",
       "      <td>2</td>\n",
       "      <td>None</td>\n",
       "      <td>yes</td>\n",
       "      <td>1</td>\n",
       "    </tr>\n",
       "    <tr>\n",
       "      <th>3</th>\n",
       "      <td>Salary assignments for at least 1 year</td>\n",
       "      <td>42</td>\n",
       "      <td>existing credits paid back duly till now</td>\n",
       "      <td>furniture/equipment</td>\n",
       "      <td>7882</td>\n",
       "      <td>Savings account</td>\n",
       "      <td>4- 7 years</td>\n",
       "      <td>2</td>\n",
       "      <td>male : single</td>\n",
       "      <td>guarantor</td>\n",
       "      <td>...</td>\n",
       "      <td>building society savings agreement/ life insur...</td>\n",
       "      <td>45</td>\n",
       "      <td>none</td>\n",
       "      <td>for free</td>\n",
       "      <td>1</td>\n",
       "      <td>skilled employee / official</td>\n",
       "      <td>2</td>\n",
       "      <td>None</td>\n",
       "      <td>yes</td>\n",
       "      <td>1</td>\n",
       "    </tr>\n",
       "    <tr>\n",
       "      <th>4</th>\n",
       "      <td>Salary assignments for at least 1 year</td>\n",
       "      <td>24</td>\n",
       "      <td>delay in paying off in the past</td>\n",
       "      <td>car(new)</td>\n",
       "      <td>4870</td>\n",
       "      <td>Savings account</td>\n",
       "      <td>1 - 4 years</td>\n",
       "      <td>3</td>\n",
       "      <td>male : single</td>\n",
       "      <td>none</td>\n",
       "      <td>...</td>\n",
       "      <td>unknown / no property</td>\n",
       "      <td>53</td>\n",
       "      <td>none</td>\n",
       "      <td>for free</td>\n",
       "      <td>2</td>\n",
       "      <td>skilled employee / official</td>\n",
       "      <td>2</td>\n",
       "      <td>None</td>\n",
       "      <td>yes</td>\n",
       "      <td>2</td>\n",
       "    </tr>\n",
       "  </tbody>\n",
       "</table>\n",
       "<p>5 rows × 21 columns</p>\n",
       "</div>"
      ],
      "text/plain": [
       "                           Account Status  Duration in month  \\\n",
       "0  Salary assignments for at least 1 year                  6   \n",
       "1  Salary assignments for at least 2 year                 48   \n",
       "2                     No Checking account                 12   \n",
       "3  Salary assignments for at least 1 year                 42   \n",
       "4  Salary assignments for at least 1 year                 24   \n",
       "\n",
       "                                      Credit History              Purpose  \\\n",
       "0  critical account/ other credits existing (not ...     radio/television   \n",
       "1           existing credits paid back duly till now     radio/television   \n",
       "2  critical account/ other credits existing (not ...            education   \n",
       "3           existing credits paid back duly till now  furniture/equipment   \n",
       "4                    delay in paying off in the past             car(new)   \n",
       "\n",
       "   Credit amount Savings account or bonds Present employment since  \\\n",
       "0           1169          Savings account                > 7 years   \n",
       "1           5951          Savings account              1 - 4 years   \n",
       "2           2096          Savings account               4- 7 years   \n",
       "3           7882          Savings account               4- 7 years   \n",
       "4           4870          Savings account              1 - 4 years   \n",
       "\n",
       "   Instalment rate in percentage of disposable income  \\\n",
       "0                                                  4    \n",
       "1                                                  2    \n",
       "2                                                  2    \n",
       "3                                                  2    \n",
       "4                                                  3    \n",
       "\n",
       "               Personal status and sex Other debtors or guarantors  ...  \\\n",
       "0                        male : single                        none  ...   \n",
       "1  female : divorced/separated/married                        none  ...   \n",
       "2                        male : single                        none  ...   \n",
       "3                        male : single                   guarantor  ...   \n",
       "4                        male : single                        none  ...   \n",
       "\n",
       "                                            Property Age in years  \\\n",
       "0                                        real estate           67   \n",
       "1                                        real estate           22   \n",
       "2                                        real estate           49   \n",
       "3  building society savings agreement/ life insur...           45   \n",
       "4                              unknown / no property           53   \n",
       "\n",
       "   Other installment plans   Housing Number of existing credits at this bank  \\\n",
       "0                     none       own                                       2   \n",
       "1                     none       own                                       1   \n",
       "2                     none       own                                       1   \n",
       "3                     none  for free                                       1   \n",
       "4                     none  for free                                       2   \n",
       "\n",
       "                           Job  \\\n",
       "0  skilled employee / official   \n",
       "1  skilled employee / official   \n",
       "2         unskilled - resident   \n",
       "3  skilled employee / official   \n",
       "4  skilled employee / official   \n",
       "\n",
       "  Number of people being liable to provide maintenance for  \\\n",
       "0                                                  1         \n",
       "1                                                  1         \n",
       "2                                                  2         \n",
       "3                                                  2         \n",
       "4                                                  2         \n",
       "\n",
       "                                  Telephone Foreign worker Target  \n",
       "0  yes, registered under the customers name            yes      1  \n",
       "1                                      None            yes      2  \n",
       "2                                      None            yes      1  \n",
       "3                                      None            yes      1  \n",
       "4                                      None            yes      2  \n",
       "\n",
       "[5 rows x 21 columns]"
      ]
     },
     "execution_count": 3,
     "metadata": {},
     "output_type": "execute_result"
    }
   ],
   "source": [
    "df.head()"
   ]
  },
  {
   "cell_type": "code",
   "execution_count": 4,
   "metadata": {},
   "outputs": [
    {
     "name": "stdout",
     "output_type": "stream",
     "text": [
      "<class 'pandas.core.frame.DataFrame'>\n",
      "RangeIndex: 1000 entries, 0 to 999\n",
      "Data columns (total 21 columns):\n",
      " #   Column                                                    Non-Null Count  Dtype \n",
      "---  ------                                                    --------------  ----- \n",
      " 0   Account Status                                            1000 non-null   object\n",
      " 1   Duration in month                                         1000 non-null   int64 \n",
      " 2   Credit History                                            1000 non-null   object\n",
      " 3   Purpose                                                   1000 non-null   object\n",
      " 4   Credit amount                                             1000 non-null   int64 \n",
      " 5   Savings account or bonds                                  1000 non-null   object\n",
      " 6   Present employment since                                  1000 non-null   object\n",
      " 7   Instalment rate in percentage of disposable income        1000 non-null   int64 \n",
      " 8   Personal status and sex                                   1000 non-null   object\n",
      " 9   Other debtors or guarantors                               1000 non-null   object\n",
      " 10  Present residence since                                   1000 non-null   int64 \n",
      " 11  Property                                                  1000 non-null   object\n",
      " 12  Age in years                                              1000 non-null   int64 \n",
      " 13  Other installment plans                                   1000 non-null   object\n",
      " 14  Housing                                                   1000 non-null   object\n",
      " 15  Number of existing credits at this bank                   1000 non-null   int64 \n",
      " 16  Job                                                       1000 non-null   object\n",
      " 17  Number of people being liable to provide maintenance for  1000 non-null   int64 \n",
      " 18  Telephone                                                 1000 non-null   object\n",
      " 19  Foreign worker                                            1000 non-null   object\n",
      " 20  Target                                                    1000 non-null   int64 \n",
      "dtypes: int64(8), object(13)\n",
      "memory usage: 164.2+ KB\n"
     ]
    }
   ],
   "source": [
    "df.info()"
   ]
  },
  {
   "cell_type": "code",
   "execution_count": 5,
   "metadata": {},
   "outputs": [
    {
     "data": {
      "text/html": [
       "<div>\n",
       "<style scoped>\n",
       "    .dataframe tbody tr th:only-of-type {\n",
       "        vertical-align: middle;\n",
       "    }\n",
       "\n",
       "    .dataframe tbody tr th {\n",
       "        vertical-align: top;\n",
       "    }\n",
       "\n",
       "    .dataframe thead th {\n",
       "        text-align: right;\n",
       "    }\n",
       "</style>\n",
       "<table border=\"1\" class=\"dataframe\">\n",
       "  <thead>\n",
       "    <tr style=\"text-align: right;\">\n",
       "      <th></th>\n",
       "      <th>Duration in month</th>\n",
       "      <th>Credit amount</th>\n",
       "      <th>Instalment rate in percentage of disposable income</th>\n",
       "      <th>Present residence since</th>\n",
       "      <th>Age in years</th>\n",
       "      <th>Number of existing credits at this bank</th>\n",
       "      <th>Number of people being liable to provide maintenance for</th>\n",
       "      <th>Target</th>\n",
       "    </tr>\n",
       "  </thead>\n",
       "  <tbody>\n",
       "    <tr>\n",
       "      <th>count</th>\n",
       "      <td>1000.000000</td>\n",
       "      <td>1000.000000</td>\n",
       "      <td>1000.000000</td>\n",
       "      <td>1000.000000</td>\n",
       "      <td>1000.000000</td>\n",
       "      <td>1000.000000</td>\n",
       "      <td>1000.000000</td>\n",
       "      <td>1000.000000</td>\n",
       "    </tr>\n",
       "    <tr>\n",
       "      <th>mean</th>\n",
       "      <td>20.903000</td>\n",
       "      <td>3271.258000</td>\n",
       "      <td>2.973000</td>\n",
       "      <td>2.845000</td>\n",
       "      <td>35.546000</td>\n",
       "      <td>1.407000</td>\n",
       "      <td>1.155000</td>\n",
       "      <td>1.300000</td>\n",
       "    </tr>\n",
       "    <tr>\n",
       "      <th>std</th>\n",
       "      <td>12.058814</td>\n",
       "      <td>2822.736876</td>\n",
       "      <td>1.118715</td>\n",
       "      <td>1.103718</td>\n",
       "      <td>11.375469</td>\n",
       "      <td>0.577654</td>\n",
       "      <td>0.362086</td>\n",
       "      <td>0.458487</td>\n",
       "    </tr>\n",
       "    <tr>\n",
       "      <th>min</th>\n",
       "      <td>4.000000</td>\n",
       "      <td>250.000000</td>\n",
       "      <td>1.000000</td>\n",
       "      <td>1.000000</td>\n",
       "      <td>19.000000</td>\n",
       "      <td>1.000000</td>\n",
       "      <td>1.000000</td>\n",
       "      <td>1.000000</td>\n",
       "    </tr>\n",
       "    <tr>\n",
       "      <th>25%</th>\n",
       "      <td>12.000000</td>\n",
       "      <td>1365.500000</td>\n",
       "      <td>2.000000</td>\n",
       "      <td>2.000000</td>\n",
       "      <td>27.000000</td>\n",
       "      <td>1.000000</td>\n",
       "      <td>1.000000</td>\n",
       "      <td>1.000000</td>\n",
       "    </tr>\n",
       "    <tr>\n",
       "      <th>50%</th>\n",
       "      <td>18.000000</td>\n",
       "      <td>2319.500000</td>\n",
       "      <td>3.000000</td>\n",
       "      <td>3.000000</td>\n",
       "      <td>33.000000</td>\n",
       "      <td>1.000000</td>\n",
       "      <td>1.000000</td>\n",
       "      <td>1.000000</td>\n",
       "    </tr>\n",
       "    <tr>\n",
       "      <th>75%</th>\n",
       "      <td>24.000000</td>\n",
       "      <td>3972.250000</td>\n",
       "      <td>4.000000</td>\n",
       "      <td>4.000000</td>\n",
       "      <td>42.000000</td>\n",
       "      <td>2.000000</td>\n",
       "      <td>1.000000</td>\n",
       "      <td>2.000000</td>\n",
       "    </tr>\n",
       "    <tr>\n",
       "      <th>max</th>\n",
       "      <td>72.000000</td>\n",
       "      <td>18424.000000</td>\n",
       "      <td>4.000000</td>\n",
       "      <td>4.000000</td>\n",
       "      <td>75.000000</td>\n",
       "      <td>4.000000</td>\n",
       "      <td>2.000000</td>\n",
       "      <td>2.000000</td>\n",
       "    </tr>\n",
       "  </tbody>\n",
       "</table>\n",
       "</div>"
      ],
      "text/plain": [
       "       Duration in month  Credit amount  \\\n",
       "count        1000.000000    1000.000000   \n",
       "mean           20.903000    3271.258000   \n",
       "std            12.058814    2822.736876   \n",
       "min             4.000000     250.000000   \n",
       "25%            12.000000    1365.500000   \n",
       "50%            18.000000    2319.500000   \n",
       "75%            24.000000    3972.250000   \n",
       "max            72.000000   18424.000000   \n",
       "\n",
       "       Instalment rate in percentage of disposable income  \\\n",
       "count                                        1000.000000    \n",
       "mean                                            2.973000    \n",
       "std                                             1.118715    \n",
       "min                                             1.000000    \n",
       "25%                                             2.000000    \n",
       "50%                                             3.000000    \n",
       "75%                                             4.000000    \n",
       "max                                             4.000000    \n",
       "\n",
       "       Present residence since  Age in years  \\\n",
       "count              1000.000000   1000.000000   \n",
       "mean                  2.845000     35.546000   \n",
       "std                   1.103718     11.375469   \n",
       "min                   1.000000     19.000000   \n",
       "25%                   2.000000     27.000000   \n",
       "50%                   3.000000     33.000000   \n",
       "75%                   4.000000     42.000000   \n",
       "max                   4.000000     75.000000   \n",
       "\n",
       "       Number of existing credits at this bank  \\\n",
       "count                              1000.000000   \n",
       "mean                                  1.407000   \n",
       "std                                   0.577654   \n",
       "min                                   1.000000   \n",
       "25%                                   1.000000   \n",
       "50%                                   1.000000   \n",
       "75%                                   2.000000   \n",
       "max                                   4.000000   \n",
       "\n",
       "       Number of people being liable to provide maintenance for       Target  \n",
       "count                                        1000.000000         1000.000000  \n",
       "mean                                            1.155000            1.300000  \n",
       "std                                             0.362086            0.458487  \n",
       "min                                             1.000000            1.000000  \n",
       "25%                                             1.000000            1.000000  \n",
       "50%                                             1.000000            1.000000  \n",
       "75%                                             1.000000            2.000000  \n",
       "max                                             2.000000            2.000000  "
      ]
     },
     "execution_count": 5,
     "metadata": {},
     "output_type": "execute_result"
    }
   ],
   "source": [
    "df.describe()"
   ]
  },
  {
   "cell_type": "code",
   "execution_count": 6,
   "metadata": {},
   "outputs": [
    {
     "data": {
      "text/plain": [
       "Account Status                                              0\n",
       "Duration in month                                           0\n",
       "Credit History                                              0\n",
       "Purpose                                                     0\n",
       "Credit amount                                               0\n",
       "Savings account or bonds                                    0\n",
       "Present employment since                                    0\n",
       "Instalment rate in percentage of disposable income          0\n",
       "Personal status and sex                                     0\n",
       "Other debtors or guarantors                                 0\n",
       "Present residence since                                     0\n",
       "Property                                                    0\n",
       "Age in years                                                0\n",
       "Other installment plans                                     0\n",
       "Housing                                                     0\n",
       "Number of existing credits at this bank                     0\n",
       "Job                                                         0\n",
       "Number of people being liable to provide maintenance for    0\n",
       "Telephone                                                   0\n",
       "Foreign worker                                              0\n",
       "Target                                                      0\n",
       "dtype: int64"
      ]
     },
     "execution_count": 6,
     "metadata": {},
     "output_type": "execute_result"
    }
   ],
   "source": [
    "df.isnull().sum()"
   ]
  },
  {
   "cell_type": "markdown",
   "metadata": {},
   "source": [
    "### Categorical data"
   ]
  },
  {
   "cell_type": "code",
   "execution_count": 7,
   "metadata": {},
   "outputs": [
    {
     "data": {
      "text/html": [
       "<div>\n",
       "<style scoped>\n",
       "    .dataframe tbody tr th:only-of-type {\n",
       "        vertical-align: middle;\n",
       "    }\n",
       "\n",
       "    .dataframe tbody tr th {\n",
       "        vertical-align: top;\n",
       "    }\n",
       "\n",
       "    .dataframe thead th {\n",
       "        text-align: right;\n",
       "    }\n",
       "</style>\n",
       "<table border=\"1\" class=\"dataframe\">\n",
       "  <thead>\n",
       "    <tr style=\"text-align: right;\">\n",
       "      <th></th>\n",
       "      <th>Account Status</th>\n",
       "      <th>Credit History</th>\n",
       "      <th>Purpose</th>\n",
       "      <th>Savings account or bonds</th>\n",
       "      <th>Present employment since</th>\n",
       "      <th>Personal status and sex</th>\n",
       "      <th>Other debtors or guarantors</th>\n",
       "      <th>Property</th>\n",
       "      <th>Other installment plans</th>\n",
       "      <th>Housing</th>\n",
       "      <th>Job</th>\n",
       "      <th>Telephone</th>\n",
       "      <th>Foreign worker</th>\n",
       "    </tr>\n",
       "  </thead>\n",
       "  <tbody>\n",
       "    <tr>\n",
       "      <th>0</th>\n",
       "      <td>Salary assignments for at least 1 year</td>\n",
       "      <td>critical account/ other credits existing (not ...</td>\n",
       "      <td>radio/television</td>\n",
       "      <td>Savings account</td>\n",
       "      <td>&gt; 7 years</td>\n",
       "      <td>male : single</td>\n",
       "      <td>none</td>\n",
       "      <td>real estate</td>\n",
       "      <td>none</td>\n",
       "      <td>own</td>\n",
       "      <td>skilled employee / official</td>\n",
       "      <td>yes, registered under the customers name</td>\n",
       "      <td>yes</td>\n",
       "    </tr>\n",
       "    <tr>\n",
       "      <th>1</th>\n",
       "      <td>Salary assignments for at least 2 year</td>\n",
       "      <td>existing credits paid back duly till now</td>\n",
       "      <td>radio/television</td>\n",
       "      <td>Savings account</td>\n",
       "      <td>1 - 4 years</td>\n",
       "      <td>female : divorced/separated/married</td>\n",
       "      <td>none</td>\n",
       "      <td>real estate</td>\n",
       "      <td>none</td>\n",
       "      <td>own</td>\n",
       "      <td>skilled employee / official</td>\n",
       "      <td>None</td>\n",
       "      <td>yes</td>\n",
       "    </tr>\n",
       "    <tr>\n",
       "      <th>2</th>\n",
       "      <td>No Checking account</td>\n",
       "      <td>critical account/ other credits existing (not ...</td>\n",
       "      <td>education</td>\n",
       "      <td>Savings account</td>\n",
       "      <td>4- 7 years</td>\n",
       "      <td>male : single</td>\n",
       "      <td>none</td>\n",
       "      <td>real estate</td>\n",
       "      <td>none</td>\n",
       "      <td>own</td>\n",
       "      <td>unskilled - resident</td>\n",
       "      <td>None</td>\n",
       "      <td>yes</td>\n",
       "    </tr>\n",
       "    <tr>\n",
       "      <th>3</th>\n",
       "      <td>Salary assignments for at least 1 year</td>\n",
       "      <td>existing credits paid back duly till now</td>\n",
       "      <td>furniture/equipment</td>\n",
       "      <td>Savings account</td>\n",
       "      <td>4- 7 years</td>\n",
       "      <td>male : single</td>\n",
       "      <td>guarantor</td>\n",
       "      <td>building society savings agreement/ life insur...</td>\n",
       "      <td>none</td>\n",
       "      <td>for free</td>\n",
       "      <td>skilled employee / official</td>\n",
       "      <td>None</td>\n",
       "      <td>yes</td>\n",
       "    </tr>\n",
       "    <tr>\n",
       "      <th>4</th>\n",
       "      <td>Salary assignments for at least 1 year</td>\n",
       "      <td>delay in paying off in the past</td>\n",
       "      <td>car(new)</td>\n",
       "      <td>Savings account</td>\n",
       "      <td>1 - 4 years</td>\n",
       "      <td>male : single</td>\n",
       "      <td>none</td>\n",
       "      <td>unknown / no property</td>\n",
       "      <td>none</td>\n",
       "      <td>for free</td>\n",
       "      <td>skilled employee / official</td>\n",
       "      <td>None</td>\n",
       "      <td>yes</td>\n",
       "    </tr>\n",
       "  </tbody>\n",
       "</table>\n",
       "</div>"
      ],
      "text/plain": [
       "                           Account Status  \\\n",
       "0  Salary assignments for at least 1 year   \n",
       "1  Salary assignments for at least 2 year   \n",
       "2                     No Checking account   \n",
       "3  Salary assignments for at least 1 year   \n",
       "4  Salary assignments for at least 1 year   \n",
       "\n",
       "                                      Credit History              Purpose  \\\n",
       "0  critical account/ other credits existing (not ...     radio/television   \n",
       "1           existing credits paid back duly till now     radio/television   \n",
       "2  critical account/ other credits existing (not ...            education   \n",
       "3           existing credits paid back duly till now  furniture/equipment   \n",
       "4                    delay in paying off in the past             car(new)   \n",
       "\n",
       "  Savings account or bonds Present employment since  \\\n",
       "0          Savings account                > 7 years   \n",
       "1          Savings account              1 - 4 years   \n",
       "2          Savings account               4- 7 years   \n",
       "3          Savings account               4- 7 years   \n",
       "4          Savings account              1 - 4 years   \n",
       "\n",
       "               Personal status and sex Other debtors or guarantors  \\\n",
       "0                        male : single                        none   \n",
       "1  female : divorced/separated/married                        none   \n",
       "2                        male : single                        none   \n",
       "3                        male : single                   guarantor   \n",
       "4                        male : single                        none   \n",
       "\n",
       "                                            Property Other installment plans  \\\n",
       "0                                        real estate                    none   \n",
       "1                                        real estate                    none   \n",
       "2                                        real estate                    none   \n",
       "3  building society savings agreement/ life insur...                    none   \n",
       "4                              unknown / no property                    none   \n",
       "\n",
       "    Housing                          Job  \\\n",
       "0       own  skilled employee / official   \n",
       "1       own  skilled employee / official   \n",
       "2       own         unskilled - resident   \n",
       "3  for free  skilled employee / official   \n",
       "4  for free  skilled employee / official   \n",
       "\n",
       "                                  Telephone Foreign worker  \n",
       "0  yes, registered under the customers name            yes  \n",
       "1                                      None            yes  \n",
       "2                                      None            yes  \n",
       "3                                      None            yes  \n",
       "4                                      None            yes  "
      ]
     },
     "execution_count": 7,
     "metadata": {},
     "output_type": "execute_result"
    }
   ],
   "source": [
    "df_cat = df.select_dtypes(['object']).copy()\n",
    "df_cat.head()"
   ]
  },
  {
   "cell_type": "code",
   "execution_count": 8,
   "metadata": {},
   "outputs": [
    {
     "data": {
      "text/html": [
       "<div>\n",
       "<style scoped>\n",
       "    .dataframe tbody tr th:only-of-type {\n",
       "        vertical-align: middle;\n",
       "    }\n",
       "\n",
       "    .dataframe tbody tr th {\n",
       "        vertical-align: top;\n",
       "    }\n",
       "\n",
       "    .dataframe thead th {\n",
       "        text-align: right;\n",
       "    }\n",
       "</style>\n",
       "<table border=\"1\" class=\"dataframe\">\n",
       "  <thead>\n",
       "    <tr style=\"text-align: right;\">\n",
       "      <th></th>\n",
       "      <th>Account Status</th>\n",
       "      <th>Credit History</th>\n",
       "      <th>Purpose</th>\n",
       "      <th>Savings account or bonds</th>\n",
       "      <th>Present employment since</th>\n",
       "      <th>Personal status and sex</th>\n",
       "      <th>Other debtors or guarantors</th>\n",
       "      <th>Property</th>\n",
       "      <th>Other installment plans</th>\n",
       "      <th>Housing</th>\n",
       "      <th>Job</th>\n",
       "      <th>Telephone</th>\n",
       "      <th>Foreign worker</th>\n",
       "    </tr>\n",
       "  </thead>\n",
       "  <tbody>\n",
       "    <tr>\n",
       "      <th>count</th>\n",
       "      <td>1000</td>\n",
       "      <td>1000</td>\n",
       "      <td>1000</td>\n",
       "      <td>1000</td>\n",
       "      <td>1000</td>\n",
       "      <td>1000</td>\n",
       "      <td>1000</td>\n",
       "      <td>1000</td>\n",
       "      <td>1000</td>\n",
       "      <td>1000</td>\n",
       "      <td>1000</td>\n",
       "      <td>1000</td>\n",
       "      <td>1000</td>\n",
       "    </tr>\n",
       "    <tr>\n",
       "      <th>unique</th>\n",
       "      <td>4</td>\n",
       "      <td>5</td>\n",
       "      <td>10</td>\n",
       "      <td>1</td>\n",
       "      <td>5</td>\n",
       "      <td>4</td>\n",
       "      <td>3</td>\n",
       "      <td>4</td>\n",
       "      <td>3</td>\n",
       "      <td>3</td>\n",
       "      <td>4</td>\n",
       "      <td>2</td>\n",
       "      <td>2</td>\n",
       "    </tr>\n",
       "    <tr>\n",
       "      <th>top</th>\n",
       "      <td>No Checking account</td>\n",
       "      <td>existing credits paid back duly till now</td>\n",
       "      <td>radio/television</td>\n",
       "      <td>Savings account</td>\n",
       "      <td>1 - 4 years</td>\n",
       "      <td>male : single</td>\n",
       "      <td>none</td>\n",
       "      <td>car or other, not in attribute 6</td>\n",
       "      <td>none</td>\n",
       "      <td>own</td>\n",
       "      <td>skilled employee / official</td>\n",
       "      <td>None</td>\n",
       "      <td>yes</td>\n",
       "    </tr>\n",
       "    <tr>\n",
       "      <th>freq</th>\n",
       "      <td>394</td>\n",
       "      <td>530</td>\n",
       "      <td>280</td>\n",
       "      <td>1000</td>\n",
       "      <td>339</td>\n",
       "      <td>548</td>\n",
       "      <td>907</td>\n",
       "      <td>332</td>\n",
       "      <td>814</td>\n",
       "      <td>713</td>\n",
       "      <td>630</td>\n",
       "      <td>596</td>\n",
       "      <td>963</td>\n",
       "    </tr>\n",
       "  </tbody>\n",
       "</table>\n",
       "</div>"
      ],
      "text/plain": [
       "             Account Status                            Credit History  \\\n",
       "count                  1000                                      1000   \n",
       "unique                    4                                         5   \n",
       "top     No Checking account  existing credits paid back duly till now   \n",
       "freq                    394                                       530   \n",
       "\n",
       "                 Purpose Savings account or bonds Present employment since  \\\n",
       "count               1000                     1000                     1000   \n",
       "unique                10                        1                        5   \n",
       "top     radio/television          Savings account              1 - 4 years   \n",
       "freq                 280                     1000                      339   \n",
       "\n",
       "       Personal status and sex Other debtors or guarantors  \\\n",
       "count                     1000                        1000   \n",
       "unique                       4                           3   \n",
       "top              male : single                        none   \n",
       "freq                       548                         907   \n",
       "\n",
       "                                Property Other installment plans Housing  \\\n",
       "count                               1000                    1000    1000   \n",
       "unique                                 4                       3       3   \n",
       "top     car or other, not in attribute 6                    none     own   \n",
       "freq                                 332                     814     713   \n",
       "\n",
       "                                Job Telephone Foreign worker  \n",
       "count                          1000      1000           1000  \n",
       "unique                            4         2              2  \n",
       "top     skilled employee / official      None            yes  \n",
       "freq                            630       596            963  "
      ]
     },
     "execution_count": 8,
     "metadata": {},
     "output_type": "execute_result"
    }
   ],
   "source": [
    "df_cat.describe()"
   ]
  },
  {
   "cell_type": "code",
   "execution_count": 9,
   "metadata": {},
   "outputs": [
    {
     "name": "stdout",
     "output_type": "stream",
     "text": [
      "Account Status :\n",
      "['Salary assignments for at least 1 year'\n",
      " 'Salary assignments for at least 2 year' 'No Checking account'\n",
      " 'Salary assignments for at least 3 year']\n",
      "Credit History :\n",
      "['critical account/ other credits existing (not at this bank)'\n",
      " 'existing credits paid back duly till now'\n",
      " 'delay in paying off in the past'\n",
      " 'no credits taken/ all credits paid back duly'\n",
      " 'all credits at this bank paid back duly']\n",
      "Purpose :\n",
      "['radio/television' 'education' 'furniture/equipment' 'car(new)'\n",
      " 'car(used)' 'business' 'domestic appliances' 'repairs' 'others'\n",
      " 'retraining']\n",
      "Savings account or bonds :\n",
      "['Savings account']\n",
      "Present employment since :\n",
      "['> 7 years' '1 - 4 years' '4- 7 years' 'unemployed' ' < 1 year']\n",
      "Personal status and sex :\n",
      "['male : single' 'female : divorced/separated/married'\n",
      " 'male : divorced/separated' 'male : married/widowed']\n",
      "Other debtors or guarantors :\n",
      "['none' 'guarantor' 'co-applicant']\n",
      "Property :\n",
      "['real estate' 'building society savings agreement/ life insurance'\n",
      " 'unknown / no property' 'car or other, not in attribute 6']\n",
      "Other installment plans :\n",
      "['none' 'bank' 'stores']\n",
      "Housing :\n",
      "['own' 'for free' 'rent']\n",
      "Job :\n",
      "['skilled employee / official' 'unskilled - resident'\n",
      " 'management/ self-employed/\\nhighly qualified employee/ officer'\n",
      " 'unemployed/ unskilled - non-resident']\n",
      "Telephone :\n",
      "['yes, registered under the customers name' 'None']\n",
      "Foreign worker :\n",
      "['yes' 'no']\n"
     ]
    }
   ],
   "source": [
    "for col in df_cat:\n",
    "    print (col+ \" :\")\n",
    "    print(df_cat[col].unique())"
   ]
  },
  {
   "cell_type": "code",
   "execution_count": 10,
   "metadata": {},
   "outputs": [
    {
     "data": {
      "text/html": [
       "<div>\n",
       "<style scoped>\n",
       "    .dataframe tbody tr th:only-of-type {\n",
       "        vertical-align: middle;\n",
       "    }\n",
       "\n",
       "    .dataframe tbody tr th {\n",
       "        vertical-align: top;\n",
       "    }\n",
       "\n",
       "    .dataframe thead th {\n",
       "        text-align: right;\n",
       "    }\n",
       "</style>\n",
       "<table border=\"1\" class=\"dataframe\">\n",
       "  <thead>\n",
       "    <tr style=\"text-align: right;\">\n",
       "      <th></th>\n",
       "      <th>Account Status</th>\n",
       "      <th>Duration in month</th>\n",
       "      <th>Credit History</th>\n",
       "      <th>Purpose</th>\n",
       "      <th>Credit amount</th>\n",
       "      <th>Savings account or bonds</th>\n",
       "      <th>Present employment since</th>\n",
       "      <th>Instalment rate in percentage of disposable income</th>\n",
       "      <th>Personal status and sex</th>\n",
       "      <th>Other debtors or guarantors</th>\n",
       "      <th>...</th>\n",
       "      <th>Property</th>\n",
       "      <th>Age in years</th>\n",
       "      <th>Other installment plans</th>\n",
       "      <th>Housing</th>\n",
       "      <th>Number of existing credits at this bank</th>\n",
       "      <th>Job</th>\n",
       "      <th>Number of people being liable to provide maintenance for</th>\n",
       "      <th>Telephone</th>\n",
       "      <th>Foreign worker</th>\n",
       "      <th>Target</th>\n",
       "    </tr>\n",
       "  </thead>\n",
       "  <tbody>\n",
       "    <tr>\n",
       "      <th>0</th>\n",
       "      <td>0</td>\n",
       "      <td>6</td>\n",
       "      <td>0</td>\n",
       "      <td>0</td>\n",
       "      <td>1169</td>\n",
       "      <td>Savings account</td>\n",
       "      <td>0</td>\n",
       "      <td>4</td>\n",
       "      <td>0</td>\n",
       "      <td>0</td>\n",
       "      <td>...</td>\n",
       "      <td>0</td>\n",
       "      <td>67</td>\n",
       "      <td>0</td>\n",
       "      <td>0</td>\n",
       "      <td>2</td>\n",
       "      <td>0</td>\n",
       "      <td>1</td>\n",
       "      <td>0</td>\n",
       "      <td>0</td>\n",
       "      <td>1</td>\n",
       "    </tr>\n",
       "    <tr>\n",
       "      <th>1</th>\n",
       "      <td>1</td>\n",
       "      <td>48</td>\n",
       "      <td>1</td>\n",
       "      <td>0</td>\n",
       "      <td>5951</td>\n",
       "      <td>Savings account</td>\n",
       "      <td>2</td>\n",
       "      <td>2</td>\n",
       "      <td>1</td>\n",
       "      <td>0</td>\n",
       "      <td>...</td>\n",
       "      <td>0</td>\n",
       "      <td>22</td>\n",
       "      <td>0</td>\n",
       "      <td>0</td>\n",
       "      <td>1</td>\n",
       "      <td>0</td>\n",
       "      <td>1</td>\n",
       "      <td>1</td>\n",
       "      <td>0</td>\n",
       "      <td>2</td>\n",
       "    </tr>\n",
       "    <tr>\n",
       "      <th>2</th>\n",
       "      <td>3</td>\n",
       "      <td>12</td>\n",
       "      <td>0</td>\n",
       "      <td>1</td>\n",
       "      <td>2096</td>\n",
       "      <td>Savings account</td>\n",
       "      <td>1</td>\n",
       "      <td>2</td>\n",
       "      <td>0</td>\n",
       "      <td>0</td>\n",
       "      <td>...</td>\n",
       "      <td>0</td>\n",
       "      <td>49</td>\n",
       "      <td>0</td>\n",
       "      <td>0</td>\n",
       "      <td>1</td>\n",
       "      <td>1</td>\n",
       "      <td>2</td>\n",
       "      <td>1</td>\n",
       "      <td>0</td>\n",
       "      <td>1</td>\n",
       "    </tr>\n",
       "    <tr>\n",
       "      <th>3</th>\n",
       "      <td>0</td>\n",
       "      <td>42</td>\n",
       "      <td>1</td>\n",
       "      <td>2</td>\n",
       "      <td>7882</td>\n",
       "      <td>Savings account</td>\n",
       "      <td>1</td>\n",
       "      <td>2</td>\n",
       "      <td>0</td>\n",
       "      <td>1</td>\n",
       "      <td>...</td>\n",
       "      <td>1</td>\n",
       "      <td>45</td>\n",
       "      <td>0</td>\n",
       "      <td>1</td>\n",
       "      <td>1</td>\n",
       "      <td>0</td>\n",
       "      <td>2</td>\n",
       "      <td>1</td>\n",
       "      <td>0</td>\n",
       "      <td>1</td>\n",
       "    </tr>\n",
       "    <tr>\n",
       "      <th>4</th>\n",
       "      <td>0</td>\n",
       "      <td>24</td>\n",
       "      <td>2</td>\n",
       "      <td>3</td>\n",
       "      <td>4870</td>\n",
       "      <td>Savings account</td>\n",
       "      <td>2</td>\n",
       "      <td>3</td>\n",
       "      <td>0</td>\n",
       "      <td>0</td>\n",
       "      <td>...</td>\n",
       "      <td>2</td>\n",
       "      <td>53</td>\n",
       "      <td>0</td>\n",
       "      <td>1</td>\n",
       "      <td>2</td>\n",
       "      <td>0</td>\n",
       "      <td>2</td>\n",
       "      <td>1</td>\n",
       "      <td>0</td>\n",
       "      <td>2</td>\n",
       "    </tr>\n",
       "  </tbody>\n",
       "</table>\n",
       "<p>5 rows × 21 columns</p>\n",
       "</div>"
      ],
      "text/plain": [
       "   Account Status  Duration in month  Credit History  Purpose  Credit amount  \\\n",
       "0               0                  6               0        0           1169   \n",
       "1               1                 48               1        0           5951   \n",
       "2               3                 12               0        1           2096   \n",
       "3               0                 42               1        2           7882   \n",
       "4               0                 24               2        3           4870   \n",
       "\n",
       "  Savings account or bonds  Present employment since  \\\n",
       "0          Savings account                         0   \n",
       "1          Savings account                         2   \n",
       "2          Savings account                         1   \n",
       "3          Savings account                         1   \n",
       "4          Savings account                         2   \n",
       "\n",
       "   Instalment rate in percentage of disposable income  \\\n",
       "0                                                  4    \n",
       "1                                                  2    \n",
       "2                                                  2    \n",
       "3                                                  2    \n",
       "4                                                  3    \n",
       "\n",
       "   Personal status and sex  Other debtors or guarantors  ...  Property  \\\n",
       "0                        0                            0  ...         0   \n",
       "1                        1                            0  ...         0   \n",
       "2                        0                            0  ...         0   \n",
       "3                        0                            1  ...         1   \n",
       "4                        0                            0  ...         2   \n",
       "\n",
       "   Age in years  Other installment plans  Housing  \\\n",
       "0            67                        0        0   \n",
       "1            22                        0        0   \n",
       "2            49                        0        0   \n",
       "3            45                        0        1   \n",
       "4            53                        0        1   \n",
       "\n",
       "   Number of existing credits at this bank  Job  \\\n",
       "0                                        2    0   \n",
       "1                                        1    0   \n",
       "2                                        1    1   \n",
       "3                                        1    0   \n",
       "4                                        2    0   \n",
       "\n",
       "   Number of people being liable to provide maintenance for  Telephone  \\\n",
       "0                                                  1                 0   \n",
       "1                                                  1                 1   \n",
       "2                                                  2                 1   \n",
       "3                                                  2                 1   \n",
       "4                                                  2                 1   \n",
       "\n",
       "   Foreign worker  Target  \n",
       "0               0       1  \n",
       "1               0       2  \n",
       "2               0       1  \n",
       "3               0       1  \n",
       "4               0       2  \n",
       "\n",
       "[5 rows x 21 columns]"
      ]
     },
     "execution_count": 10,
     "metadata": {},
     "output_type": "execute_result"
    }
   ],
   "source": [
    "# account status\n",
    "df['Account Status'] = df['Account Status'].map({'Salary assignments for at least 1 year':0,\n",
    "                                                  'Salary assignments for at least 2 year':1,\n",
    "                                                  'Salary assignments for at least 3 year':2,\n",
    "                                                  'No Checking account': 3}).astype(int)\n",
    "#credit history\n",
    "df['Credit History'] = df['Credit History'].map( {'critical account/ other credits existing (not at this bank)':0, \n",
    "                                                  'existing credits paid back duly till now':1, \n",
    "                                                  'delay in paying off in the past':2,\n",
    "                                                  'no credits taken/ all credits paid back duly': 3,\n",
    "                                                  'all credits at this bank paid back duly':4}).astype(int)\n",
    "#Purpose \n",
    "df['Purpose'] = df['Purpose'].map( {'radio/television':0, 'education':1, 'furniture/equipment':2, 'car(new)':3,\n",
    "       'car(used)':4, 'business':5, 'domestic appliances':6, 'repairs':7, 'retraining':8, 'others':9} ).astype(int)\n",
    "\n",
    "#Savings account or bonds drop coz only 1 value cannot see correlation\n",
    "#df['Savings account or bonds'] = df['Savings account or bonds'].map( {'Savings account':0} ).astype(int)\n",
    "\n",
    "\n",
    "#Present employment since \n",
    "df['Present employment since'] = df['Present employment since'].map({'> 7 years':0,\n",
    "                                                                      '4- 7 years':1,\n",
    "                                                                      '1 - 4 years':2,\n",
    "                                                                      ' < 1 year':3,\n",
    "                                                                      'unemployed':4}).astype(int) \n",
    "\n",
    "#Personal status and sex \n",
    "df['Personal status and sex'] = df['Personal status and sex'].map( {'male : single':0, 'female : divorced/separated/married':1,\n",
    "                                                                      'male : divorced/separated':2,\n",
    "                                                                      'male : married/widowed':3}).astype(int)  \n",
    "#Other debtors or guarantors\n",
    "df['Other debtors or guarantors'] = df['Other debtors or guarantors'].map( {'none':0, 'guarantor':1, \n",
    "                                   'co-applicant':2}).astype(int)\n",
    "#Property\n",
    "df['Property'] = df['Property'].map( {'real estate':0, 'building society savings agreement/ life insurance':1, \n",
    "                                   'unknown / no property':2, \n",
    "                                   'car or other, not in attribute 6': 3}).astype(int)\n",
    "\n",
    "#Other installment plans\n",
    "df['Other installment plans'] = df['Other installment plans'].map( {'none':0, 'bank':1, \n",
    "                                   'stores':2}).astype(int)\n",
    "\n",
    "#Housing\n",
    "df['Housing'] = df['Housing'].map( {'own':0, 'for free':1, \n",
    "                                   'rent':2}).astype(int)\n",
    "# job\n",
    "df['Job'] = df['Job'].map( {'skilled employee / official':0, 'unskilled - resident':1, \n",
    "                                   'management/ self-employed/\\nhighly qualified employee/ officer':2, \n",
    "                                   'unemployed/ unskilled - non-resident': 3}).astype(int)\n",
    "# Telephone \n",
    "df['Telephone'] = df['Telephone'].map( {'yes, registered under the customers name':0, 'None':1}).astype(int)\n",
    "\n",
    "# Foreign worker \n",
    "df['Foreign worker'] = df['Foreign worker'].map( {'yes':0, 'no':1}).astype(int)\n",
    "\n",
    "df.head()"
   ]
  },
  {
   "cell_type": "markdown",
   "metadata": {},
   "source": [
    "### Numerical data"
   ]
  },
  {
   "cell_type": "code",
   "execution_count": 145,
   "metadata": {},
   "outputs": [
    {
     "name": "stdout",
     "output_type": "stream",
     "text": [
      "<class 'pandas.core.frame.DataFrame'>\n",
      "RangeIndex: 1000 entries, 0 to 999\n",
      "Data columns (total 22 columns):\n",
      " #   Column                                                    Non-Null Count  Dtype \n",
      "---  ------                                                    --------------  ----- \n",
      " 0   Account Status                                            1000 non-null   int32 \n",
      " 1   Duration in month                                         1000 non-null   int64 \n",
      " 2   Credit History                                            1000 non-null   int32 \n",
      " 3   Purpose                                                   1000 non-null   int32 \n",
      " 4   Credit amount                                             1000 non-null   int64 \n",
      " 5   Savings account or bonds                                  1000 non-null   object\n",
      " 6   Present employment since                                  1000 non-null   int32 \n",
      " 7   Instalment rate in percentage of disposable income        1000 non-null   int64 \n",
      " 8   Personal status and sex                                   1000 non-null   int32 \n",
      " 9   Other debtors or guarantors                               1000 non-null   int32 \n",
      " 10  Present residence since                                   1000 non-null   int64 \n",
      " 11  Property                                                  1000 non-null   int32 \n",
      " 12  Age in years                                              1000 non-null   int64 \n",
      " 13  Other installment plans                                   1000 non-null   int32 \n",
      " 14  Housing                                                   1000 non-null   int32 \n",
      " 15  Number of existing credits at this bank                   1000 non-null   int64 \n",
      " 16  Job                                                       1000 non-null   int32 \n",
      " 17  Number of people being liable to provide maintenance for  1000 non-null   int64 \n",
      " 18  Telephone                                                 1000 non-null   int32 \n",
      " 19  Foreign worker                                            1000 non-null   int32 \n",
      " 20  Target                                                    1000 non-null   int64 \n",
      " 21  ClusteID                                                  1000 non-null   int32 \n",
      "dtypes: int32(13), int64(8), object(1)\n",
      "memory usage: 121.2+ KB\n"
     ]
    }
   ],
   "source": [
    "df.info()"
   ]
  },
  {
   "cell_type": "code",
   "execution_count": 12,
   "metadata": {},
   "outputs": [
    {
     "data": {
      "text/html": [
       "<div>\n",
       "<style scoped>\n",
       "    .dataframe tbody tr th:only-of-type {\n",
       "        vertical-align: middle;\n",
       "    }\n",
       "\n",
       "    .dataframe tbody tr th {\n",
       "        vertical-align: top;\n",
       "    }\n",
       "\n",
       "    .dataframe thead th {\n",
       "        text-align: right;\n",
       "    }\n",
       "</style>\n",
       "<table border=\"1\" class=\"dataframe\">\n",
       "  <thead>\n",
       "    <tr style=\"text-align: right;\">\n",
       "      <th></th>\n",
       "      <th>Duration in month</th>\n",
       "      <th>Credit amount</th>\n",
       "      <th>Instalment rate in percentage of disposable income</th>\n",
       "      <th>Present residence since</th>\n",
       "      <th>Age in years</th>\n",
       "      <th>Number of existing credits at this bank</th>\n",
       "      <th>Number of people being liable to provide maintenance for</th>\n",
       "      <th>Target</th>\n",
       "    </tr>\n",
       "  </thead>\n",
       "  <tbody>\n",
       "    <tr>\n",
       "      <th>0</th>\n",
       "      <td>6</td>\n",
       "      <td>1169</td>\n",
       "      <td>4</td>\n",
       "      <td>4</td>\n",
       "      <td>67</td>\n",
       "      <td>2</td>\n",
       "      <td>1</td>\n",
       "      <td>1</td>\n",
       "    </tr>\n",
       "    <tr>\n",
       "      <th>1</th>\n",
       "      <td>48</td>\n",
       "      <td>5951</td>\n",
       "      <td>2</td>\n",
       "      <td>2</td>\n",
       "      <td>22</td>\n",
       "      <td>1</td>\n",
       "      <td>1</td>\n",
       "      <td>2</td>\n",
       "    </tr>\n",
       "    <tr>\n",
       "      <th>2</th>\n",
       "      <td>12</td>\n",
       "      <td>2096</td>\n",
       "      <td>2</td>\n",
       "      <td>3</td>\n",
       "      <td>49</td>\n",
       "      <td>1</td>\n",
       "      <td>2</td>\n",
       "      <td>1</td>\n",
       "    </tr>\n",
       "    <tr>\n",
       "      <th>3</th>\n",
       "      <td>42</td>\n",
       "      <td>7882</td>\n",
       "      <td>2</td>\n",
       "      <td>4</td>\n",
       "      <td>45</td>\n",
       "      <td>1</td>\n",
       "      <td>2</td>\n",
       "      <td>1</td>\n",
       "    </tr>\n",
       "    <tr>\n",
       "      <th>4</th>\n",
       "      <td>24</td>\n",
       "      <td>4870</td>\n",
       "      <td>3</td>\n",
       "      <td>4</td>\n",
       "      <td>53</td>\n",
       "      <td>2</td>\n",
       "      <td>2</td>\n",
       "      <td>2</td>\n",
       "    </tr>\n",
       "  </tbody>\n",
       "</table>\n",
       "</div>"
      ],
      "text/plain": [
       "   Duration in month  Credit amount  \\\n",
       "0                  6           1169   \n",
       "1                 48           5951   \n",
       "2                 12           2096   \n",
       "3                 42           7882   \n",
       "4                 24           4870   \n",
       "\n",
       "   Instalment rate in percentage of disposable income  \\\n",
       "0                                                  4    \n",
       "1                                                  2    \n",
       "2                                                  2    \n",
       "3                                                  2    \n",
       "4                                                  3    \n",
       "\n",
       "   Present residence since  Age in years  \\\n",
       "0                        4            67   \n",
       "1                        2            22   \n",
       "2                        3            49   \n",
       "3                        4            45   \n",
       "4                        4            53   \n",
       "\n",
       "   Number of existing credits at this bank  \\\n",
       "0                                        2   \n",
       "1                                        1   \n",
       "2                                        1   \n",
       "3                                        1   \n",
       "4                                        2   \n",
       "\n",
       "   Number of people being liable to provide maintenance for  Target  \n",
       "0                                                  1              1  \n",
       "1                                                  1              2  \n",
       "2                                                  2              1  \n",
       "3                                                  2              1  \n",
       "4                                                  2              2  "
      ]
     },
     "execution_count": 12,
     "metadata": {},
     "output_type": "execute_result"
    }
   ],
   "source": [
    "df_num = df.select_dtypes(['int64', 'float64']).copy() # to get data only with float64 and int64 datatype\n",
    "df_num.head()"
   ]
  },
  {
   "cell_type": "code",
   "execution_count": 13,
   "metadata": {},
   "outputs": [
    {
     "data": {
      "text/html": [
       "<div>\n",
       "<style scoped>\n",
       "    .dataframe tbody tr th:only-of-type {\n",
       "        vertical-align: middle;\n",
       "    }\n",
       "\n",
       "    .dataframe tbody tr th {\n",
       "        vertical-align: top;\n",
       "    }\n",
       "\n",
       "    .dataframe thead th {\n",
       "        text-align: right;\n",
       "    }\n",
       "</style>\n",
       "<table border=\"1\" class=\"dataframe\">\n",
       "  <thead>\n",
       "    <tr style=\"text-align: right;\">\n",
       "      <th></th>\n",
       "      <th>Account Status</th>\n",
       "      <th>Duration in month</th>\n",
       "      <th>Credit History</th>\n",
       "      <th>Purpose</th>\n",
       "      <th>Credit amount</th>\n",
       "      <th>Present employment since</th>\n",
       "      <th>Instalment rate in percentage of disposable income</th>\n",
       "      <th>Personal status and sex</th>\n",
       "      <th>Other debtors or guarantors</th>\n",
       "      <th>Present residence since</th>\n",
       "      <th>Property</th>\n",
       "      <th>Age in years</th>\n",
       "      <th>Other installment plans</th>\n",
       "      <th>Housing</th>\n",
       "      <th>Number of existing credits at this bank</th>\n",
       "      <th>Job</th>\n",
       "      <th>Number of people being liable to provide maintenance for</th>\n",
       "      <th>Telephone</th>\n",
       "      <th>Foreign worker</th>\n",
       "      <th>Target</th>\n",
       "    </tr>\n",
       "  </thead>\n",
       "  <tbody>\n",
       "    <tr>\n",
       "      <th>0</th>\n",
       "      <td>0</td>\n",
       "      <td>6</td>\n",
       "      <td>0</td>\n",
       "      <td>0</td>\n",
       "      <td>1169</td>\n",
       "      <td>0</td>\n",
       "      <td>4</td>\n",
       "      <td>0</td>\n",
       "      <td>0</td>\n",
       "      <td>4</td>\n",
       "      <td>0</td>\n",
       "      <td>67</td>\n",
       "      <td>0</td>\n",
       "      <td>0</td>\n",
       "      <td>2</td>\n",
       "      <td>0</td>\n",
       "      <td>1</td>\n",
       "      <td>0</td>\n",
       "      <td>0</td>\n",
       "      <td>1</td>\n",
       "    </tr>\n",
       "    <tr>\n",
       "      <th>1</th>\n",
       "      <td>1</td>\n",
       "      <td>48</td>\n",
       "      <td>1</td>\n",
       "      <td>0</td>\n",
       "      <td>5951</td>\n",
       "      <td>2</td>\n",
       "      <td>2</td>\n",
       "      <td>1</td>\n",
       "      <td>0</td>\n",
       "      <td>2</td>\n",
       "      <td>0</td>\n",
       "      <td>22</td>\n",
       "      <td>0</td>\n",
       "      <td>0</td>\n",
       "      <td>1</td>\n",
       "      <td>0</td>\n",
       "      <td>1</td>\n",
       "      <td>1</td>\n",
       "      <td>0</td>\n",
       "      <td>2</td>\n",
       "    </tr>\n",
       "    <tr>\n",
       "      <th>2</th>\n",
       "      <td>3</td>\n",
       "      <td>12</td>\n",
       "      <td>0</td>\n",
       "      <td>1</td>\n",
       "      <td>2096</td>\n",
       "      <td>1</td>\n",
       "      <td>2</td>\n",
       "      <td>0</td>\n",
       "      <td>0</td>\n",
       "      <td>3</td>\n",
       "      <td>0</td>\n",
       "      <td>49</td>\n",
       "      <td>0</td>\n",
       "      <td>0</td>\n",
       "      <td>1</td>\n",
       "      <td>1</td>\n",
       "      <td>2</td>\n",
       "      <td>1</td>\n",
       "      <td>0</td>\n",
       "      <td>1</td>\n",
       "    </tr>\n",
       "    <tr>\n",
       "      <th>3</th>\n",
       "      <td>0</td>\n",
       "      <td>42</td>\n",
       "      <td>1</td>\n",
       "      <td>2</td>\n",
       "      <td>7882</td>\n",
       "      <td>1</td>\n",
       "      <td>2</td>\n",
       "      <td>0</td>\n",
       "      <td>1</td>\n",
       "      <td>4</td>\n",
       "      <td>1</td>\n",
       "      <td>45</td>\n",
       "      <td>0</td>\n",
       "      <td>1</td>\n",
       "      <td>1</td>\n",
       "      <td>0</td>\n",
       "      <td>2</td>\n",
       "      <td>1</td>\n",
       "      <td>0</td>\n",
       "      <td>1</td>\n",
       "    </tr>\n",
       "    <tr>\n",
       "      <th>4</th>\n",
       "      <td>0</td>\n",
       "      <td>24</td>\n",
       "      <td>2</td>\n",
       "      <td>3</td>\n",
       "      <td>4870</td>\n",
       "      <td>2</td>\n",
       "      <td>3</td>\n",
       "      <td>0</td>\n",
       "      <td>0</td>\n",
       "      <td>4</td>\n",
       "      <td>2</td>\n",
       "      <td>53</td>\n",
       "      <td>0</td>\n",
       "      <td>1</td>\n",
       "      <td>2</td>\n",
       "      <td>0</td>\n",
       "      <td>2</td>\n",
       "      <td>1</td>\n",
       "      <td>0</td>\n",
       "      <td>2</td>\n",
       "    </tr>\n",
       "  </tbody>\n",
       "</table>\n",
       "</div>"
      ],
      "text/plain": [
       "   Account Status  Duration in month  Credit History  Purpose  Credit amount  \\\n",
       "0               0                  6               0        0           1169   \n",
       "1               1                 48               1        0           5951   \n",
       "2               3                 12               0        1           2096   \n",
       "3               0                 42               1        2           7882   \n",
       "4               0                 24               2        3           4870   \n",
       "\n",
       "   Present employment since  \\\n",
       "0                         0   \n",
       "1                         2   \n",
       "2                         1   \n",
       "3                         1   \n",
       "4                         2   \n",
       "\n",
       "   Instalment rate in percentage of disposable income  \\\n",
       "0                                                  4    \n",
       "1                                                  2    \n",
       "2                                                  2    \n",
       "3                                                  2    \n",
       "4                                                  3    \n",
       "\n",
       "   Personal status and sex  Other debtors or guarantors  \\\n",
       "0                        0                            0   \n",
       "1                        1                            0   \n",
       "2                        0                            0   \n",
       "3                        0                            1   \n",
       "4                        0                            0   \n",
       "\n",
       "   Present residence since  Property  Age in years  Other installment plans  \\\n",
       "0                        4         0            67                        0   \n",
       "1                        2         0            22                        0   \n",
       "2                        3         0            49                        0   \n",
       "3                        4         1            45                        0   \n",
       "4                        4         2            53                        0   \n",
       "\n",
       "   Housing  Number of existing credits at this bank  Job  \\\n",
       "0        0                                        2    0   \n",
       "1        0                                        1    0   \n",
       "2        0                                        1    1   \n",
       "3        1                                        1    0   \n",
       "4        1                                        2    0   \n",
       "\n",
       "   Number of people being liable to provide maintenance for  Telephone  \\\n",
       "0                                                  1                 0   \n",
       "1                                                  1                 1   \n",
       "2                                                  2                 1   \n",
       "3                                                  2                 1   \n",
       "4                                                  2                 1   \n",
       "\n",
       "   Foreign worker  Target  \n",
       "0               0       1  \n",
       "1               0       2  \n",
       "2               0       1  \n",
       "3               0       1  \n",
       "4               0       2  "
      ]
     },
     "execution_count": 13,
     "metadata": {},
     "output_type": "execute_result"
    }
   ],
   "source": [
    "df_num_new = df.select_dtypes(['int64', 'float64','int32']).copy() # to get all data\n",
    "df_num_new.head()"
   ]
  },
  {
   "cell_type": "code",
   "execution_count": 14,
   "metadata": {},
   "outputs": [],
   "source": [
    "# add in possible categorical datset\n",
    "df_num = df_num.join(df[\"Job\"])\n",
    "df_num = df_num.join(df[\"Purpose\"])\n",
    "df_num = df_num.join(df[\"Credit History\"])"
   ]
  },
  {
   "cell_type": "code",
   "execution_count": 15,
   "metadata": {},
   "outputs": [
    {
     "data": {
      "text/plain": [
       "Text(0.5, 0.98, 'Numerical Variables')"
      ]
     },
     "execution_count": 15,
     "metadata": {},
     "output_type": "execute_result"
    },
    {
     "data": {
      "image/png": "[encoded data removed]",
      "text/plain": [
       "<Figure size 720x720 with 12 Axes>"
      ]
     },
     "metadata": {
      "needs_background": "light"
     },
     "output_type": "display_data"
    }
   ],
   "source": [
    "ax = df_num.hist(bins=25, grid=False, figsize=(10,10),zorder=2, rwidth=0.9)# plot the histogram for all numeric variables\n",
    "plt.suptitle(\"Numerical Variables\")"
   ]
  },
  {
   "cell_type": "code",
   "execution_count": 16,
   "metadata": {},
   "outputs": [
    {
     "data": {
      "image/png": "[encoded data removed]",
      "text/plain": [
       "<Figure size 1080x720 with 2 Axes>"
      ]
     },
     "metadata": {
      "needs_background": "light"
     },
     "output_type": "display_data"
    }
   ],
   "source": [
    "colormap = plt.cm.viridis\n",
    "plt.figure(figsize=(15,10))\n",
    "plt.title('Pearson Correlation of Features', size=15)\n",
    "ax = sns.heatmap(df_num_new.astype(float).corr(), cmap=colormap, annot=True)\n",
    "bottom, top = ax.get_ylim()\n",
    "ax.set_ylim(bottom + 0.5, top - 0.5)\n",
    "plt.show()"
   ]
  },
  {
   "cell_type": "markdown",
   "metadata": {},
   "source": [
    "### 1.2 K-Means Clustering"
   ]
  },
  {
   "cell_type": "markdown",
   "metadata": {},
   "source": [
    "First pair"
   ]
  },
  {
   "cell_type": "code",
   "execution_count": 17,
   "metadata": {},
   "outputs": [
    {
     "data": {
      "text/html": [
       "<div>\n",
       "<style scoped>\n",
       "    .dataframe tbody tr th:only-of-type {\n",
       "        vertical-align: middle;\n",
       "    }\n",
       "\n",
       "    .dataframe tbody tr th {\n",
       "        vertical-align: top;\n",
       "    }\n",
       "\n",
       "    .dataframe thead th {\n",
       "        text-align: right;\n",
       "    }\n",
       "</style>\n",
       "<table border=\"1\" class=\"dataframe\">\n",
       "  <thead>\n",
       "    <tr style=\"text-align: right;\">\n",
       "      <th></th>\n",
       "      <th>Duration in month</th>\n",
       "      <th>Credit amount</th>\n",
       "    </tr>\n",
       "  </thead>\n",
       "  <tbody>\n",
       "    <tr>\n",
       "      <th>count</th>\n",
       "      <td>1000.000000</td>\n",
       "      <td>1000.000000</td>\n",
       "    </tr>\n",
       "    <tr>\n",
       "      <th>mean</th>\n",
       "      <td>20.903000</td>\n",
       "      <td>3271.258000</td>\n",
       "    </tr>\n",
       "    <tr>\n",
       "      <th>std</th>\n",
       "      <td>12.058814</td>\n",
       "      <td>2822.736876</td>\n",
       "    </tr>\n",
       "    <tr>\n",
       "      <th>min</th>\n",
       "      <td>4.000000</td>\n",
       "      <td>250.000000</td>\n",
       "    </tr>\n",
       "    <tr>\n",
       "      <th>25%</th>\n",
       "      <td>12.000000</td>\n",
       "      <td>1365.500000</td>\n",
       "    </tr>\n",
       "    <tr>\n",
       "      <th>50%</th>\n",
       "      <td>18.000000</td>\n",
       "      <td>2319.500000</td>\n",
       "    </tr>\n",
       "    <tr>\n",
       "      <th>75%</th>\n",
       "      <td>24.000000</td>\n",
       "      <td>3972.250000</td>\n",
       "    </tr>\n",
       "    <tr>\n",
       "      <th>max</th>\n",
       "      <td>72.000000</td>\n",
       "      <td>18424.000000</td>\n",
       "    </tr>\n",
       "  </tbody>\n",
       "</table>\n",
       "</div>"
      ],
      "text/plain": [
       "       Duration in month  Credit amount\n",
       "count        1000.000000    1000.000000\n",
       "mean           20.903000    3271.258000\n",
       "std            12.058814    2822.736876\n",
       "min             4.000000     250.000000\n",
       "25%            12.000000    1365.500000\n",
       "50%            18.000000    2319.500000\n",
       "75%            24.000000    3972.250000\n",
       "max            72.000000   18424.000000"
      ]
     },
     "execution_count": 17,
     "metadata": {},
     "output_type": "execute_result"
    }
   ],
   "source": [
    "# Select Two colulmns: duration in Month and credit amount\n",
    "dfK = df_num.iloc[:,[0,1]]\n",
    "dfK.describe()"
   ]
  },
  {
   "cell_type": "code",
   "execution_count": 18,
   "metadata": {},
   "outputs": [],
   "source": [
    "X =dfK.values"
   ]
  },
  {
   "cell_type": "code",
   "execution_count": 19,
   "metadata": {},
   "outputs": [],
   "source": [
    "# Scaling the data so that all the features/attributes become comparable \n",
    "scaler = StandardScaler() \n",
    "XKmeans_scaled = scaler.fit_transform(X) "
   ]
  },
  {
   "cell_type": "code",
   "execution_count": 20,
   "metadata": {},
   "outputs": [
    {
     "data": {
      "text/plain": [
       "KMeans(n_clusters=3, n_init=20, random_state=1)"
      ]
     },
     "execution_count": 20,
     "metadata": {},
     "output_type": "execute_result"
    }
   ],
   "source": [
    "kmeans = KMeans(n_clusters=3, n_init=20, max_iter=300, random_state=1)\n",
    "kmeans.fit(XKmeans_scaled) # fit the model opn the dataset"
   ]
  },
  {
   "cell_type": "code",
   "execution_count": 21,
   "metadata": {
    "scrolled": true
   },
   "outputs": [
    {
     "name": "stderr",
     "output_type": "stream",
     "text": [
      "D:\\Anaconda\\lib\\site-packages\\sklearn\\cluster\\_kmeans.py:1036: UserWarning: KMeans is known to have a memory leak on Windows with MKL, when there are less chunks than available threads. You can avoid it by setting the environment variable OMP_NUM_THREADS=4.\n",
      "  warnings.warn(\n"
     ]
    },
    {
     "data": {
      "image/png": "[encoded data removed]",
      "text/plain": [
       "<Figure size 432x288 with 1 Axes>"
      ]
     },
     "metadata": {
      "needs_background": "light"
     },
     "output_type": "display_data"
    }
   ],
   "source": [
    "sse = []\n",
    "for i in range(1, 11):\n",
    "    kmeans = KMeans(n_clusters=i, n_init=20, random_state=1)\n",
    "    kmeans.fit(XKmeans_scaled)\n",
    "    sse.append(kmeans.inertia_)\n",
    "plt.plot(range(1, 11), sse, 'b-*')\n",
    "plt.title('Elbow Method')\n",
    "plt.xlabel('Number o f clusters')\n",
    "plt.ylabel('SSE')\n",
    "plt.show()"
   ]
  },
  {
   "cell_type": "code",
   "execution_count": 22,
   "metadata": {},
   "outputs": [
    {
     "name": "stdout",
     "output_type": "stream",
     "text": [
      "For n_clusters=2, the silhouette score is 0.5798632928012021\n",
      "For n_clusters=3, the silhouette score is 0.4477684286561745\n",
      "For n_clusters=4, the silhouette score is 0.4294842647939699\n",
      "For n_clusters=5, the silhouette score is 0.4550067144658257\n",
      "For n_clusters=6, the silhouette score is 0.44357127270194147\n",
      "For n_clusters=7, the silhouette score is 0.44044844477737105\n",
      "For n_clusters=8, the silhouette score is 0.4241715594513194\n"
     ]
    }
   ],
   "source": [
    "# Silhouette analysis\n",
    "range_n_clusters = [2, 3, 4, 5, 6, 7, 8]\n",
    "\n",
    "for num_clusters in range_n_clusters:\n",
    "    \n",
    "    # intialise kmeans\n",
    "    kmeans = KMeans(n_clusters=num_clusters, max_iter=50)\n",
    "    kmeans.fit(XKmeans_scaled)\n",
    "    \n",
    "    cluster_labels = kmeans.labels_\n",
    "    \n",
    "    # silhouette score\n",
    "    silhouette_avg = silhouette_score(XKmeans_scaled, cluster_labels)\n",
    "    print(\"For n_clusters={0}, the silhouette score is {1}\".format(num_clusters, silhouette_avg))"
   ]
  },
  {
   "cell_type": "markdown",
   "metadata": {},
   "source": [
    "Highest silhouette score is 0.579 for 2 clusters"
   ]
  },
  {
   "cell_type": "markdown",
   "metadata": {},
   "source": [
    "Second pair: start to choose based on age and other pair, as age is an obvious customer data"
   ]
  },
  {
   "cell_type": "code",
   "execution_count": 23,
   "metadata": {},
   "outputs": [
    {
     "data": {
      "text/html": [
       "<div>\n",
       "<style scoped>\n",
       "    .dataframe tbody tr th:only-of-type {\n",
       "        vertical-align: middle;\n",
       "    }\n",
       "\n",
       "    .dataframe tbody tr th {\n",
       "        vertical-align: top;\n",
       "    }\n",
       "\n",
       "    .dataframe thead th {\n",
       "        text-align: right;\n",
       "    }\n",
       "</style>\n",
       "<table border=\"1\" class=\"dataframe\">\n",
       "  <thead>\n",
       "    <tr style=\"text-align: right;\">\n",
       "      <th></th>\n",
       "      <th>Credit amount</th>\n",
       "      <th>Age in years</th>\n",
       "    </tr>\n",
       "  </thead>\n",
       "  <tbody>\n",
       "    <tr>\n",
       "      <th>count</th>\n",
       "      <td>1000.000000</td>\n",
       "      <td>1000.000000</td>\n",
       "    </tr>\n",
       "    <tr>\n",
       "      <th>mean</th>\n",
       "      <td>3271.258000</td>\n",
       "      <td>35.546000</td>\n",
       "    </tr>\n",
       "    <tr>\n",
       "      <th>std</th>\n",
       "      <td>2822.736876</td>\n",
       "      <td>11.375469</td>\n",
       "    </tr>\n",
       "    <tr>\n",
       "      <th>min</th>\n",
       "      <td>250.000000</td>\n",
       "      <td>19.000000</td>\n",
       "    </tr>\n",
       "    <tr>\n",
       "      <th>25%</th>\n",
       "      <td>1365.500000</td>\n",
       "      <td>27.000000</td>\n",
       "    </tr>\n",
       "    <tr>\n",
       "      <th>50%</th>\n",
       "      <td>2319.500000</td>\n",
       "      <td>33.000000</td>\n",
       "    </tr>\n",
       "    <tr>\n",
       "      <th>75%</th>\n",
       "      <td>3972.250000</td>\n",
       "      <td>42.000000</td>\n",
       "    </tr>\n",
       "    <tr>\n",
       "      <th>max</th>\n",
       "      <td>18424.000000</td>\n",
       "      <td>75.000000</td>\n",
       "    </tr>\n",
       "  </tbody>\n",
       "</table>\n",
       "</div>"
      ],
      "text/plain": [
       "       Credit amount  Age in years\n",
       "count    1000.000000   1000.000000\n",
       "mean     3271.258000     35.546000\n",
       "std      2822.736876     11.375469\n",
       "min       250.000000     19.000000\n",
       "25%      1365.500000     27.000000\n",
       "50%      2319.500000     33.000000\n",
       "75%      3972.250000     42.000000\n",
       "max     18424.000000     75.000000"
      ]
     },
     "execution_count": 23,
     "metadata": {},
     "output_type": "execute_result"
    }
   ],
   "source": [
    "# Select Two colulmns: credit amount and age in years\n",
    "dfK = df_num.iloc[:,[1,4]]\n",
    "dfK.describe()"
   ]
  },
  {
   "cell_type": "code",
   "execution_count": 24,
   "metadata": {},
   "outputs": [],
   "source": [
    "X =dfK.values\n",
    "scaler = StandardScaler() \n",
    "XKmeans_scaled = scaler.fit_transform(X) "
   ]
  },
  {
   "cell_type": "code",
   "execution_count": 25,
   "metadata": {},
   "outputs": [
    {
     "data": {
      "text/plain": [
       "KMeans(n_clusters=3, n_init=20, random_state=1)"
      ]
     },
     "execution_count": 25,
     "metadata": {},
     "output_type": "execute_result"
    }
   ],
   "source": [
    "kmeans = KMeans(n_clusters=3, n_init=20, max_iter=300, random_state=1)\n",
    "kmeans.fit(XKmeans_scaled) # fit the model opn the dataset"
   ]
  },
  {
   "cell_type": "code",
   "execution_count": 26,
   "metadata": {},
   "outputs": [
    {
     "name": "stdout",
     "output_type": "stream",
     "text": [
      "For n_clusters=2, the silhouette score is 0.47542616900687223\n",
      "For n_clusters=3, the silhouette score is 0.49028899057027964\n",
      "For n_clusters=4, the silhouette score is 0.3850131109111199\n",
      "For n_clusters=5, the silhouette score is 0.3990151036492397\n",
      "For n_clusters=6, the silhouette score is 0.40684192431800226\n",
      "For n_clusters=7, the silhouette score is 0.3779572522247257\n",
      "For n_clusters=8, the silhouette score is 0.385671874003163\n"
     ]
    }
   ],
   "source": [
    "# Silhouette analysis\n",
    "range_n_clusters = [2, 3, 4, 5, 6, 7, 8]\n",
    "\n",
    "for num_clusters in range_n_clusters:\n",
    "    \n",
    "    # intialise kmeans\n",
    "    kmeans = KMeans(n_clusters=num_clusters, max_iter=50)\n",
    "    kmeans.fit(XKmeans_scaled)\n",
    "    \n",
    "    cluster_labels = kmeans.labels_\n",
    "    \n",
    "    # silhouette score\n",
    "    silhouette_avg = silhouette_score(XKmeans_scaled, cluster_labels)\n",
    "    print(\"For n_clusters={0}, the silhouette score is {1}\".format(num_clusters, silhouette_avg))"
   ]
  },
  {
   "cell_type": "markdown",
   "metadata": {},
   "source": [
    "The highest silhouette score is 0.49 for 3 clusters"
   ]
  },
  {
   "cell_type": "code",
   "execution_count": 27,
   "metadata": {},
   "outputs": [
    {
     "data": {
      "text/html": [
       "<div>\n",
       "<style scoped>\n",
       "    .dataframe tbody tr th:only-of-type {\n",
       "        vertical-align: middle;\n",
       "    }\n",
       "\n",
       "    .dataframe tbody tr th {\n",
       "        vertical-align: top;\n",
       "    }\n",
       "\n",
       "    .dataframe thead th {\n",
       "        text-align: right;\n",
       "    }\n",
       "</style>\n",
       "<table border=\"1\" class=\"dataframe\">\n",
       "  <thead>\n",
       "    <tr style=\"text-align: right;\">\n",
       "      <th></th>\n",
       "      <th>Age in years</th>\n",
       "      <th>Instalment rate in percentage of disposable income</th>\n",
       "    </tr>\n",
       "  </thead>\n",
       "  <tbody>\n",
       "    <tr>\n",
       "      <th>count</th>\n",
       "      <td>1000.000000</td>\n",
       "      <td>1000.000000</td>\n",
       "    </tr>\n",
       "    <tr>\n",
       "      <th>mean</th>\n",
       "      <td>35.546000</td>\n",
       "      <td>2.973000</td>\n",
       "    </tr>\n",
       "    <tr>\n",
       "      <th>std</th>\n",
       "      <td>11.375469</td>\n",
       "      <td>1.118715</td>\n",
       "    </tr>\n",
       "    <tr>\n",
       "      <th>min</th>\n",
       "      <td>19.000000</td>\n",
       "      <td>1.000000</td>\n",
       "    </tr>\n",
       "    <tr>\n",
       "      <th>25%</th>\n",
       "      <td>27.000000</td>\n",
       "      <td>2.000000</td>\n",
       "    </tr>\n",
       "    <tr>\n",
       "      <th>50%</th>\n",
       "      <td>33.000000</td>\n",
       "      <td>3.000000</td>\n",
       "    </tr>\n",
       "    <tr>\n",
       "      <th>75%</th>\n",
       "      <td>42.000000</td>\n",
       "      <td>4.000000</td>\n",
       "    </tr>\n",
       "    <tr>\n",
       "      <th>max</th>\n",
       "      <td>75.000000</td>\n",
       "      <td>4.000000</td>\n",
       "    </tr>\n",
       "  </tbody>\n",
       "</table>\n",
       "</div>"
      ],
      "text/plain": [
       "       Age in years  Instalment rate in percentage of disposable income\n",
       "count   1000.000000                                        1000.000000 \n",
       "mean      35.546000                                           2.973000 \n",
       "std       11.375469                                           1.118715 \n",
       "min       19.000000                                           1.000000 \n",
       "25%       27.000000                                           2.000000 \n",
       "50%       33.000000                                           3.000000 \n",
       "75%       42.000000                                           4.000000 \n",
       "max       75.000000                                           4.000000 "
      ]
     },
     "execution_count": 27,
     "metadata": {},
     "output_type": "execute_result"
    }
   ],
   "source": [
    "# Select Two colulmns:  age in years, Instalment rate in percentage of disposable income\n",
    "dfK = df_num.iloc[:,[4,2]]\n",
    "dfK.describe()"
   ]
  },
  {
   "cell_type": "code",
   "execution_count": 28,
   "metadata": {},
   "outputs": [],
   "source": [
    "X =dfK.values\n",
    "scaler = StandardScaler() \n",
    "XKmeans_scaled = scaler.fit_transform(X) "
   ]
  },
  {
   "cell_type": "code",
   "execution_count": 29,
   "metadata": {},
   "outputs": [
    {
     "data": {
      "text/plain": [
       "KMeans(n_clusters=3, n_init=20, random_state=1)"
      ]
     },
     "execution_count": 29,
     "metadata": {},
     "output_type": "execute_result"
    }
   ],
   "source": [
    "kmeans = KMeans(n_clusters=3, n_init=20, max_iter=300, random_state=1)\n",
    "kmeans.fit(XKmeans_scaled) # fit the model opn the dataset"
   ]
  },
  {
   "cell_type": "code",
   "execution_count": 30,
   "metadata": {},
   "outputs": [
    {
     "name": "stdout",
     "output_type": "stream",
     "text": [
      "For n_clusters=2, the silhouette score is 0.4510138036439349\n",
      "For n_clusters=3, the silhouette score is 0.49580260108819413\n",
      "For n_clusters=4, the silhouette score is 0.49564400114246054\n",
      "For n_clusters=5, the silhouette score is 0.45051483618432087\n",
      "For n_clusters=6, the silhouette score is 0.44009750182689017\n",
      "For n_clusters=7, the silhouette score is 0.4639826859468333\n",
      "For n_clusters=8, the silhouette score is 0.4978515084260395\n",
      "For n_clusters=9, the silhouette score is 0.512968031825851\n",
      "For n_clusters=10, the silhouette score is 0.5293496074327201\n",
      "For n_clusters=11, the silhouette score is 0.5331110070664753\n"
     ]
    }
   ],
   "source": [
    "# Silhouette analysis\n",
    "range_n_clusters = [2, 3, 4, 5, 6, 7, 8,9,10,11]\n",
    "\n",
    "for num_clusters in range_n_clusters:\n",
    "    \n",
    "    # intialise kmeans\n",
    "    kmeans = KMeans(n_clusters=num_clusters, max_iter=50)\n",
    "    kmeans.fit(XKmeans_scaled)\n",
    "    \n",
    "    cluster_labels = kmeans.labels_\n",
    "    \n",
    "    # silhouette score\n",
    "    silhouette_avg = silhouette_score(XKmeans_scaled, cluster_labels)\n",
    "    print(\"For n_clusters={0}, the silhouette score is {1}\".format(num_clusters, silhouette_avg))"
   ]
  },
  {
   "cell_type": "markdown",
   "metadata": {},
   "source": [
    "The highest silhouette score is 0.5288 for 10 clusters"
   ]
  },
  {
   "cell_type": "code",
   "execution_count": 31,
   "metadata": {},
   "outputs": [
    {
     "data": {
      "text/html": [
       "<div>\n",
       "<style scoped>\n",
       "    .dataframe tbody tr th:only-of-type {\n",
       "        vertical-align: middle;\n",
       "    }\n",
       "\n",
       "    .dataframe tbody tr th {\n",
       "        vertical-align: top;\n",
       "    }\n",
       "\n",
       "    .dataframe thead th {\n",
       "        text-align: right;\n",
       "    }\n",
       "</style>\n",
       "<table border=\"1\" class=\"dataframe\">\n",
       "  <thead>\n",
       "    <tr style=\"text-align: right;\">\n",
       "      <th></th>\n",
       "      <th>Age in years</th>\n",
       "      <th>Present residence since</th>\n",
       "    </tr>\n",
       "  </thead>\n",
       "  <tbody>\n",
       "    <tr>\n",
       "      <th>count</th>\n",
       "      <td>1000.000000</td>\n",
       "      <td>1000.000000</td>\n",
       "    </tr>\n",
       "    <tr>\n",
       "      <th>mean</th>\n",
       "      <td>35.546000</td>\n",
       "      <td>2.845000</td>\n",
       "    </tr>\n",
       "    <tr>\n",
       "      <th>std</th>\n",
       "      <td>11.375469</td>\n",
       "      <td>1.103718</td>\n",
       "    </tr>\n",
       "    <tr>\n",
       "      <th>min</th>\n",
       "      <td>19.000000</td>\n",
       "      <td>1.000000</td>\n",
       "    </tr>\n",
       "    <tr>\n",
       "      <th>25%</th>\n",
       "      <td>27.000000</td>\n",
       "      <td>2.000000</td>\n",
       "    </tr>\n",
       "    <tr>\n",
       "      <th>50%</th>\n",
       "      <td>33.000000</td>\n",
       "      <td>3.000000</td>\n",
       "    </tr>\n",
       "    <tr>\n",
       "      <th>75%</th>\n",
       "      <td>42.000000</td>\n",
       "      <td>4.000000</td>\n",
       "    </tr>\n",
       "    <tr>\n",
       "      <th>max</th>\n",
       "      <td>75.000000</td>\n",
       "      <td>4.000000</td>\n",
       "    </tr>\n",
       "  </tbody>\n",
       "</table>\n",
       "</div>"
      ],
      "text/plain": [
       "       Age in years  Present residence since\n",
       "count   1000.000000              1000.000000\n",
       "mean      35.546000                 2.845000\n",
       "std       11.375469                 1.103718\n",
       "min       19.000000                 1.000000\n",
       "25%       27.000000                 2.000000\n",
       "50%       33.000000                 3.000000\n",
       "75%       42.000000                 4.000000\n",
       "max       75.000000                 4.000000"
      ]
     },
     "execution_count": 31,
     "metadata": {},
     "output_type": "execute_result"
    }
   ],
   "source": [
    "# Select Two colulmns:  age in years, Present residence since\n",
    "\n",
    "dfK = df_num.iloc[:,[4,3]]\n",
    "dfK.describe()"
   ]
  },
  {
   "cell_type": "code",
   "execution_count": 32,
   "metadata": {},
   "outputs": [],
   "source": [
    "X =dfK.values\n",
    "scaler = StandardScaler() \n",
    "XKmeans_scaled = scaler.fit_transform(X) "
   ]
  },
  {
   "cell_type": "code",
   "execution_count": 33,
   "metadata": {},
   "outputs": [
    {
     "data": {
      "text/plain": [
       "KMeans(n_clusters=3, n_init=20, random_state=1)"
      ]
     },
     "execution_count": 33,
     "metadata": {},
     "output_type": "execute_result"
    }
   ],
   "source": [
    "kmeans = KMeans(n_clusters=3, n_init=20, max_iter=300, random_state=1)\n",
    "kmeans.fit(XKmeans_scaled) # fit the model opn the dataset"
   ]
  },
  {
   "cell_type": "code",
   "execution_count": 34,
   "metadata": {},
   "outputs": [
    {
     "name": "stdout",
     "output_type": "stream",
     "text": [
      "For n_clusters=2, the silhouette score is 0.44506912671278687\n",
      "For n_clusters=3, the silhouette score is 0.49340978338133795\n",
      "For n_clusters=4, the silhouette score is 0.4700042955077778\n",
      "For n_clusters=5, the silhouette score is 0.4698210001153013\n",
      "For n_clusters=6, the silhouette score is 0.4794925584997079\n",
      "For n_clusters=7, the silhouette score is 0.5293249497549977\n",
      "For n_clusters=8, the silhouette score is 0.5384642687991307\n",
      "For n_clusters=9, the silhouette score is 0.5316408229963049\n",
      "For n_clusters=10, the silhouette score is 0.5455589565245629\n",
      "For n_clusters=11, the silhouette score is 0.5584020748105116\n"
     ]
    }
   ],
   "source": [
    "# Silhouette analysis\n",
    "range_n_clusters = [2, 3, 4, 5, 6, 7, 8,9,10,11]\n",
    "\n",
    "for num_clusters in range_n_clusters:\n",
    "    \n",
    "    # intialise kmeans\n",
    "    kmeans = KMeans(n_clusters=num_clusters, max_iter=50)\n",
    "    kmeans.fit(XKmeans_scaled)\n",
    "    \n",
    "    cluster_labels = kmeans.labels_\n",
    "    \n",
    "    # silhouette score\n",
    "    silhouette_avg = silhouette_score(XKmeans_scaled, cluster_labels)\n",
    "    print(\"For n_clusters={0}, the silhouette score is {1}\".format(num_clusters, silhouette_avg))"
   ]
  },
  {
   "cell_type": "markdown",
   "metadata": {},
   "source": [
    "The highest silhouette score is 0.546 for 10 clusters"
   ]
  },
  {
   "cell_type": "code",
   "execution_count": 35,
   "metadata": {},
   "outputs": [
    {
     "data": {
      "text/html": [
       "<div>\n",
       "<style scoped>\n",
       "    .dataframe tbody tr th:only-of-type {\n",
       "        vertical-align: middle;\n",
       "    }\n",
       "\n",
       "    .dataframe tbody tr th {\n",
       "        vertical-align: top;\n",
       "    }\n",
       "\n",
       "    .dataframe thead th {\n",
       "        text-align: right;\n",
       "    }\n",
       "</style>\n",
       "<table border=\"1\" class=\"dataframe\">\n",
       "  <thead>\n",
       "    <tr style=\"text-align: right;\">\n",
       "      <th></th>\n",
       "      <th>Age in years</th>\n",
       "      <th>Number of existing credits at this bank</th>\n",
       "    </tr>\n",
       "  </thead>\n",
       "  <tbody>\n",
       "    <tr>\n",
       "      <th>count</th>\n",
       "      <td>1000.000000</td>\n",
       "      <td>1000.000000</td>\n",
       "    </tr>\n",
       "    <tr>\n",
       "      <th>mean</th>\n",
       "      <td>35.546000</td>\n",
       "      <td>1.407000</td>\n",
       "    </tr>\n",
       "    <tr>\n",
       "      <th>std</th>\n",
       "      <td>11.375469</td>\n",
       "      <td>0.577654</td>\n",
       "    </tr>\n",
       "    <tr>\n",
       "      <th>min</th>\n",
       "      <td>19.000000</td>\n",
       "      <td>1.000000</td>\n",
       "    </tr>\n",
       "    <tr>\n",
       "      <th>25%</th>\n",
       "      <td>27.000000</td>\n",
       "      <td>1.000000</td>\n",
       "    </tr>\n",
       "    <tr>\n",
       "      <th>50%</th>\n",
       "      <td>33.000000</td>\n",
       "      <td>1.000000</td>\n",
       "    </tr>\n",
       "    <tr>\n",
       "      <th>75%</th>\n",
       "      <td>42.000000</td>\n",
       "      <td>2.000000</td>\n",
       "    </tr>\n",
       "    <tr>\n",
       "      <th>max</th>\n",
       "      <td>75.000000</td>\n",
       "      <td>4.000000</td>\n",
       "    </tr>\n",
       "  </tbody>\n",
       "</table>\n",
       "</div>"
      ],
      "text/plain": [
       "       Age in years  Number of existing credits at this bank\n",
       "count   1000.000000                              1000.000000\n",
       "mean      35.546000                                 1.407000\n",
       "std       11.375469                                 0.577654\n",
       "min       19.000000                                 1.000000\n",
       "25%       27.000000                                 1.000000\n",
       "50%       33.000000                                 1.000000\n",
       "75%       42.000000                                 2.000000\n",
       "max       75.000000                                 4.000000"
      ]
     },
     "execution_count": 35,
     "metadata": {},
     "output_type": "execute_result"
    }
   ],
   "source": [
    "# Select Two colulmns:  age in years, Number of existing credits at this bank\n",
    "\n",
    "dfK = df_num.iloc[:,[4,5]]\n",
    "dfK.describe()"
   ]
  },
  {
   "cell_type": "code",
   "execution_count": 36,
   "metadata": {},
   "outputs": [],
   "source": [
    "X =dfK.values\n",
    "scaler = StandardScaler() \n",
    "XKmeans_scaled = scaler.fit_transform(X) "
   ]
  },
  {
   "cell_type": "code",
   "execution_count": 37,
   "metadata": {},
   "outputs": [
    {
     "data": {
      "text/plain": [
       "KMeans(n_clusters=3, n_init=20, random_state=1)"
      ]
     },
     "execution_count": 37,
     "metadata": {},
     "output_type": "execute_result"
    }
   ],
   "source": [
    "kmeans = KMeans(n_clusters=3, n_init=20, max_iter=300, random_state=1)\n",
    "kmeans.fit(XKmeans_scaled) # fit the model opn the dataset"
   ]
  },
  {
   "cell_type": "code",
   "execution_count": 38,
   "metadata": {},
   "outputs": [
    {
     "name": "stdout",
     "output_type": "stream",
     "text": [
      "For n_clusters=2, the silhouette score is 0.5146919160784551\n",
      "For n_clusters=3, the silhouette score is 0.565764455430633\n",
      "For n_clusters=4, the silhouette score is 0.5803996729646731\n",
      "For n_clusters=5, the silhouette score is 0.5581422185547894\n",
      "For n_clusters=6, the silhouette score is 0.5802945274817741\n",
      "For n_clusters=7, the silhouette score is 0.575339011580026\n",
      "For n_clusters=8, the silhouette score is 0.5718333896942677\n",
      "For n_clusters=9, the silhouette score is 0.5671288624009605\n",
      "For n_clusters=10, the silhouette score is 0.5674567753498836\n",
      "For n_clusters=11, the silhouette score is 0.5593393277401353\n"
     ]
    }
   ],
   "source": [
    "# Silhouette analysis\n",
    "range_n_clusters = [2, 3, 4, 5, 6, 7, 8,9,10,11]\n",
    "\n",
    "for num_clusters in range_n_clusters:\n",
    "    \n",
    "    # intialise kmeans\n",
    "    kmeans = KMeans(n_clusters=num_clusters, max_iter=50)\n",
    "    kmeans.fit(XKmeans_scaled)\n",
    "    \n",
    "    cluster_labels = kmeans.labels_\n",
    "    \n",
    "    # silhouette score\n",
    "    silhouette_avg = silhouette_score(XKmeans_scaled, cluster_labels)\n",
    "    print(\"For n_clusters={0}, the silhouette score is {1}\".format(num_clusters, silhouette_avg))"
   ]
  },
  {
   "cell_type": "markdown",
   "metadata": {},
   "source": [
    "The highest silhouette score is 0.581 for 4 clusters"
   ]
  },
  {
   "cell_type": "code",
   "execution_count": 39,
   "metadata": {},
   "outputs": [
    {
     "data": {
      "text/html": [
       "<div>\n",
       "<style scoped>\n",
       "    .dataframe tbody tr th:only-of-type {\n",
       "        vertical-align: middle;\n",
       "    }\n",
       "\n",
       "    .dataframe tbody tr th {\n",
       "        vertical-align: top;\n",
       "    }\n",
       "\n",
       "    .dataframe thead th {\n",
       "        text-align: right;\n",
       "    }\n",
       "</style>\n",
       "<table border=\"1\" class=\"dataframe\">\n",
       "  <thead>\n",
       "    <tr style=\"text-align: right;\">\n",
       "      <th></th>\n",
       "      <th>Age in years</th>\n",
       "      <th>Job</th>\n",
       "    </tr>\n",
       "  </thead>\n",
       "  <tbody>\n",
       "    <tr>\n",
       "      <th>count</th>\n",
       "      <td>1000.000000</td>\n",
       "      <td>1000.000000</td>\n",
       "    </tr>\n",
       "    <tr>\n",
       "      <th>mean</th>\n",
       "      <td>35.546000</td>\n",
       "      <td>0.562000</td>\n",
       "    </tr>\n",
       "    <tr>\n",
       "      <th>std</th>\n",
       "      <td>11.375469</td>\n",
       "      <td>0.821481</td>\n",
       "    </tr>\n",
       "    <tr>\n",
       "      <th>min</th>\n",
       "      <td>19.000000</td>\n",
       "      <td>0.000000</td>\n",
       "    </tr>\n",
       "    <tr>\n",
       "      <th>25%</th>\n",
       "      <td>27.000000</td>\n",
       "      <td>0.000000</td>\n",
       "    </tr>\n",
       "    <tr>\n",
       "      <th>50%</th>\n",
       "      <td>33.000000</td>\n",
       "      <td>0.000000</td>\n",
       "    </tr>\n",
       "    <tr>\n",
       "      <th>75%</th>\n",
       "      <td>42.000000</td>\n",
       "      <td>1.000000</td>\n",
       "    </tr>\n",
       "    <tr>\n",
       "      <th>max</th>\n",
       "      <td>75.000000</td>\n",
       "      <td>3.000000</td>\n",
       "    </tr>\n",
       "  </tbody>\n",
       "</table>\n",
       "</div>"
      ],
      "text/plain": [
       "       Age in years          Job\n",
       "count   1000.000000  1000.000000\n",
       "mean      35.546000     0.562000\n",
       "std       11.375469     0.821481\n",
       "min       19.000000     0.000000\n",
       "25%       27.000000     0.000000\n",
       "50%       33.000000     0.000000\n",
       "75%       42.000000     1.000000\n",
       "max       75.000000     3.000000"
      ]
     },
     "execution_count": 39,
     "metadata": {},
     "output_type": "execute_result"
    }
   ],
   "source": [
    "# Select Two colulmns:  age in years,Job\n",
    "\n",
    "dfK = df_num.iloc[:,[4,8]]\n",
    "dfK.describe()"
   ]
  },
  {
   "cell_type": "code",
   "execution_count": 40,
   "metadata": {},
   "outputs": [],
   "source": [
    "X =dfK.values\n",
    "scaler = StandardScaler() \n",
    "XKmeans_scaled = scaler.fit_transform(X) "
   ]
  },
  {
   "cell_type": "code",
   "execution_count": 41,
   "metadata": {},
   "outputs": [
    {
     "name": "stdout",
     "output_type": "stream",
     "text": [
      "For n_clusters=2, the silhouette score is 0.4695897135285688\n",
      "For n_clusters=3, the silhouette score is 0.5127962366581962\n",
      "For n_clusters=4, the silhouette score is 0.5210539816655906\n",
      "For n_clusters=5, the silhouette score is 0.5368375188918936\n",
      "For n_clusters=6, the silhouette score is 0.5159054527259529\n",
      "For n_clusters=7, the silhouette score is 0.555010930586237\n",
      "For n_clusters=8, the silhouette score is 0.5600833963985061\n",
      "For n_clusters=9, the silhouette score is 0.5577146912013629\n",
      "For n_clusters=10, the silhouette score is 0.5647475103738566\n",
      "For n_clusters=11, the silhouette score is 0.5770892886555942\n"
     ]
    }
   ],
   "source": [
    "# Silhouette analysis\n",
    "range_n_clusters = [2, 3, 4, 5, 6, 7, 8,9,10,11]\n",
    "\n",
    "for num_clusters in range_n_clusters:\n",
    "    \n",
    "    # intialise kmeans\n",
    "    kmeans = KMeans(n_clusters=num_clusters, max_iter=50)\n",
    "    kmeans.fit(XKmeans_scaled)\n",
    "    \n",
    "    cluster_labels = kmeans.labels_\n",
    "    \n",
    "    # silhouette score\n",
    "    silhouette_avg = silhouette_score(XKmeans_scaled, cluster_labels)\n",
    "    print(\"For n_clusters={0}, the silhouette score is {1}\".format(num_clusters, silhouette_avg))"
   ]
  },
  {
   "cell_type": "markdown",
   "metadata": {},
   "source": [
    "the highest silhouette score is 0.5648 at 11 clusters, it might be too big to handle"
   ]
  },
  {
   "cell_type": "code",
   "execution_count": null,
   "metadata": {},
   "outputs": [],
   "source": []
  },
  {
   "cell_type": "code",
   "execution_count": 42,
   "metadata": {},
   "outputs": [
    {
     "data": {
      "text/html": [
       "<div>\n",
       "<style scoped>\n",
       "    .dataframe tbody tr th:only-of-type {\n",
       "        vertical-align: middle;\n",
       "    }\n",
       "\n",
       "    .dataframe tbody tr th {\n",
       "        vertical-align: top;\n",
       "    }\n",
       "\n",
       "    .dataframe thead th {\n",
       "        text-align: right;\n",
       "    }\n",
       "</style>\n",
       "<table border=\"1\" class=\"dataframe\">\n",
       "  <thead>\n",
       "    <tr style=\"text-align: right;\">\n",
       "      <th></th>\n",
       "      <th>Age in years</th>\n",
       "      <th>Number of people being liable to provide maintenance for</th>\n",
       "    </tr>\n",
       "  </thead>\n",
       "  <tbody>\n",
       "    <tr>\n",
       "      <th>count</th>\n",
       "      <td>1000.000000</td>\n",
       "      <td>1000.000000</td>\n",
       "    </tr>\n",
       "    <tr>\n",
       "      <th>mean</th>\n",
       "      <td>35.546000</td>\n",
       "      <td>1.155000</td>\n",
       "    </tr>\n",
       "    <tr>\n",
       "      <th>std</th>\n",
       "      <td>11.375469</td>\n",
       "      <td>0.362086</td>\n",
       "    </tr>\n",
       "    <tr>\n",
       "      <th>min</th>\n",
       "      <td>19.000000</td>\n",
       "      <td>1.000000</td>\n",
       "    </tr>\n",
       "    <tr>\n",
       "      <th>25%</th>\n",
       "      <td>27.000000</td>\n",
       "      <td>1.000000</td>\n",
       "    </tr>\n",
       "    <tr>\n",
       "      <th>50%</th>\n",
       "      <td>33.000000</td>\n",
       "      <td>1.000000</td>\n",
       "    </tr>\n",
       "    <tr>\n",
       "      <th>75%</th>\n",
       "      <td>42.000000</td>\n",
       "      <td>1.000000</td>\n",
       "    </tr>\n",
       "    <tr>\n",
       "      <th>max</th>\n",
       "      <td>75.000000</td>\n",
       "      <td>2.000000</td>\n",
       "    </tr>\n",
       "  </tbody>\n",
       "</table>\n",
       "</div>"
      ],
      "text/plain": [
       "       Age in years  Number of people being liable to provide maintenance for\n",
       "count   1000.000000                                        1000.000000       \n",
       "mean      35.546000                                           1.155000       \n",
       "std       11.375469                                           0.362086       \n",
       "min       19.000000                                           1.000000       \n",
       "25%       27.000000                                           1.000000       \n",
       "50%       33.000000                                           1.000000       \n",
       "75%       42.000000                                           1.000000       \n",
       "max       75.000000                                           2.000000       "
      ]
     },
     "execution_count": 42,
     "metadata": {},
     "output_type": "execute_result"
    }
   ],
   "source": [
    "# Select Two colulmns:  age in years, Number of people being liable to provide maintenance for\n",
    "\n",
    "dfK = df_num.iloc[:,[4,6]]\n",
    "dfK.describe()"
   ]
  },
  {
   "cell_type": "code",
   "execution_count": 43,
   "metadata": {},
   "outputs": [],
   "source": [
    "X =dfK.values\n",
    "scaler = StandardScaler() \n",
    "XKmeans_scaled = scaler.fit_transform(X) "
   ]
  },
  {
   "cell_type": "code",
   "execution_count": 44,
   "metadata": {},
   "outputs": [
    {
     "data": {
      "text/plain": [
       "KMeans(n_clusters=3, n_init=20, random_state=1)"
      ]
     },
     "execution_count": 44,
     "metadata": {},
     "output_type": "execute_result"
    }
   ],
   "source": [
    "kmeans = KMeans(n_clusters=3, n_init=20, max_iter=300, random_state=1)\n",
    "kmeans.fit(XKmeans_scaled) # fit the model opn the dataset"
   ]
  },
  {
   "cell_type": "code",
   "execution_count": 45,
   "metadata": {},
   "outputs": [
    {
     "name": "stdout",
     "output_type": "stream",
     "text": [
      "For n_clusters=2, the silhouette score is 0.6549447910068031\n",
      "For n_clusters=3, the silhouette score is 0.6751134842415862\n",
      "For n_clusters=4, the silhouette score is 0.6154159148181271\n",
      "For n_clusters=5, the silhouette score is 0.610446976772494\n",
      "For n_clusters=6, the silhouette score is 0.5782693734328079\n",
      "For n_clusters=7, the silhouette score is 0.5518660626612756\n",
      "For n_clusters=8, the silhouette score is 0.5507737387370746\n",
      "For n_clusters=9, the silhouette score is 0.553134397555207\n",
      "For n_clusters=10, the silhouette score is 0.5556453820246184\n",
      "For n_clusters=11, the silhouette score is 0.545729556279273\n"
     ]
    }
   ],
   "source": [
    "# Silhouette analysis\n",
    "range_n_clusters = [2, 3, 4, 5, 6, 7, 8,9,10,11]\n",
    "\n",
    "for num_clusters in range_n_clusters:\n",
    "    \n",
    "    # intialise kmeans\n",
    "    kmeans = KMeans(n_clusters=num_clusters, max_iter=50)\n",
    "    kmeans.fit(XKmeans_scaled)\n",
    "    \n",
    "    cluster_labels = kmeans.labels_\n",
    "    \n",
    "    # silhouette score\n",
    "    silhouette_avg = silhouette_score(XKmeans_scaled, cluster_labels)\n",
    "    print(\"For n_clusters={0}, the silhouette score is {1}\".format(num_clusters, silhouette_avg))"
   ]
  },
  {
   "cell_type": "markdown",
   "metadata": {},
   "source": [
    "The highest silhouette score is 0.6751 for 3 clusters, the highest silhouette for variables with age."
   ]
  },
  {
   "cell_type": "markdown",
   "metadata": {},
   "source": [
    "## try other variables other than age"
   ]
  },
  {
   "cell_type": "code",
   "execution_count": 46,
   "metadata": {},
   "outputs": [
    {
     "data": {
      "text/html": [
       "<div>\n",
       "<style scoped>\n",
       "    .dataframe tbody tr th:only-of-type {\n",
       "        vertical-align: middle;\n",
       "    }\n",
       "\n",
       "    .dataframe tbody tr th {\n",
       "        vertical-align: top;\n",
       "    }\n",
       "\n",
       "    .dataframe thead th {\n",
       "        text-align: right;\n",
       "    }\n",
       "</style>\n",
       "<table border=\"1\" class=\"dataframe\">\n",
       "  <thead>\n",
       "    <tr style=\"text-align: right;\">\n",
       "      <th></th>\n",
       "      <th>Credit amount</th>\n",
       "      <th>Number of existing credits at this bank</th>\n",
       "    </tr>\n",
       "  </thead>\n",
       "  <tbody>\n",
       "    <tr>\n",
       "      <th>count</th>\n",
       "      <td>1000.000000</td>\n",
       "      <td>1000.000000</td>\n",
       "    </tr>\n",
       "    <tr>\n",
       "      <th>mean</th>\n",
       "      <td>3271.258000</td>\n",
       "      <td>1.407000</td>\n",
       "    </tr>\n",
       "    <tr>\n",
       "      <th>std</th>\n",
       "      <td>2822.736876</td>\n",
       "      <td>0.577654</td>\n",
       "    </tr>\n",
       "    <tr>\n",
       "      <th>min</th>\n",
       "      <td>250.000000</td>\n",
       "      <td>1.000000</td>\n",
       "    </tr>\n",
       "    <tr>\n",
       "      <th>25%</th>\n",
       "      <td>1365.500000</td>\n",
       "      <td>1.000000</td>\n",
       "    </tr>\n",
       "    <tr>\n",
       "      <th>50%</th>\n",
       "      <td>2319.500000</td>\n",
       "      <td>1.000000</td>\n",
       "    </tr>\n",
       "    <tr>\n",
       "      <th>75%</th>\n",
       "      <td>3972.250000</td>\n",
       "      <td>2.000000</td>\n",
       "    </tr>\n",
       "    <tr>\n",
       "      <th>max</th>\n",
       "      <td>18424.000000</td>\n",
       "      <td>4.000000</td>\n",
       "    </tr>\n",
       "  </tbody>\n",
       "</table>\n",
       "</div>"
      ],
      "text/plain": [
       "       Credit amount  Number of existing credits at this bank\n",
       "count    1000.000000                              1000.000000\n",
       "mean     3271.258000                                 1.407000\n",
       "std      2822.736876                                 0.577654\n",
       "min       250.000000                                 1.000000\n",
       "25%      1365.500000                                 1.000000\n",
       "50%      2319.500000                                 1.000000\n",
       "75%      3972.250000                                 2.000000\n",
       "max     18424.000000                                 4.000000"
      ]
     },
     "execution_count": 46,
     "metadata": {},
     "output_type": "execute_result"
    }
   ],
   "source": [
    "# Select Two colulmns:  amount, number of existing credits at this bank\n",
    "\n",
    "dfK = df_num.iloc[:,[1,5]]\n",
    "dfK.describe()"
   ]
  },
  {
   "cell_type": "code",
   "execution_count": 47,
   "metadata": {},
   "outputs": [],
   "source": [
    "X =dfK.values\n",
    "scaler = StandardScaler() \n",
    "XKmeans_scaled = scaler.fit_transform(X) "
   ]
  },
  {
   "cell_type": "code",
   "execution_count": 48,
   "metadata": {},
   "outputs": [
    {
     "data": {
      "text/plain": [
       "KMeans(n_clusters=2, n_init=20, random_state=1)"
      ]
     },
     "execution_count": 48,
     "metadata": {},
     "output_type": "execute_result"
    }
   ],
   "source": [
    "kmeans = KMeans(n_clusters=2, n_init=20, max_iter=300, random_state=1)\n",
    "kmeans.fit(XKmeans_scaled) # fit the model opn the dataset"
   ]
  },
  {
   "cell_type": "code",
   "execution_count": 49,
   "metadata": {},
   "outputs": [
    {
     "name": "stdout",
     "output_type": "stream",
     "text": [
      "For n_clusters=2, the silhouette score is 0.5572334938355463\n",
      "For n_clusters=3, the silhouette score is 0.6339070146006031\n",
      "For n_clusters=4, the silhouette score is 0.6529432499981169\n",
      "For n_clusters=5, the silhouette score is 0.6737541553222435\n",
      "For n_clusters=6, the silhouette score is 0.6616034106724997\n",
      "For n_clusters=7, the silhouette score is 0.6201588842612137\n",
      "For n_clusters=8, the silhouette score is 0.612173295826288\n",
      "For n_clusters=9, the silhouette score is 0.6068369947923488\n",
      "For n_clusters=10, the silhouette score is 0.5949029048066866\n",
      "For n_clusters=11, the silhouette score is 0.5976188774458285\n"
     ]
    }
   ],
   "source": [
    "# Silhouette analysis\n",
    "range_n_clusters = [2, 3, 4, 5, 6, 7, 8,9,10,11]\n",
    "\n",
    "for num_clusters in range_n_clusters:\n",
    "    \n",
    "    # intialise kmeans\n",
    "    kmeans = KMeans(n_clusters=num_clusters, max_iter=50)\n",
    "    kmeans.fit(XKmeans_scaled)\n",
    "    \n",
    "    cluster_labels = kmeans.labels_\n",
    "    \n",
    "    # silhouette score\n",
    "    silhouette_avg = silhouette_score(XKmeans_scaled, cluster_labels)\n",
    "    print(\"For n_clusters={0}, the silhouette score is {1}\".format(num_clusters, silhouette_avg))"
   ]
  },
  {
   "cell_type": "markdown",
   "metadata": {},
   "source": [
    "The highest silhouette score is 0.6737 for 5 clusters,it is much better than age + maintanace combination."
   ]
  },
  {
   "cell_type": "code",
   "execution_count": 50,
   "metadata": {},
   "outputs": [
    {
     "data": {
      "text/html": [
       "<div>\n",
       "<style scoped>\n",
       "    .dataframe tbody tr th:only-of-type {\n",
       "        vertical-align: middle;\n",
       "    }\n",
       "\n",
       "    .dataframe tbody tr th {\n",
       "        vertical-align: top;\n",
       "    }\n",
       "\n",
       "    .dataframe thead th {\n",
       "        text-align: right;\n",
       "    }\n",
       "</style>\n",
       "<table border=\"1\" class=\"dataframe\">\n",
       "  <thead>\n",
       "    <tr style=\"text-align: right;\">\n",
       "      <th></th>\n",
       "      <th>Credit amount</th>\n",
       "      <th>Number of people being liable to provide maintenance for</th>\n",
       "    </tr>\n",
       "  </thead>\n",
       "  <tbody>\n",
       "    <tr>\n",
       "      <th>count</th>\n",
       "      <td>1000.000000</td>\n",
       "      <td>1000.000000</td>\n",
       "    </tr>\n",
       "    <tr>\n",
       "      <th>mean</th>\n",
       "      <td>3271.258000</td>\n",
       "      <td>1.155000</td>\n",
       "    </tr>\n",
       "    <tr>\n",
       "      <th>std</th>\n",
       "      <td>2822.736876</td>\n",
       "      <td>0.362086</td>\n",
       "    </tr>\n",
       "    <tr>\n",
       "      <th>min</th>\n",
       "      <td>250.000000</td>\n",
       "      <td>1.000000</td>\n",
       "    </tr>\n",
       "    <tr>\n",
       "      <th>25%</th>\n",
       "      <td>1365.500000</td>\n",
       "      <td>1.000000</td>\n",
       "    </tr>\n",
       "    <tr>\n",
       "      <th>50%</th>\n",
       "      <td>2319.500000</td>\n",
       "      <td>1.000000</td>\n",
       "    </tr>\n",
       "    <tr>\n",
       "      <th>75%</th>\n",
       "      <td>3972.250000</td>\n",
       "      <td>1.000000</td>\n",
       "    </tr>\n",
       "    <tr>\n",
       "      <th>max</th>\n",
       "      <td>18424.000000</td>\n",
       "      <td>2.000000</td>\n",
       "    </tr>\n",
       "  </tbody>\n",
       "</table>\n",
       "</div>"
      ],
      "text/plain": [
       "       Credit amount  Number of people being liable to provide maintenance for\n",
       "count    1000.000000                                        1000.000000       \n",
       "mean     3271.258000                                           1.155000       \n",
       "std      2822.736876                                           0.362086       \n",
       "min       250.000000                                           1.000000       \n",
       "25%      1365.500000                                           1.000000       \n",
       "50%      2319.500000                                           1.000000       \n",
       "75%      3972.250000                                           1.000000       \n",
       "max     18424.000000                                           2.000000       "
      ]
     },
     "execution_count": 50,
     "metadata": {},
     "output_type": "execute_result"
    }
   ],
   "source": [
    "# Select Two colulmns:  Credit amount, Number of people being liable to provide maintenance for\n",
    "\n",
    "dfK = df_num.iloc[:,[1,6]]\n",
    "dfK.describe()"
   ]
  },
  {
   "cell_type": "code",
   "execution_count": 51,
   "metadata": {},
   "outputs": [],
   "source": [
    "X =dfK.values\n",
    "scaler = StandardScaler() \n",
    "XKmeans_scaled = scaler.fit_transform(X) "
   ]
  },
  {
   "cell_type": "code",
   "execution_count": 52,
   "metadata": {},
   "outputs": [
    {
     "data": {
      "text/plain": [
       "KMeans(n_clusters=2, n_init=20, random_state=1)"
      ]
     },
     "execution_count": 52,
     "metadata": {},
     "output_type": "execute_result"
    }
   ],
   "source": [
    "kmeans = KMeans(n_clusters=2, n_init=20, max_iter=300, random_state=1)\n",
    "kmeans.fit(XKmeans_scaled) # fit the model opn the dataset"
   ]
  },
  {
   "cell_type": "code",
   "execution_count": 53,
   "metadata": {},
   "outputs": [
    {
     "name": "stdout",
     "output_type": "stream",
     "text": [
      "For n_clusters=2, the silhouette score is 0.6890905477681898\n",
      "For n_clusters=3, the silhouette score is 0.7180712602031553\n",
      "For n_clusters=4, the silhouette score is 0.6603933877015801\n",
      "For n_clusters=5, the silhouette score is 0.6616286421848704\n",
      "For n_clusters=6, the silhouette score is 0.6242972077241591\n",
      "For n_clusters=7, the silhouette score is 0.5931977159133917\n",
      "For n_clusters=8, the silhouette score is 0.5844696031137974\n",
      "For n_clusters=9, the silhouette score is 0.5819921358006355\n",
      "For n_clusters=10, the silhouette score is 0.5847965971113206\n",
      "For n_clusters=11, the silhouette score is 0.5885829075003104\n"
     ]
    }
   ],
   "source": [
    "# Silhouette analysis\n",
    "range_n_clusters = [2, 3, 4, 5, 6, 7, 8,9,10,11]\n",
    "\n",
    "for num_clusters in range_n_clusters:\n",
    "    \n",
    "    # intialise kmeans\n",
    "    kmeans = KMeans(n_clusters=num_clusters, max_iter=50)\n",
    "    kmeans.fit(XKmeans_scaled)\n",
    "    \n",
    "    cluster_labels = kmeans.labels_\n",
    "    \n",
    "    # silhouette score\n",
    "    silhouette_avg = silhouette_score(XKmeans_scaled, cluster_labels)\n",
    "    print(\"For n_clusters={0}, the silhouette score is {1}\".format(num_clusters, silhouette_avg))"
   ]
  },
  {
   "cell_type": "markdown",
   "metadata": {},
   "source": [
    "The highest silhouette score is 0.718 for 3 clusters, and the average seems to be all higher than age and maintanance conbination. This i will be developing the 3 variable based on this 2 variables."
   ]
  },
  {
   "cell_type": "markdown",
   "metadata": {},
   "source": [
    "# 3 variables"
   ]
  },
  {
   "cell_type": "code",
   "execution_count": 54,
   "metadata": {},
   "outputs": [
    {
     "data": {
      "text/html": [
       "<div>\n",
       "<style scoped>\n",
       "    .dataframe tbody tr th:only-of-type {\n",
       "        vertical-align: middle;\n",
       "    }\n",
       "\n",
       "    .dataframe tbody tr th {\n",
       "        vertical-align: top;\n",
       "    }\n",
       "\n",
       "    .dataframe thead th {\n",
       "        text-align: right;\n",
       "    }\n",
       "</style>\n",
       "<table border=\"1\" class=\"dataframe\">\n",
       "  <thead>\n",
       "    <tr style=\"text-align: right;\">\n",
       "      <th></th>\n",
       "      <th>Credit amount</th>\n",
       "      <th>Number of existing credits at this bank</th>\n",
       "      <th>Age in years</th>\n",
       "    </tr>\n",
       "  </thead>\n",
       "  <tbody>\n",
       "    <tr>\n",
       "      <th>count</th>\n",
       "      <td>1000.000000</td>\n",
       "      <td>1000.000000</td>\n",
       "      <td>1000.000000</td>\n",
       "    </tr>\n",
       "    <tr>\n",
       "      <th>mean</th>\n",
       "      <td>3271.258000</td>\n",
       "      <td>1.407000</td>\n",
       "      <td>35.546000</td>\n",
       "    </tr>\n",
       "    <tr>\n",
       "      <th>std</th>\n",
       "      <td>2822.736876</td>\n",
       "      <td>0.577654</td>\n",
       "      <td>11.375469</td>\n",
       "    </tr>\n",
       "    <tr>\n",
       "      <th>min</th>\n",
       "      <td>250.000000</td>\n",
       "      <td>1.000000</td>\n",
       "      <td>19.000000</td>\n",
       "    </tr>\n",
       "    <tr>\n",
       "      <th>25%</th>\n",
       "      <td>1365.500000</td>\n",
       "      <td>1.000000</td>\n",
       "      <td>27.000000</td>\n",
       "    </tr>\n",
       "    <tr>\n",
       "      <th>50%</th>\n",
       "      <td>2319.500000</td>\n",
       "      <td>1.000000</td>\n",
       "      <td>33.000000</td>\n",
       "    </tr>\n",
       "    <tr>\n",
       "      <th>75%</th>\n",
       "      <td>3972.250000</td>\n",
       "      <td>2.000000</td>\n",
       "      <td>42.000000</td>\n",
       "    </tr>\n",
       "    <tr>\n",
       "      <th>max</th>\n",
       "      <td>18424.000000</td>\n",
       "      <td>4.000000</td>\n",
       "      <td>75.000000</td>\n",
       "    </tr>\n",
       "  </tbody>\n",
       "</table>\n",
       "</div>"
      ],
      "text/plain": [
       "       Credit amount  Number of existing credits at this bank  Age in years\n",
       "count    1000.000000                              1000.000000   1000.000000\n",
       "mean     3271.258000                                 1.407000     35.546000\n",
       "std      2822.736876                                 0.577654     11.375469\n",
       "min       250.000000                                 1.000000     19.000000\n",
       "25%      1365.500000                                 1.000000     27.000000\n",
       "50%      2319.500000                                 1.000000     33.000000\n",
       "75%      3972.250000                                 2.000000     42.000000\n",
       "max     18424.000000                                 4.000000     75.000000"
      ]
     },
     "execution_count": 54,
     "metadata": {},
     "output_type": "execute_result"
    }
   ],
   "source": [
    "# Select three colulmns:  amount, number of existing credits at this bank, age in years\n",
    "\n",
    "dfK = df_num.iloc[:,[1,5,4]]\n",
    "dfK.describe()"
   ]
  },
  {
   "cell_type": "code",
   "execution_count": 55,
   "metadata": {},
   "outputs": [],
   "source": [
    "X =dfK.values\n",
    "scaler = StandardScaler() \n",
    "XKmeans_scaled = scaler.fit_transform(X) "
   ]
  },
  {
   "cell_type": "code",
   "execution_count": 56,
   "metadata": {},
   "outputs": [
    {
     "data": {
      "text/plain": [
       "KMeans(n_clusters=2, n_init=20, random_state=1)"
      ]
     },
     "execution_count": 56,
     "metadata": {},
     "output_type": "execute_result"
    }
   ],
   "source": [
    "kmeans = KMeans(n_clusters=2, n_init=20, max_iter=300, random_state=1)\n",
    "kmeans.fit(XKmeans_scaled) # fit the model opn the dataset"
   ]
  },
  {
   "cell_type": "code",
   "execution_count": 57,
   "metadata": {},
   "outputs": [
    {
     "name": "stdout",
     "output_type": "stream",
     "text": [
      "For n_clusters=2, the silhouette score is 0.36855815911758644\n",
      "For n_clusters=3, the silhouette score is 0.4065653135052954\n",
      "For n_clusters=4, the silhouette score is 0.43071377640866126\n",
      "For n_clusters=5, the silhouette score is 0.4274003311785715\n",
      "For n_clusters=6, the silhouette score is 0.44053474603310394\n",
      "For n_clusters=7, the silhouette score is 0.3806703138597309\n",
      "For n_clusters=8, the silhouette score is 0.3924847521958013\n",
      "For n_clusters=9, the silhouette score is 0.4081083225159567\n",
      "For n_clusters=10, the silhouette score is 0.3987642203987737\n",
      "For n_clusters=11, the silhouette score is 0.3983706021468279\n"
     ]
    }
   ],
   "source": [
    "# Silhouette analysis\n",
    "range_n_clusters = [2, 3, 4, 5, 6, 7, 8,9,10,11]\n",
    "\n",
    "for num_clusters in range_n_clusters:\n",
    "    \n",
    "    # intialise kmeans\n",
    "    kmeans = KMeans(n_clusters=num_clusters, max_iter=50)\n",
    "    kmeans.fit(XKmeans_scaled)\n",
    "    \n",
    "    cluster_labels = kmeans.labels_\n",
    "    \n",
    "    # silhouette score\n",
    "    silhouette_avg = silhouette_score(XKmeans_scaled, cluster_labels)\n",
    "    print(\"For n_clusters={0}, the silhouette score is {1}\".format(num_clusters, silhouette_avg))"
   ]
  },
  {
   "cell_type": "markdown",
   "metadata": {},
   "source": [
    "the highest conbination is 0.439 for 6 clusters for this 3 variables"
   ]
  },
  {
   "cell_type": "code",
   "execution_count": 58,
   "metadata": {},
   "outputs": [
    {
     "data": {
      "text/html": [
       "<div>\n",
       "<style scoped>\n",
       "    .dataframe tbody tr th:only-of-type {\n",
       "        vertical-align: middle;\n",
       "    }\n",
       "\n",
       "    .dataframe tbody tr th {\n",
       "        vertical-align: top;\n",
       "    }\n",
       "\n",
       "    .dataframe thead th {\n",
       "        text-align: right;\n",
       "    }\n",
       "</style>\n",
       "<table border=\"1\" class=\"dataframe\">\n",
       "  <thead>\n",
       "    <tr style=\"text-align: right;\">\n",
       "      <th></th>\n",
       "      <th>Credit amount</th>\n",
       "      <th>Number of existing credits at this bank</th>\n",
       "      <th>Job</th>\n",
       "    </tr>\n",
       "  </thead>\n",
       "  <tbody>\n",
       "    <tr>\n",
       "      <th>count</th>\n",
       "      <td>1000.000000</td>\n",
       "      <td>1000.000000</td>\n",
       "      <td>1000.000000</td>\n",
       "    </tr>\n",
       "    <tr>\n",
       "      <th>mean</th>\n",
       "      <td>3271.258000</td>\n",
       "      <td>1.407000</td>\n",
       "      <td>0.562000</td>\n",
       "    </tr>\n",
       "    <tr>\n",
       "      <th>std</th>\n",
       "      <td>2822.736876</td>\n",
       "      <td>0.577654</td>\n",
       "      <td>0.821481</td>\n",
       "    </tr>\n",
       "    <tr>\n",
       "      <th>min</th>\n",
       "      <td>250.000000</td>\n",
       "      <td>1.000000</td>\n",
       "      <td>0.000000</td>\n",
       "    </tr>\n",
       "    <tr>\n",
       "      <th>25%</th>\n",
       "      <td>1365.500000</td>\n",
       "      <td>1.000000</td>\n",
       "      <td>0.000000</td>\n",
       "    </tr>\n",
       "    <tr>\n",
       "      <th>50%</th>\n",
       "      <td>2319.500000</td>\n",
       "      <td>1.000000</td>\n",
       "      <td>0.000000</td>\n",
       "    </tr>\n",
       "    <tr>\n",
       "      <th>75%</th>\n",
       "      <td>3972.250000</td>\n",
       "      <td>2.000000</td>\n",
       "      <td>1.000000</td>\n",
       "    </tr>\n",
       "    <tr>\n",
       "      <th>max</th>\n",
       "      <td>18424.000000</td>\n",
       "      <td>4.000000</td>\n",
       "      <td>3.000000</td>\n",
       "    </tr>\n",
       "  </tbody>\n",
       "</table>\n",
       "</div>"
      ],
      "text/plain": [
       "       Credit amount  Number of existing credits at this bank          Job\n",
       "count    1000.000000                              1000.000000  1000.000000\n",
       "mean     3271.258000                                 1.407000     0.562000\n",
       "std      2822.736876                                 0.577654     0.821481\n",
       "min       250.000000                                 1.000000     0.000000\n",
       "25%      1365.500000                                 1.000000     0.000000\n",
       "50%      2319.500000                                 1.000000     0.000000\n",
       "75%      3972.250000                                 2.000000     1.000000\n",
       "max     18424.000000                                 4.000000     3.000000"
      ]
     },
     "execution_count": 58,
     "metadata": {},
     "output_type": "execute_result"
    }
   ],
   "source": [
    "# Select Two colulmns:  Credit amount, Number of people being liable to provide maintenance for\n",
    "\n",
    "dfK = df_num.iloc[:,[1,5,8]]\n",
    "dfK.describe()"
   ]
  },
  {
   "cell_type": "code",
   "execution_count": 59,
   "metadata": {},
   "outputs": [],
   "source": [
    "X =dfK.values\n",
    "scaler = StandardScaler() \n",
    "XKmeans_scaled = scaler.fit_transform(X) "
   ]
  },
  {
   "cell_type": "code",
   "execution_count": 60,
   "metadata": {},
   "outputs": [
    {
     "data": {
      "text/plain": [
       "KMeans(n_clusters=2, n_init=20, random_state=1)"
      ]
     },
     "execution_count": 60,
     "metadata": {},
     "output_type": "execute_result"
    }
   ],
   "source": [
    "kmeans = KMeans(n_clusters=2, n_init=20, max_iter=300, random_state=1)\n",
    "kmeans.fit(XKmeans_scaled) # fit the model opn the dataset"
   ]
  },
  {
   "cell_type": "code",
   "execution_count": 61,
   "metadata": {},
   "outputs": [
    {
     "name": "stdout",
     "output_type": "stream",
     "text": [
      "For n_clusters=2, the silhouette score is 0.4361894683740371\n",
      "For n_clusters=3, the silhouette score is 0.4600437573327564\n",
      "For n_clusters=4, the silhouette score is 0.4853961237015344\n",
      "For n_clusters=5, the silhouette score is 0.5051464853717875\n",
      "For n_clusters=6, the silhouette score is 0.5214577592759235\n",
      "For n_clusters=7, the silhouette score is 0.5192780045888356\n",
      "For n_clusters=8, the silhouette score is 0.5374198509784506\n",
      "For n_clusters=9, the silhouette score is 0.5573093493447797\n",
      "For n_clusters=10, the silhouette score is 0.5798720739248875\n",
      "For n_clusters=11, the silhouette score is 0.5897204805584523\n"
     ]
    }
   ],
   "source": [
    "# Silhouette analysis\n",
    "range_n_clusters = [2, 3, 4, 5, 6, 7, 8,9,10,11]\n",
    "\n",
    "for num_clusters in range_n_clusters:\n",
    "    \n",
    "    # intialise kmeans\n",
    "    kmeans = KMeans(n_clusters=num_clusters, max_iter=50)\n",
    "    kmeans.fit(XKmeans_scaled)\n",
    "    \n",
    "    cluster_labels = kmeans.labels_\n",
    "    \n",
    "    # silhouette score\n",
    "    silhouette_avg = silhouette_score(XKmeans_scaled, cluster_labels)\n",
    "    print(\"For n_clusters={0}, the silhouette score is {1}\".format(num_clusters, silhouette_avg))"
   ]
  },
  {
   "cell_type": "markdown",
   "metadata": {},
   "source": [
    "This has a higher silhouette score which is 0.580 at 10 clusters it is too much to handle"
   ]
  },
  {
   "cell_type": "code",
   "execution_count": 62,
   "metadata": {},
   "outputs": [
    {
     "data": {
      "text/html": [
       "<div>\n",
       "<style scoped>\n",
       "    .dataframe tbody tr th:only-of-type {\n",
       "        vertical-align: middle;\n",
       "    }\n",
       "\n",
       "    .dataframe tbody tr th {\n",
       "        vertical-align: top;\n",
       "    }\n",
       "\n",
       "    .dataframe thead th {\n",
       "        text-align: right;\n",
       "    }\n",
       "</style>\n",
       "<table border=\"1\" class=\"dataframe\">\n",
       "  <thead>\n",
       "    <tr style=\"text-align: right;\">\n",
       "      <th></th>\n",
       "      <th>Credit amount</th>\n",
       "      <th>Number of people being liable to provide maintenance for</th>\n",
       "      <th>Job</th>\n",
       "    </tr>\n",
       "  </thead>\n",
       "  <tbody>\n",
       "    <tr>\n",
       "      <th>count</th>\n",
       "      <td>1000.000000</td>\n",
       "      <td>1000.000000</td>\n",
       "      <td>1000.000000</td>\n",
       "    </tr>\n",
       "    <tr>\n",
       "      <th>mean</th>\n",
       "      <td>3271.258000</td>\n",
       "      <td>1.155000</td>\n",
       "      <td>0.562000</td>\n",
       "    </tr>\n",
       "    <tr>\n",
       "      <th>std</th>\n",
       "      <td>2822.736876</td>\n",
       "      <td>0.362086</td>\n",
       "      <td>0.821481</td>\n",
       "    </tr>\n",
       "    <tr>\n",
       "      <th>min</th>\n",
       "      <td>250.000000</td>\n",
       "      <td>1.000000</td>\n",
       "      <td>0.000000</td>\n",
       "    </tr>\n",
       "    <tr>\n",
       "      <th>25%</th>\n",
       "      <td>1365.500000</td>\n",
       "      <td>1.000000</td>\n",
       "      <td>0.000000</td>\n",
       "    </tr>\n",
       "    <tr>\n",
       "      <th>50%</th>\n",
       "      <td>2319.500000</td>\n",
       "      <td>1.000000</td>\n",
       "      <td>0.000000</td>\n",
       "    </tr>\n",
       "    <tr>\n",
       "      <th>75%</th>\n",
       "      <td>3972.250000</td>\n",
       "      <td>1.000000</td>\n",
       "      <td>1.000000</td>\n",
       "    </tr>\n",
       "    <tr>\n",
       "      <th>max</th>\n",
       "      <td>18424.000000</td>\n",
       "      <td>2.000000</td>\n",
       "      <td>3.000000</td>\n",
       "    </tr>\n",
       "  </tbody>\n",
       "</table>\n",
       "</div>"
      ],
      "text/plain": [
       "       Credit amount  \\\n",
       "count    1000.000000   \n",
       "mean     3271.258000   \n",
       "std      2822.736876   \n",
       "min       250.000000   \n",
       "25%      1365.500000   \n",
       "50%      2319.500000   \n",
       "75%      3972.250000   \n",
       "max     18424.000000   \n",
       "\n",
       "       Number of people being liable to provide maintenance for          Job  \n",
       "count                                        1000.000000         1000.000000  \n",
       "mean                                            1.155000            0.562000  \n",
       "std                                             0.362086            0.821481  \n",
       "min                                             1.000000            0.000000  \n",
       "25%                                             1.000000            0.000000  \n",
       "50%                                             1.000000            0.000000  \n",
       "75%                                             1.000000            1.000000  \n",
       "max                                             2.000000            3.000000  "
      ]
     },
     "execution_count": 62,
     "metadata": {},
     "output_type": "execute_result"
    }
   ],
   "source": [
    "# Select Two colulmns:  Credit amount, Number of people being liable to provide maintenance for, job\n",
    "\n",
    "dfK = df_num.iloc[:,[1,6,8]]\n",
    "dfK.describe()"
   ]
  },
  {
   "cell_type": "code",
   "execution_count": 63,
   "metadata": {},
   "outputs": [],
   "source": [
    "X =dfK.values\n",
    "scaler = StandardScaler() \n",
    "XKmeans_scaled = scaler.fit_transform(X) "
   ]
  },
  {
   "cell_type": "code",
   "execution_count": 64,
   "metadata": {},
   "outputs": [
    {
     "data": {
      "text/plain": [
       "KMeans(n_clusters=2, n_init=20, random_state=1)"
      ]
     },
     "execution_count": 64,
     "metadata": {},
     "output_type": "execute_result"
    }
   ],
   "source": [
    "kmeans = KMeans(n_clusters=2, n_init=20, max_iter=300, random_state=1)\n",
    "kmeans.fit(XKmeans_scaled) # fit the model opn the dataset"
   ]
  },
  {
   "cell_type": "code",
   "execution_count": 65,
   "metadata": {},
   "outputs": [
    {
     "name": "stdout",
     "output_type": "stream",
     "text": [
      "For n_clusters=2, the silhouette score is 0.527700776085646\n",
      "For n_clusters=3, the silhouette score is 0.571702565875476\n",
      "For n_clusters=4, the silhouette score is 0.5529485183453651\n",
      "For n_clusters=5, the silhouette score is 0.5745538884767306\n",
      "For n_clusters=6, the silhouette score is 0.5847227682083781\n",
      "For n_clusters=7, the silhouette score is 0.5802539782391486\n",
      "For n_clusters=8, the silhouette score is 0.5938421932800335\n",
      "For n_clusters=9, the silhouette score is 0.6071984999760297\n",
      "For n_clusters=10, the silhouette score is 0.5659653091417897\n",
      "For n_clusters=11, the silhouette score is 0.5692569667130043\n"
     ]
    }
   ],
   "source": [
    "# Silhouette analysis\n",
    "range_n_clusters = [2, 3, 4, 5, 6, 7, 8,9,10,11]\n",
    "\n",
    "for num_clusters in range_n_clusters:\n",
    "    \n",
    "    # intialise kmeans\n",
    "    kmeans = KMeans(n_clusters=num_clusters, max_iter=50)\n",
    "    kmeans.fit(XKmeans_scaled)\n",
    "    \n",
    "    cluster_labels = kmeans.labels_\n",
    "    \n",
    "    # silhouette score\n",
    "    silhouette_avg = silhouette_score(XKmeans_scaled, cluster_labels)\n",
    "    print(\"For n_clusters={0}, the silhouette score is {1}\".format(num_clusters, silhouette_avg))"
   ]
  },
  {
   "cell_type": "markdown",
   "metadata": {},
   "source": [
    "this has 0.607 silhouette score at 9 cluster, it might be too much to handle but we can consider this as our variables."
   ]
  },
  {
   "cell_type": "code",
   "execution_count": 66,
   "metadata": {},
   "outputs": [
    {
     "data": {
      "text/html": [
       "<div>\n",
       "<style scoped>\n",
       "    .dataframe tbody tr th:only-of-type {\n",
       "        vertical-align: middle;\n",
       "    }\n",
       "\n",
       "    .dataframe tbody tr th {\n",
       "        vertical-align: top;\n",
       "    }\n",
       "\n",
       "    .dataframe thead th {\n",
       "        text-align: right;\n",
       "    }\n",
       "</style>\n",
       "<table border=\"1\" class=\"dataframe\">\n",
       "  <thead>\n",
       "    <tr style=\"text-align: right;\">\n",
       "      <th></th>\n",
       "      <th>Credit amount</th>\n",
       "      <th>Number of people being liable to provide maintenance for</th>\n",
       "      <th>Age in years</th>\n",
       "    </tr>\n",
       "  </thead>\n",
       "  <tbody>\n",
       "    <tr>\n",
       "      <th>count</th>\n",
       "      <td>1000.000000</td>\n",
       "      <td>1000.000000</td>\n",
       "      <td>1000.000000</td>\n",
       "    </tr>\n",
       "    <tr>\n",
       "      <th>mean</th>\n",
       "      <td>3271.258000</td>\n",
       "      <td>1.155000</td>\n",
       "      <td>35.546000</td>\n",
       "    </tr>\n",
       "    <tr>\n",
       "      <th>std</th>\n",
       "      <td>2822.736876</td>\n",
       "      <td>0.362086</td>\n",
       "      <td>11.375469</td>\n",
       "    </tr>\n",
       "    <tr>\n",
       "      <th>min</th>\n",
       "      <td>250.000000</td>\n",
       "      <td>1.000000</td>\n",
       "      <td>19.000000</td>\n",
       "    </tr>\n",
       "    <tr>\n",
       "      <th>25%</th>\n",
       "      <td>1365.500000</td>\n",
       "      <td>1.000000</td>\n",
       "      <td>27.000000</td>\n",
       "    </tr>\n",
       "    <tr>\n",
       "      <th>50%</th>\n",
       "      <td>2319.500000</td>\n",
       "      <td>1.000000</td>\n",
       "      <td>33.000000</td>\n",
       "    </tr>\n",
       "    <tr>\n",
       "      <th>75%</th>\n",
       "      <td>3972.250000</td>\n",
       "      <td>1.000000</td>\n",
       "      <td>42.000000</td>\n",
       "    </tr>\n",
       "    <tr>\n",
       "      <th>max</th>\n",
       "      <td>18424.000000</td>\n",
       "      <td>2.000000</td>\n",
       "      <td>75.000000</td>\n",
       "    </tr>\n",
       "  </tbody>\n",
       "</table>\n",
       "</div>"
      ],
      "text/plain": [
       "       Credit amount  \\\n",
       "count    1000.000000   \n",
       "mean     3271.258000   \n",
       "std      2822.736876   \n",
       "min       250.000000   \n",
       "25%      1365.500000   \n",
       "50%      2319.500000   \n",
       "75%      3972.250000   \n",
       "max     18424.000000   \n",
       "\n",
       "       Number of people being liable to provide maintenance for  Age in years  \n",
       "count                                        1000.000000          1000.000000  \n",
       "mean                                            1.155000            35.546000  \n",
       "std                                             0.362086            11.375469  \n",
       "min                                             1.000000            19.000000  \n",
       "25%                                             1.000000            27.000000  \n",
       "50%                                             1.000000            33.000000  \n",
       "75%                                             1.000000            42.000000  \n",
       "max                                             2.000000            75.000000  "
      ]
     },
     "execution_count": 66,
     "metadata": {},
     "output_type": "execute_result"
    }
   ],
   "source": [
    "# Select three colulmns:  Credit amount, Number of people being liable to provide maintenance for, age\n",
    "\n",
    "dfK = df_num.iloc[:,[1,6,4]]\n",
    "dfK.describe()"
   ]
  },
  {
   "cell_type": "code",
   "execution_count": 67,
   "metadata": {},
   "outputs": [],
   "source": [
    "X =dfK.values\n",
    "scaler = StandardScaler() \n",
    "XKmeans_scaled = scaler.fit_transform(X) "
   ]
  },
  {
   "cell_type": "code",
   "execution_count": 68,
   "metadata": {},
   "outputs": [
    {
     "data": {
      "text/plain": [
       "KMeans(n_clusters=2, n_init=20, random_state=1)"
      ]
     },
     "execution_count": 68,
     "metadata": {},
     "output_type": "execute_result"
    }
   ],
   "source": [
    "kmeans = KMeans(n_clusters=2, n_init=20, max_iter=300, random_state=1)\n",
    "kmeans.fit(XKmeans_scaled) # fit the model opn the dataset"
   ]
  },
  {
   "cell_type": "code",
   "execution_count": 69,
   "metadata": {},
   "outputs": [
    {
     "name": "stdout",
     "output_type": "stream",
     "text": [
      "For n_clusters=2, the silhouette score is 0.5088018159878303\n",
      "For n_clusters=3, the silhouette score is 0.47552633109247006\n",
      "For n_clusters=4, the silhouette score is 0.5220110779286995\n",
      "For n_clusters=5, the silhouette score is 0.4631196037228356\n",
      "For n_clusters=6, the silhouette score is 0.431288910398409\n",
      "For n_clusters=7, the silhouette score is 0.4285601983756799\n",
      "For n_clusters=8, the silhouette score is 0.43456909867136095\n",
      "For n_clusters=9, the silhouette score is 0.4162814573765922\n",
      "For n_clusters=10, the silhouette score is 0.393657273973101\n",
      "For n_clusters=11, the silhouette score is 0.39742796177236484\n"
     ]
    }
   ],
   "source": [
    "# Silhouette analysis\n",
    "range_n_clusters = [2, 3, 4, 5, 6, 7, 8,9,10,11]\n",
    "\n",
    "for num_clusters in range_n_clusters:\n",
    "    \n",
    "    # intialise kmeans\n",
    "    kmeans = KMeans(n_clusters=num_clusters, max_iter=50)\n",
    "    kmeans.fit(XKmeans_scaled)\n",
    "    \n",
    "    cluster_labels = kmeans.labels_\n",
    "    \n",
    "    # silhouette score\n",
    "    silhouette_avg = silhouette_score(XKmeans_scaled, cluster_labels)\n",
    "    print(\"For n_clusters={0}, the silhouette score is {1}\".format(num_clusters, silhouette_avg))"
   ]
  },
  {
   "cell_type": "markdown",
   "metadata": {},
   "source": [
    "The highest silhouette score is 0.522 for 4 clusters"
   ]
  },
  {
   "cell_type": "code",
   "execution_count": 70,
   "metadata": {},
   "outputs": [],
   "source": [
    "kmeans = KMeans(n_clusters=4, n_init=20, random_state=1)\n",
    "# Fit the model and assign each data point to the cluster\n",
    "y_pred = kmeans.fit_predict(XKmeans_scaled) # fit and then predict"
   ]
  },
  {
   "cell_type": "code",
   "execution_count": 71,
   "metadata": {},
   "outputs": [
    {
     "name": "stdout",
     "output_type": "stream",
     "text": [
      "Credit amount\n"
     ]
    },
    {
     "name": "stderr",
     "output_type": "stream",
     "text": [
      "C:\\Users\\ljj\\AppData\\Local\\Temp\\ipykernel_10108\\1053256822.py:1: SettingWithCopyWarning: \n",
      "A value is trying to be set on a copy of a slice from a DataFrame.\n",
      "Try using .loc[row_indexer,col_indexer] = value instead\n",
      "\n",
      "See the caveats in the documentation: https://pandas.pydata.org/pandas-docs/stable/user_guide/indexing.html#returning-a-view-versus-a-copy\n",
      "  dfK['Cluster']=y_pred\n"
     ]
    },
    {
     "data": {
      "image/png": "[encoded data removed]",
      "text/plain": [
       "<Figure size 432x288 with 1 Axes>"
      ]
     },
     "metadata": {
      "needs_background": "light"
     },
     "output_type": "display_data"
    },
    {
     "name": "stdout",
     "output_type": "stream",
     "text": [
      "Number of people being liable to provide maintenance for\n"
     ]
    },
    {
     "data": {
      "image/png": "[encoded data removed]",
      "text/plain": [
       "<Figure size 432x288 with 1 Axes>"
      ]
     },
     "metadata": {
      "needs_background": "light"
     },
     "output_type": "display_data"
    },
    {
     "name": "stdout",
     "output_type": "stream",
     "text": [
      "Age in years\n"
     ]
    },
    {
     "data": {
      "image/png": "[encoded data removed]",
      "text/plain": [
       "<Figure size 432x288 with 1 Axes>"
      ]
     },
     "metadata": {
      "needs_background": "light"
     },
     "output_type": "display_data"
    },
    {
     "name": "stdout",
     "output_type": "stream",
     "text": [
      "Cluster\n"
     ]
    },
    {
     "data": {
      "image/png": "[encoded data removed]",
      "text/plain": [
       "<Figure size 432x288 with 1 Axes>"
      ]
     },
     "metadata": {
      "needs_background": "light"
     },
     "output_type": "display_data"
    }
   ],
   "source": [
    "dfK['Cluster']=y_pred\n",
    "i=0\n",
    "for col in dfK: \n",
    "    print(col) \n",
    "    plt.cla()\n",
    "    plt.boxplot([dfK.iloc[:,i][dfK.Cluster==0].tolist(),\n",
    "                 dfK.iloc[:,i][dfK.Cluster==1].tolist(),\n",
    "                dfK.iloc[:,i][dfK.Cluster==2].tolist(),\n",
    "                 dfK.iloc[:,i][dfK.Cluster==3].tolist()],\n",
    "                 labels=('Cluster 0','Cluster 1','Cluster 2','Cluster 3'))  \n",
    "    plt.ylabel(col)\n",
    "    plt.show()\n",
    "    i=i+1"
   ]
  },
  {
   "cell_type": "markdown",
   "metadata": {},
   "source": [
    "from the above box plot we can see that \n",
    "cluster 0 : low credit amount, 1 people being liable to provide maintenance, low age\n",
    "cluster 1 : low credit amount but got more people with medium credit amount, 2 people being liable to provide maintenance, medium age\n",
    "cluster 2 : medium credit amount with some high credit amount,1 people being liable to provide maintenance with some outliers(2people),  medium age but younger than cluster 1\n",
    "cluster 3 : low credit amount,2 people being liable to provide maintenance, high age"
   ]
  },
  {
   "cell_type": "markdown",
   "metadata": {},
   "source": [
    "### 1.3 Hierarchical Clustering"
   ]
  },
  {
   "cell_type": "markdown",
   "metadata": {},
   "source": [
    "based on the findings in the above k means model, I have identified some useful variables: credit amount, age,maintenance , job  and Number of existing credits at this bank. they all achieve a relatively higher silhouette score than other variable in their combination. thus i will be playing with these variables mainly."
   ]
  },
  {
   "cell_type": "markdown",
   "metadata": {},
   "source": [
    "# 2 variables"
   ]
  },
  {
   "cell_type": "code",
   "execution_count": 72,
   "metadata": {},
   "outputs": [
    {
     "data": {
      "text/html": [
       "<div>\n",
       "<style scoped>\n",
       "    .dataframe tbody tr th:only-of-type {\n",
       "        vertical-align: middle;\n",
       "    }\n",
       "\n",
       "    .dataframe tbody tr th {\n",
       "        vertical-align: top;\n",
       "    }\n",
       "\n",
       "    .dataframe thead th {\n",
       "        text-align: right;\n",
       "    }\n",
       "</style>\n",
       "<table border=\"1\" class=\"dataframe\">\n",
       "  <thead>\n",
       "    <tr style=\"text-align: right;\">\n",
       "      <th></th>\n",
       "      <th>Age in years</th>\n",
       "      <th>Number of people being liable to provide maintenance for</th>\n",
       "    </tr>\n",
       "  </thead>\n",
       "  <tbody>\n",
       "    <tr>\n",
       "      <th>count</th>\n",
       "      <td>1000.000000</td>\n",
       "      <td>1000.000000</td>\n",
       "    </tr>\n",
       "    <tr>\n",
       "      <th>mean</th>\n",
       "      <td>35.546000</td>\n",
       "      <td>1.155000</td>\n",
       "    </tr>\n",
       "    <tr>\n",
       "      <th>std</th>\n",
       "      <td>11.375469</td>\n",
       "      <td>0.362086</td>\n",
       "    </tr>\n",
       "    <tr>\n",
       "      <th>min</th>\n",
       "      <td>19.000000</td>\n",
       "      <td>1.000000</td>\n",
       "    </tr>\n",
       "    <tr>\n",
       "      <th>25%</th>\n",
       "      <td>27.000000</td>\n",
       "      <td>1.000000</td>\n",
       "    </tr>\n",
       "    <tr>\n",
       "      <th>50%</th>\n",
       "      <td>33.000000</td>\n",
       "      <td>1.000000</td>\n",
       "    </tr>\n",
       "    <tr>\n",
       "      <th>75%</th>\n",
       "      <td>42.000000</td>\n",
       "      <td>1.000000</td>\n",
       "    </tr>\n",
       "    <tr>\n",
       "      <th>max</th>\n",
       "      <td>75.000000</td>\n",
       "      <td>2.000000</td>\n",
       "    </tr>\n",
       "  </tbody>\n",
       "</table>\n",
       "</div>"
      ],
      "text/plain": [
       "       Age in years  Number of people being liable to provide maintenance for\n",
       "count   1000.000000                                        1000.000000       \n",
       "mean      35.546000                                           1.155000       \n",
       "std       11.375469                                           0.362086       \n",
       "min       19.000000                                           1.000000       \n",
       "25%       27.000000                                           1.000000       \n",
       "50%       33.000000                                           1.000000       \n",
       "75%       42.000000                                           1.000000       \n",
       "max       75.000000                                           2.000000       "
      ]
     },
     "execution_count": 72,
     "metadata": {},
     "output_type": "execute_result"
    }
   ],
   "source": [
    "# Select Two colulmns:  Age in years, Number of people being liable to provide maintenance for\n",
    "dfHC = df_num.iloc[:,[4,6]]\n",
    "dfHC.describe()"
   ]
  },
  {
   "cell_type": "code",
   "execution_count": 73,
   "metadata": {},
   "outputs": [],
   "source": [
    "# Scaling the data so that all the features/attributes become comparable \n",
    "X =dfHC.values\n",
    "scaler = StandardScaler() \n",
    "XHC_scaled = scaler.fit_transform(X) "
   ]
  },
  {
   "cell_type": "code",
   "execution_count": 74,
   "metadata": {},
   "outputs": [
    {
     "name": "stdout",
     "output_type": "stream",
     "text": [
      "For n_clusters=2, the silhouette score is 0.6549447910068031\n",
      "For n_clusters=3, the silhouette score is 0.6775391839417488\n",
      "For n_clusters=4, the silhouette score is 0.6031951035921934\n",
      "For n_clusters=5, the silhouette score is 0.596102058008247\n",
      "For n_clusters=6, the silhouette score is 0.5629383215937349\n",
      "For n_clusters=7, the silhouette score is 0.5684516298293493\n",
      "For n_clusters=8, the silhouette score is 0.5466486090403675\n",
      "For n_clusters=9, the silhouette score is 0.5409701639601004\n",
      "For n_clusters=10, the silhouette score is 0.5400632175007734\n",
      "For n_clusters=11, the silhouette score is 0.5367100427198168\n"
     ]
    }
   ],
   "source": [
    "# Silhouette Scores \n",
    "k_range = range(2,12)\n",
    "\n",
    "for i in k_range:\n",
    "    ac_i = AgglomerativeClustering(n_clusters = i,linkage='ward')\n",
    "    silhouette_avg=silhouette_score(XHC_scaled, ac_i.fit_predict(XHC_scaled))\n",
    "\n",
    "    print(\"For n_clusters={0}, the silhouette score is {1}\".format(i, silhouette_avg))\n"
   ]
  },
  {
   "cell_type": "code",
   "execution_count": 75,
   "metadata": {},
   "outputs": [
    {
     "name": "stdout",
     "output_type": "stream",
     "text": [
      "For n_clusters=2, the silhouette score is 0.6549447910068031\n",
      "For n_clusters=3, the silhouette score is 0.6368828160526969\n",
      "For n_clusters=4, the silhouette score is 0.668348512594644\n",
      "For n_clusters=5, the silhouette score is 0.6157178473074466\n",
      "For n_clusters=6, the silhouette score is 0.5947924646898496\n",
      "For n_clusters=7, the silhouette score is 0.5772843909832203\n",
      "For n_clusters=8, the silhouette score is 0.5737175303210816\n",
      "For n_clusters=9, the silhouette score is 0.5688978979158879\n",
      "For n_clusters=10, the silhouette score is 0.5634462963913577\n",
      "For n_clusters=11, the silhouette score is 0.5541797055781037\n"
     ]
    }
   ],
   "source": [
    "# Plotting Silhouette Scores using a bar graph to compare the results \n",
    "k_range = range(2,12)\n",
    "\n",
    "for i in k_range:\n",
    "    ac_i = AgglomerativeClustering(n_clusters = i,linkage='average')\n",
    "    silhouette_avg=silhouette_score(XHC_scaled, ac_i.fit_predict(XHC_scaled))\n",
    "\n",
    "    print(\"For n_clusters={0}, the silhouette score is {1}\".format(i, silhouette_avg))"
   ]
  },
  {
   "cell_type": "markdown",
   "metadata": {},
   "source": [
    "ward method is better for this 2 variables and we can see that the highest silhouette score is 0.6775 for 3 clusters"
   ]
  },
  {
   "cell_type": "code",
   "execution_count": 76,
   "metadata": {},
   "outputs": [
    {
     "data": {
      "text/html": [
       "<div>\n",
       "<style scoped>\n",
       "    .dataframe tbody tr th:only-of-type {\n",
       "        vertical-align: middle;\n",
       "    }\n",
       "\n",
       "    .dataframe tbody tr th {\n",
       "        vertical-align: top;\n",
       "    }\n",
       "\n",
       "    .dataframe thead th {\n",
       "        text-align: right;\n",
       "    }\n",
       "</style>\n",
       "<table border=\"1\" class=\"dataframe\">\n",
       "  <thead>\n",
       "    <tr style=\"text-align: right;\">\n",
       "      <th></th>\n",
       "      <th>Age in years</th>\n",
       "      <th>Credit amount</th>\n",
       "    </tr>\n",
       "  </thead>\n",
       "  <tbody>\n",
       "    <tr>\n",
       "      <th>count</th>\n",
       "      <td>1000.000000</td>\n",
       "      <td>1000.000000</td>\n",
       "    </tr>\n",
       "    <tr>\n",
       "      <th>mean</th>\n",
       "      <td>35.546000</td>\n",
       "      <td>3271.258000</td>\n",
       "    </tr>\n",
       "    <tr>\n",
       "      <th>std</th>\n",
       "      <td>11.375469</td>\n",
       "      <td>2822.736876</td>\n",
       "    </tr>\n",
       "    <tr>\n",
       "      <th>min</th>\n",
       "      <td>19.000000</td>\n",
       "      <td>250.000000</td>\n",
       "    </tr>\n",
       "    <tr>\n",
       "      <th>25%</th>\n",
       "      <td>27.000000</td>\n",
       "      <td>1365.500000</td>\n",
       "    </tr>\n",
       "    <tr>\n",
       "      <th>50%</th>\n",
       "      <td>33.000000</td>\n",
       "      <td>2319.500000</td>\n",
       "    </tr>\n",
       "    <tr>\n",
       "      <th>75%</th>\n",
       "      <td>42.000000</td>\n",
       "      <td>3972.250000</td>\n",
       "    </tr>\n",
       "    <tr>\n",
       "      <th>max</th>\n",
       "      <td>75.000000</td>\n",
       "      <td>18424.000000</td>\n",
       "    </tr>\n",
       "  </tbody>\n",
       "</table>\n",
       "</div>"
      ],
      "text/plain": [
       "       Age in years  Credit amount\n",
       "count   1000.000000    1000.000000\n",
       "mean      35.546000    3271.258000\n",
       "std       11.375469    2822.736876\n",
       "min       19.000000     250.000000\n",
       "25%       27.000000    1365.500000\n",
       "50%       33.000000    2319.500000\n",
       "75%       42.000000    3972.250000\n",
       "max       75.000000   18424.000000"
      ]
     },
     "execution_count": 76,
     "metadata": {},
     "output_type": "execute_result"
    }
   ],
   "source": [
    "# Select Two colulmns:  Age in years, Credit amount\n",
    "dfHC = df_num.iloc[:,[4,1]]\n",
    "dfHC.describe()"
   ]
  },
  {
   "cell_type": "code",
   "execution_count": 77,
   "metadata": {},
   "outputs": [],
   "source": [
    "# Scaling the data so that all the features/attributes become comparable \n",
    "X =dfHC.values\n",
    "scaler = StandardScaler() \n",
    "XHC_scaled = scaler.fit_transform(X) \n"
   ]
  },
  {
   "cell_type": "code",
   "execution_count": 78,
   "metadata": {},
   "outputs": [
    {
     "name": "stdout",
     "output_type": "stream",
     "text": [
      "For n_clusters=2, the silhouette score is 0.4747026880087615\n",
      "For n_clusters=3, the silhouette score is 0.4801224391207474\n",
      "For n_clusters=4, the silhouette score is 0.3326921058089698\n",
      "For n_clusters=5, the silhouette score is 0.334884399490638\n",
      "For n_clusters=6, the silhouette score is 0.3438995855572909\n",
      "For n_clusters=7, the silhouette score is 0.3370084313366464\n",
      "For n_clusters=8, the silhouette score is 0.34351859345111596\n",
      "For n_clusters=9, the silhouette score is 0.3503923037973436\n",
      "For n_clusters=10, the silhouette score is 0.3562321738197637\n",
      "For n_clusters=11, the silhouette score is 0.35992535666046843\n"
     ]
    }
   ],
   "source": [
    "# Silhouette Scores \n",
    "k_range = range(2,12)\n",
    "\n",
    "for i in k_range:\n",
    "    ac_i = AgglomerativeClustering(n_clusters = i,linkage='ward')\n",
    "    silhouette_avg=silhouette_score(XHC_scaled, ac_i.fit_predict(XHC_scaled))\n",
    "\n",
    "    print(\"For n_clusters={0}, the silhouette score is {1}\".format(i, silhouette_avg))"
   ]
  },
  {
   "cell_type": "code",
   "execution_count": 79,
   "metadata": {},
   "outputs": [
    {
     "name": "stdout",
     "output_type": "stream",
     "text": [
      "For n_clusters=2, the silhouette score is 0.5631501521683513\n",
      "For n_clusters=3, the silhouette score is 0.5381507153650846\n",
      "For n_clusters=4, the silhouette score is 0.44301615479171\n",
      "For n_clusters=5, the silhouette score is 0.4160019030629328\n",
      "For n_clusters=6, the silhouette score is 0.40232410001765984\n",
      "For n_clusters=7, the silhouette score is 0.41432261912588353\n",
      "For n_clusters=8, the silhouette score is 0.41267845145032195\n",
      "For n_clusters=9, the silhouette score is 0.4117566667085667\n",
      "For n_clusters=10, the silhouette score is 0.40993037417589473\n",
      "For n_clusters=11, the silhouette score is 0.3760208649371099\n"
     ]
    }
   ],
   "source": [
    "# Silhouette Scores \n",
    "k_range = range(2,12)\n",
    "\n",
    "for i in k_range:\n",
    "    ac_i = AgglomerativeClustering(n_clusters = i,linkage='average')\n",
    "    silhouette_avg=silhouette_score(XHC_scaled, ac_i.fit_predict(XHC_scaled))\n",
    "\n",
    "    print(\"For n_clusters={0}, the silhouette score is {1}\".format(i, silhouette_avg))"
   ]
  },
  {
   "cell_type": "markdown",
   "metadata": {},
   "source": [
    "we achieve a highest silhouette score with average linkage method with 0.5631 in 2 clusters."
   ]
  },
  {
   "cell_type": "code",
   "execution_count": 80,
   "metadata": {},
   "outputs": [
    {
     "data": {
      "text/html": [
       "<div>\n",
       "<style scoped>\n",
       "    .dataframe tbody tr th:only-of-type {\n",
       "        vertical-align: middle;\n",
       "    }\n",
       "\n",
       "    .dataframe tbody tr th {\n",
       "        vertical-align: top;\n",
       "    }\n",
       "\n",
       "    .dataframe thead th {\n",
       "        text-align: right;\n",
       "    }\n",
       "</style>\n",
       "<table border=\"1\" class=\"dataframe\">\n",
       "  <thead>\n",
       "    <tr style=\"text-align: right;\">\n",
       "      <th></th>\n",
       "      <th>Age in years</th>\n",
       "      <th>Job</th>\n",
       "    </tr>\n",
       "  </thead>\n",
       "  <tbody>\n",
       "    <tr>\n",
       "      <th>count</th>\n",
       "      <td>1000.000000</td>\n",
       "      <td>1000.000000</td>\n",
       "    </tr>\n",
       "    <tr>\n",
       "      <th>mean</th>\n",
       "      <td>35.546000</td>\n",
       "      <td>0.562000</td>\n",
       "    </tr>\n",
       "    <tr>\n",
       "      <th>std</th>\n",
       "      <td>11.375469</td>\n",
       "      <td>0.821481</td>\n",
       "    </tr>\n",
       "    <tr>\n",
       "      <th>min</th>\n",
       "      <td>19.000000</td>\n",
       "      <td>0.000000</td>\n",
       "    </tr>\n",
       "    <tr>\n",
       "      <th>25%</th>\n",
       "      <td>27.000000</td>\n",
       "      <td>0.000000</td>\n",
       "    </tr>\n",
       "    <tr>\n",
       "      <th>50%</th>\n",
       "      <td>33.000000</td>\n",
       "      <td>0.000000</td>\n",
       "    </tr>\n",
       "    <tr>\n",
       "      <th>75%</th>\n",
       "      <td>42.000000</td>\n",
       "      <td>1.000000</td>\n",
       "    </tr>\n",
       "    <tr>\n",
       "      <th>max</th>\n",
       "      <td>75.000000</td>\n",
       "      <td>3.000000</td>\n",
       "    </tr>\n",
       "  </tbody>\n",
       "</table>\n",
       "</div>"
      ],
      "text/plain": [
       "       Age in years          Job\n",
       "count   1000.000000  1000.000000\n",
       "mean      35.546000     0.562000\n",
       "std       11.375469     0.821481\n",
       "min       19.000000     0.000000\n",
       "25%       27.000000     0.000000\n",
       "50%       33.000000     0.000000\n",
       "75%       42.000000     1.000000\n",
       "max       75.000000     3.000000"
      ]
     },
     "execution_count": 80,
     "metadata": {},
     "output_type": "execute_result"
    }
   ],
   "source": [
    "# Select Two colulmns:  Age in years, job\n",
    "dfHC = df_num.iloc[:,[4,8]]\n",
    "dfHC.describe()"
   ]
  },
  {
   "cell_type": "code",
   "execution_count": 81,
   "metadata": {},
   "outputs": [],
   "source": [
    "# Scaling the data so that all the features/attributes become comparable \n",
    "X =dfHC.values\n",
    "scaler = StandardScaler() \n",
    "XHC_scaled = scaler.fit_transform(X) "
   ]
  },
  {
   "cell_type": "code",
   "execution_count": 82,
   "metadata": {},
   "outputs": [
    {
     "name": "stdout",
     "output_type": "stream",
     "text": [
      "For n_clusters=2, the silhouette score is 0.41638352789556055\n",
      "For n_clusters=3, the silhouette score is 0.5034613592493065\n",
      "For n_clusters=4, the silhouette score is 0.5057273447747184\n",
      "For n_clusters=5, the silhouette score is 0.5178271055351072\n",
      "For n_clusters=6, the silhouette score is 0.4890179894760615\n",
      "For n_clusters=7, the silhouette score is 0.5185356650389131\n",
      "For n_clusters=8, the silhouette score is 0.5279162554888067\n",
      "For n_clusters=9, the silhouette score is 0.5266194088145791\n",
      "For n_clusters=10, the silhouette score is 0.5016796114354671\n",
      "For n_clusters=11, the silhouette score is 0.5089799921768436\n"
     ]
    }
   ],
   "source": [
    "# Silhouette Scores \n",
    "k_range = range(2,12)\n",
    "\n",
    "for i in k_range:\n",
    "    ac_i = AgglomerativeClustering(n_clusters = i,linkage='ward')\n",
    "    silhouette_avg=silhouette_score(XHC_scaled, ac_i.fit_predict(XHC_scaled))\n",
    "\n",
    "    print(\"For n_clusters={0}, the silhouette score is {1}\".format(i, silhouette_avg))"
   ]
  },
  {
   "cell_type": "code",
   "execution_count": 83,
   "metadata": {},
   "outputs": [
    {
     "name": "stdout",
     "output_type": "stream",
     "text": [
      "For n_clusters=2, the silhouette score is 0.4684943400832299\n",
      "For n_clusters=3, the silhouette score is 0.47774165451057266\n",
      "For n_clusters=4, the silhouette score is 0.4622250276258949\n",
      "For n_clusters=5, the silhouette score is 0.46735339357770406\n",
      "For n_clusters=6, the silhouette score is 0.5368976177911408\n",
      "For n_clusters=7, the silhouette score is 0.5417524244411702\n",
      "For n_clusters=8, the silhouette score is 0.532807982973855\n",
      "For n_clusters=9, the silhouette score is 0.5471381475461097\n",
      "For n_clusters=10, the silhouette score is 0.5441554583314989\n",
      "For n_clusters=11, the silhouette score is 0.5414164311595897\n"
     ]
    }
   ],
   "source": [
    "# Silhouette Scores \n",
    "k_range = range(2,12)\n",
    "\n",
    "for i in k_range:\n",
    "    ac_i = AgglomerativeClustering(n_clusters = i,linkage='average')\n",
    "    silhouette_avg=silhouette_score(XHC_scaled, ac_i.fit_predict(XHC_scaled))\n",
    "\n",
    "    print(\"For n_clusters={0}, the silhouette score is {1}\".format(i, silhouette_avg))"
   ]
  },
  {
   "cell_type": "markdown",
   "metadata": {},
   "source": [
    "we achieve a highest silhouette score with average linkage method with 0.544 in 10 clusters. followed by 0.5279 with ward method at 8 lucsters, they are too huge to handle so it might not be a good choice"
   ]
  },
  {
   "cell_type": "code",
   "execution_count": 157,
   "metadata": {},
   "outputs": [
    {
     "data": {
      "text/html": [
       "<div>\n",
       "<style scoped>\n",
       "    .dataframe tbody tr th:only-of-type {\n",
       "        vertical-align: middle;\n",
       "    }\n",
       "\n",
       "    .dataframe tbody tr th {\n",
       "        vertical-align: top;\n",
       "    }\n",
       "\n",
       "    .dataframe thead th {\n",
       "        text-align: right;\n",
       "    }\n",
       "</style>\n",
       "<table border=\"1\" class=\"dataframe\">\n",
       "  <thead>\n",
       "    <tr style=\"text-align: right;\">\n",
       "      <th></th>\n",
       "      <th>Age in years</th>\n",
       "      <th>Number of existing credits at this bank</th>\n",
       "    </tr>\n",
       "  </thead>\n",
       "  <tbody>\n",
       "    <tr>\n",
       "      <th>count</th>\n",
       "      <td>1000.000000</td>\n",
       "      <td>1000.000000</td>\n",
       "    </tr>\n",
       "    <tr>\n",
       "      <th>mean</th>\n",
       "      <td>35.546000</td>\n",
       "      <td>1.407000</td>\n",
       "    </tr>\n",
       "    <tr>\n",
       "      <th>std</th>\n",
       "      <td>11.375469</td>\n",
       "      <td>0.577654</td>\n",
       "    </tr>\n",
       "    <tr>\n",
       "      <th>min</th>\n",
       "      <td>19.000000</td>\n",
       "      <td>1.000000</td>\n",
       "    </tr>\n",
       "    <tr>\n",
       "      <th>25%</th>\n",
       "      <td>27.000000</td>\n",
       "      <td>1.000000</td>\n",
       "    </tr>\n",
       "    <tr>\n",
       "      <th>50%</th>\n",
       "      <td>33.000000</td>\n",
       "      <td>1.000000</td>\n",
       "    </tr>\n",
       "    <tr>\n",
       "      <th>75%</th>\n",
       "      <td>42.000000</td>\n",
       "      <td>2.000000</td>\n",
       "    </tr>\n",
       "    <tr>\n",
       "      <th>max</th>\n",
       "      <td>75.000000</td>\n",
       "      <td>4.000000</td>\n",
       "    </tr>\n",
       "  </tbody>\n",
       "</table>\n",
       "</div>"
      ],
      "text/plain": [
       "       Age in years  Number of existing credits at this bank\n",
       "count   1000.000000                              1000.000000\n",
       "mean      35.546000                                 1.407000\n",
       "std       11.375469                                 0.577654\n",
       "min       19.000000                                 1.000000\n",
       "25%       27.000000                                 1.000000\n",
       "50%       33.000000                                 1.000000\n",
       "75%       42.000000                                 2.000000\n",
       "max       75.000000                                 4.000000"
      ]
     },
     "execution_count": 157,
     "metadata": {},
     "output_type": "execute_result"
    }
   ],
   "source": [
    "# Select Two colulmns:  Age in years, Number of existing credits at this bank\n",
    "dfHC = df_num.iloc[:,[4,5]]\n",
    "dfHC.describe()"
   ]
  },
  {
   "cell_type": "code",
   "execution_count": 158,
   "metadata": {},
   "outputs": [],
   "source": [
    "# Scaling the data so that all the features/attributes become comparable \n",
    "X =dfHC.values\n",
    "scaler = StandardScaler() \n",
    "XHC_scaled = scaler.fit_transform(X) "
   ]
  },
  {
   "cell_type": "code",
   "execution_count": 159,
   "metadata": {},
   "outputs": [
    {
     "name": "stdout",
     "output_type": "stream",
     "text": [
      "For n_clusters=2, the silhouette score is 0.5146919160784551\n",
      "For n_clusters=3, the silhouette score is 0.5416909635540793\n",
      "For n_clusters=4, the silhouette score is 0.5767530096975692\n",
      "For n_clusters=5, the silhouette score is 0.5881274127749511\n",
      "For n_clusters=6, the silhouette score is 0.5525348160693666\n",
      "For n_clusters=7, the silhouette score is 0.532018976874751\n",
      "For n_clusters=8, the silhouette score is 0.5202957350086699\n",
      "For n_clusters=9, the silhouette score is 0.524240115998554\n",
      "For n_clusters=10, the silhouette score is 0.5233733893962309\n",
      "For n_clusters=11, the silhouette score is 0.5284401641555496\n"
     ]
    }
   ],
   "source": [
    "# Silhouette Scores \n",
    "k_range = range(2,12)\n",
    "\n",
    "for i in k_range:\n",
    "    ac_i = AgglomerativeClustering(n_clusters = i,linkage='ward')\n",
    "    silhouette_avg=silhouette_score(XHC_scaled, ac_i.fit_predict(XHC_scaled))\n",
    "\n",
    "    print(\"For n_clusters={0}, the silhouette score is {1}\".format(i, silhouette_avg))"
   ]
  },
  {
   "cell_type": "code",
   "execution_count": 160,
   "metadata": {},
   "outputs": [
    {
     "name": "stdout",
     "output_type": "stream",
     "text": [
      "For n_clusters=2, the silhouette score is 0.6320876717695005\n",
      "For n_clusters=3, the silhouette score is 0.4729514150726119\n",
      "For n_clusters=4, the silhouette score is 0.43704268714535677\n",
      "For n_clusters=5, the silhouette score is 0.485916086023002\n",
      "For n_clusters=6, the silhouette score is 0.4818652448615041\n",
      "For n_clusters=7, the silhouette score is 0.48943411119649216\n",
      "For n_clusters=8, the silhouette score is 0.4894807446923777\n",
      "For n_clusters=9, the silhouette score is 0.56805048127741\n",
      "For n_clusters=10, the silhouette score is 0.5696054438749979\n",
      "For n_clusters=11, the silhouette score is 0.5892483987636532\n"
     ]
    }
   ],
   "source": [
    "# Silhouette Scores \n",
    "k_range = range(2,12)\n",
    "\n",
    "for i in k_range:\n",
    "    ac_i = AgglomerativeClustering(n_clusters = i,linkage='average')\n",
    "    silhouette_avg=silhouette_score(XHC_scaled, ac_i.fit_predict(XHC_scaled))\n",
    "\n",
    "    print(\"For n_clusters={0}, the silhouette score is {1}\".format(i, silhouette_avg))"
   ]
  },
  {
   "cell_type": "markdown",
   "metadata": {},
   "source": [
    "we achieve a highest silhouette score with average linkage method with 0.632 in 2 clusters."
   ]
  },
  {
   "cell_type": "code",
   "execution_count": 88,
   "metadata": {},
   "outputs": [
    {
     "data": {
      "text/html": [
       "<div>\n",
       "<style scoped>\n",
       "    .dataframe tbody tr th:only-of-type {\n",
       "        vertical-align: middle;\n",
       "    }\n",
       "\n",
       "    .dataframe tbody tr th {\n",
       "        vertical-align: top;\n",
       "    }\n",
       "\n",
       "    .dataframe thead th {\n",
       "        text-align: right;\n",
       "    }\n",
       "</style>\n",
       "<table border=\"1\" class=\"dataframe\">\n",
       "  <thead>\n",
       "    <tr style=\"text-align: right;\">\n",
       "      <th></th>\n",
       "      <th>Credit amount</th>\n",
       "      <th>Number of people being liable to provide maintenance for</th>\n",
       "    </tr>\n",
       "  </thead>\n",
       "  <tbody>\n",
       "    <tr>\n",
       "      <th>count</th>\n",
       "      <td>1000.000000</td>\n",
       "      <td>1000.000000</td>\n",
       "    </tr>\n",
       "    <tr>\n",
       "      <th>mean</th>\n",
       "      <td>3271.258000</td>\n",
       "      <td>1.155000</td>\n",
       "    </tr>\n",
       "    <tr>\n",
       "      <th>std</th>\n",
       "      <td>2822.736876</td>\n",
       "      <td>0.362086</td>\n",
       "    </tr>\n",
       "    <tr>\n",
       "      <th>min</th>\n",
       "      <td>250.000000</td>\n",
       "      <td>1.000000</td>\n",
       "    </tr>\n",
       "    <tr>\n",
       "      <th>25%</th>\n",
       "      <td>1365.500000</td>\n",
       "      <td>1.000000</td>\n",
       "    </tr>\n",
       "    <tr>\n",
       "      <th>50%</th>\n",
       "      <td>2319.500000</td>\n",
       "      <td>1.000000</td>\n",
       "    </tr>\n",
       "    <tr>\n",
       "      <th>75%</th>\n",
       "      <td>3972.250000</td>\n",
       "      <td>1.000000</td>\n",
       "    </tr>\n",
       "    <tr>\n",
       "      <th>max</th>\n",
       "      <td>18424.000000</td>\n",
       "      <td>2.000000</td>\n",
       "    </tr>\n",
       "  </tbody>\n",
       "</table>\n",
       "</div>"
      ],
      "text/plain": [
       "       Credit amount  Number of people being liable to provide maintenance for\n",
       "count    1000.000000                                        1000.000000       \n",
       "mean     3271.258000                                           1.155000       \n",
       "std      2822.736876                                           0.362086       \n",
       "min       250.000000                                           1.000000       \n",
       "25%      1365.500000                                           1.000000       \n",
       "50%      2319.500000                                           1.000000       \n",
       "75%      3972.250000                                           1.000000       \n",
       "max     18424.000000                                           2.000000       "
      ]
     },
     "execution_count": 88,
     "metadata": {},
     "output_type": "execute_result"
    }
   ],
   "source": [
    "# Select Two colulmns:  Age in years, Number of existing credits at this bank\n",
    "dfHC = df_num.iloc[:,[1,6]]\n",
    "dfHC.describe()"
   ]
  },
  {
   "cell_type": "code",
   "execution_count": 89,
   "metadata": {},
   "outputs": [],
   "source": [
    "# Scaling the data so that all the features/attributes become comparable \n",
    "X =dfHC.values\n",
    "scaler = StandardScaler() \n",
    "XHC_scaled = scaler.fit_transform(X) "
   ]
  },
  {
   "cell_type": "code",
   "execution_count": 90,
   "metadata": {},
   "outputs": [
    {
     "name": "stdout",
     "output_type": "stream",
     "text": [
      "For n_clusters=2, the silhouette score is 0.6890905477681898\n",
      "For n_clusters=3, the silhouette score is 0.6935289884037867\n",
      "For n_clusters=4, the silhouette score is 0.6781223116147094\n",
      "For n_clusters=5, the silhouette score is 0.6857640296329561\n",
      "For n_clusters=6, the silhouette score is 0.5907195099989283\n",
      "For n_clusters=7, the silhouette score is 0.5980826556402503\n",
      "For n_clusters=8, the silhouette score is 0.5775030605521356\n",
      "For n_clusters=9, the silhouette score is 0.5814140187812163\n",
      "For n_clusters=10, the silhouette score is 0.5486200610390792\n",
      "For n_clusters=11, the silhouette score is 0.5498376226802247\n"
     ]
    }
   ],
   "source": [
    "# Silhouette Scores \n",
    "k_range = range(2,12)\n",
    "\n",
    "for i in k_range:\n",
    "    ac_i = AgglomerativeClustering(n_clusters = i,linkage='ward')\n",
    "    silhouette_avg=silhouette_score(XHC_scaled, ac_i.fit_predict(XHC_scaled))\n",
    "\n",
    "    print(\"For n_clusters={0}, the silhouette score is {1}\".format(i, silhouette_avg))"
   ]
  },
  {
   "cell_type": "code",
   "execution_count": 91,
   "metadata": {},
   "outputs": [
    {
     "name": "stdout",
     "output_type": "stream",
     "text": [
      "For n_clusters=2, the silhouette score is 0.6398522740392057\n",
      "For n_clusters=3, the silhouette score is 0.6816201248594489\n",
      "For n_clusters=4, the silhouette score is 0.6949560577279881\n",
      "For n_clusters=5, the silhouette score is 0.7022758729191754\n",
      "For n_clusters=6, the silhouette score is 0.6655560689149002\n",
      "For n_clusters=7, the silhouette score is 0.6640067516767097\n",
      "For n_clusters=8, the silhouette score is 0.6553648240293448\n",
      "For n_clusters=9, the silhouette score is 0.6003146560613464\n",
      "For n_clusters=10, the silhouette score is 0.5996757590641112\n",
      "For n_clusters=11, the silhouette score is 0.5900451555069406\n"
     ]
    }
   ],
   "source": [
    "# Silhouette Scores \n",
    "k_range = range(2,12)\n",
    "\n",
    "for i in k_range:\n",
    "    ac_i = AgglomerativeClustering(n_clusters = i,linkage='average')\n",
    "    silhouette_avg=silhouette_score(XHC_scaled, ac_i.fit_predict(XHC_scaled))\n",
    "\n",
    "    print(\"For n_clusters={0}, the silhouette score is {1}\".format(i, silhouette_avg))"
   ]
  },
  {
   "cell_type": "markdown",
   "metadata": {},
   "source": [
    "we achieve a highest silhouette score with average linkage method with 0.70227 in 5 clusters."
   ]
  },
  {
   "cell_type": "code",
   "execution_count": 92,
   "metadata": {},
   "outputs": [
    {
     "data": {
      "text/html": [
       "<div>\n",
       "<style scoped>\n",
       "    .dataframe tbody tr th:only-of-type {\n",
       "        vertical-align: middle;\n",
       "    }\n",
       "\n",
       "    .dataframe tbody tr th {\n",
       "        vertical-align: top;\n",
       "    }\n",
       "\n",
       "    .dataframe thead th {\n",
       "        text-align: right;\n",
       "    }\n",
       "</style>\n",
       "<table border=\"1\" class=\"dataframe\">\n",
       "  <thead>\n",
       "    <tr style=\"text-align: right;\">\n",
       "      <th></th>\n",
       "      <th>Credit amount</th>\n",
       "      <th>Number of existing credits at this bank</th>\n",
       "    </tr>\n",
       "  </thead>\n",
       "  <tbody>\n",
       "    <tr>\n",
       "      <th>count</th>\n",
       "      <td>1000.000000</td>\n",
       "      <td>1000.000000</td>\n",
       "    </tr>\n",
       "    <tr>\n",
       "      <th>mean</th>\n",
       "      <td>3271.258000</td>\n",
       "      <td>1.407000</td>\n",
       "    </tr>\n",
       "    <tr>\n",
       "      <th>std</th>\n",
       "      <td>2822.736876</td>\n",
       "      <td>0.577654</td>\n",
       "    </tr>\n",
       "    <tr>\n",
       "      <th>min</th>\n",
       "      <td>250.000000</td>\n",
       "      <td>1.000000</td>\n",
       "    </tr>\n",
       "    <tr>\n",
       "      <th>25%</th>\n",
       "      <td>1365.500000</td>\n",
       "      <td>1.000000</td>\n",
       "    </tr>\n",
       "    <tr>\n",
       "      <th>50%</th>\n",
       "      <td>2319.500000</td>\n",
       "      <td>1.000000</td>\n",
       "    </tr>\n",
       "    <tr>\n",
       "      <th>75%</th>\n",
       "      <td>3972.250000</td>\n",
       "      <td>2.000000</td>\n",
       "    </tr>\n",
       "    <tr>\n",
       "      <th>max</th>\n",
       "      <td>18424.000000</td>\n",
       "      <td>4.000000</td>\n",
       "    </tr>\n",
       "  </tbody>\n",
       "</table>\n",
       "</div>"
      ],
      "text/plain": [
       "       Credit amount  Number of existing credits at this bank\n",
       "count    1000.000000                              1000.000000\n",
       "mean     3271.258000                                 1.407000\n",
       "std      2822.736876                                 0.577654\n",
       "min       250.000000                                 1.000000\n",
       "25%      1365.500000                                 1.000000\n",
       "50%      2319.500000                                 1.000000\n",
       "75%      3972.250000                                 2.000000\n",
       "max     18424.000000                                 4.000000"
      ]
     },
     "execution_count": 92,
     "metadata": {},
     "output_type": "execute_result"
    }
   ],
   "source": [
    "# Select Two colulmns:  Credit amount, Number of existing credits at this bank\n",
    "dfHC = df_num.iloc[:,[1,5]]\n",
    "dfHC.describe()"
   ]
  },
  {
   "cell_type": "code",
   "execution_count": 93,
   "metadata": {},
   "outputs": [],
   "source": [
    "# Scaling the data so that all the features/attributes become comparable \n",
    "X =dfHC.values\n",
    "scaler = StandardScaler() \n",
    "XHC_scaled = scaler.fit_transform(X) "
   ]
  },
  {
   "cell_type": "code",
   "execution_count": 94,
   "metadata": {},
   "outputs": [
    {
     "name": "stdout",
     "output_type": "stream",
     "text": [
      "For n_clusters=2, the silhouette score is 0.5480785630375012\n",
      "For n_clusters=3, the silhouette score is 0.6253024353232038\n",
      "For n_clusters=4, the silhouette score is 0.620737726713803\n",
      "For n_clusters=5, the silhouette score is 0.657035765083109\n",
      "For n_clusters=6, the silhouette score is 0.6554110751345886\n",
      "For n_clusters=7, the silhouette score is 0.6105023022665552\n",
      "For n_clusters=8, the silhouette score is 0.597704882674414\n",
      "For n_clusters=9, the silhouette score is 0.6036242452663158\n",
      "For n_clusters=10, the silhouette score is 0.6081281523060398\n",
      "For n_clusters=11, the silhouette score is 0.6035084998208982\n"
     ]
    }
   ],
   "source": [
    "# Silhouette Scores \n",
    "k_range = range(2,12)\n",
    "\n",
    "for i in k_range:\n",
    "    ac_i = AgglomerativeClustering(n_clusters = i,linkage='ward')\n",
    "    silhouette_avg=silhouette_score(XHC_scaled, ac_i.fit_predict(XHC_scaled))\n",
    "\n",
    "    print(\"For n_clusters={0}, the silhouette score is {1}\".format(i, silhouette_avg))"
   ]
  },
  {
   "cell_type": "code",
   "execution_count": 95,
   "metadata": {},
   "outputs": [
    {
     "name": "stdout",
     "output_type": "stream",
     "text": [
      "For n_clusters=2, the silhouette score is 0.5889414211742238\n",
      "For n_clusters=3, the silhouette score is 0.5296232073120568\n",
      "For n_clusters=4, the silhouette score is 0.5057732162073101\n",
      "For n_clusters=5, the silhouette score is 0.495113033023481\n",
      "For n_clusters=6, the silhouette score is 0.5898332282635002\n",
      "For n_clusters=7, the silhouette score is 0.5860830212423991\n",
      "For n_clusters=8, the silhouette score is 0.634018512304596\n",
      "For n_clusters=9, the silhouette score is 0.6384335074893127\n",
      "For n_clusters=10, the silhouette score is 0.6733963054569924\n",
      "For n_clusters=11, the silhouette score is 0.6707647975199854\n"
     ]
    }
   ],
   "source": [
    "# Silhouette Scores \n",
    "k_range = range(2,12)\n",
    "\n",
    "for i in k_range:\n",
    "    ac_i = AgglomerativeClustering(n_clusters = i,linkage='average')\n",
    "    silhouette_avg=silhouette_score(XHC_scaled, ac_i.fit_predict(XHC_scaled))\n",
    "\n",
    "    print(\"For n_clusters={0}, the silhouette score is {1}\".format(i, silhouette_avg))"
   ]
  },
  {
   "cell_type": "markdown",
   "metadata": {},
   "source": [
    "although we achieve 0.673 hilhouette score with average linkage mehtod at 10 cluster. the cluster is too much to handle, thus highest silhouette score is 0.657 at 5 clusters with ward linkage method"
   ]
  },
  {
   "cell_type": "code",
   "execution_count": 96,
   "metadata": {},
   "outputs": [
    {
     "data": {
      "text/html": [
       "<div>\n",
       "<style scoped>\n",
       "    .dataframe tbody tr th:only-of-type {\n",
       "        vertical-align: middle;\n",
       "    }\n",
       "\n",
       "    .dataframe tbody tr th {\n",
       "        vertical-align: top;\n",
       "    }\n",
       "\n",
       "    .dataframe thead th {\n",
       "        text-align: right;\n",
       "    }\n",
       "</style>\n",
       "<table border=\"1\" class=\"dataframe\">\n",
       "  <thead>\n",
       "    <tr style=\"text-align: right;\">\n",
       "      <th></th>\n",
       "      <th>Credit amount</th>\n",
       "      <th>Job</th>\n",
       "    </tr>\n",
       "  </thead>\n",
       "  <tbody>\n",
       "    <tr>\n",
       "      <th>count</th>\n",
       "      <td>1000.000000</td>\n",
       "      <td>1000.000000</td>\n",
       "    </tr>\n",
       "    <tr>\n",
       "      <th>mean</th>\n",
       "      <td>3271.258000</td>\n",
       "      <td>0.562000</td>\n",
       "    </tr>\n",
       "    <tr>\n",
       "      <th>std</th>\n",
       "      <td>2822.736876</td>\n",
       "      <td>0.821481</td>\n",
       "    </tr>\n",
       "    <tr>\n",
       "      <th>min</th>\n",
       "      <td>250.000000</td>\n",
       "      <td>0.000000</td>\n",
       "    </tr>\n",
       "    <tr>\n",
       "      <th>25%</th>\n",
       "      <td>1365.500000</td>\n",
       "      <td>0.000000</td>\n",
       "    </tr>\n",
       "    <tr>\n",
       "      <th>50%</th>\n",
       "      <td>2319.500000</td>\n",
       "      <td>0.000000</td>\n",
       "    </tr>\n",
       "    <tr>\n",
       "      <th>75%</th>\n",
       "      <td>3972.250000</td>\n",
       "      <td>1.000000</td>\n",
       "    </tr>\n",
       "    <tr>\n",
       "      <th>max</th>\n",
       "      <td>18424.000000</td>\n",
       "      <td>3.000000</td>\n",
       "    </tr>\n",
       "  </tbody>\n",
       "</table>\n",
       "</div>"
      ],
      "text/plain": [
       "       Credit amount          Job\n",
       "count    1000.000000  1000.000000\n",
       "mean     3271.258000     0.562000\n",
       "std      2822.736876     0.821481\n",
       "min       250.000000     0.000000\n",
       "25%      1365.500000     0.000000\n",
       "50%      2319.500000     0.000000\n",
       "75%      3972.250000     1.000000\n",
       "max     18424.000000     3.000000"
      ]
     },
     "execution_count": 96,
     "metadata": {},
     "output_type": "execute_result"
    }
   ],
   "source": [
    "# Select Two colulmns:  Credit amount, job\n",
    "dfHC = df_num.iloc[:,[1,8]]\n",
    "dfHC.describe()"
   ]
  },
  {
   "cell_type": "code",
   "execution_count": 97,
   "metadata": {},
   "outputs": [],
   "source": [
    "# Scaling the data so that all the features/attributes become comparable \n",
    "X =dfHC.values\n",
    "scaler = StandardScaler() \n",
    "XHC_scaled = scaler.fit_transform(X) "
   ]
  },
  {
   "cell_type": "code",
   "execution_count": 98,
   "metadata": {},
   "outputs": [
    {
     "name": "stdout",
     "output_type": "stream",
     "text": [
      "For n_clusters=2, the silhouette score is 0.414211480810514\n",
      "For n_clusters=3, the silhouette score is 0.5319293648072976\n",
      "For n_clusters=4, the silhouette score is 0.5697827659429847\n",
      "For n_clusters=5, the silhouette score is 0.6013775153132342\n",
      "For n_clusters=6, the silhouette score is 0.5954293798229696\n",
      "For n_clusters=7, the silhouette score is 0.6011276759813104\n",
      "For n_clusters=8, the silhouette score is 0.5383864215365577\n",
      "For n_clusters=9, the silhouette score is 0.5415879024729083\n",
      "For n_clusters=10, the silhouette score is 0.556729433007883\n",
      "For n_clusters=11, the silhouette score is 0.5619074409438568\n"
     ]
    }
   ],
   "source": [
    "# Silhouette Scores \n",
    "k_range = range(2,12)\n",
    "\n",
    "for i in k_range:\n",
    "    ac_i = AgglomerativeClustering(n_clusters = i,linkage='ward')\n",
    "    silhouette_avg=silhouette_score(XHC_scaled, ac_i.fit_predict(XHC_scaled))\n",
    "\n",
    "    print(\"For n_clusters={0}, the silhouette score is {1}\".format(i, silhouette_avg))"
   ]
  },
  {
   "cell_type": "code",
   "execution_count": 99,
   "metadata": {},
   "outputs": [
    {
     "name": "stdout",
     "output_type": "stream",
     "text": [
      "For n_clusters=2, the silhouette score is 0.6175447280978679\n",
      "For n_clusters=3, the silhouette score is 0.5983090820330852\n",
      "For n_clusters=4, the silhouette score is 0.5430362438411463\n",
      "For n_clusters=5, the silhouette score is 0.5422320804541184\n",
      "For n_clusters=6, the silhouette score is 0.53816872616889\n",
      "For n_clusters=7, the silhouette score is 0.5312808912198645\n",
      "For n_clusters=8, the silhouette score is 0.5304756101238763\n",
      "For n_clusters=9, the silhouette score is 0.4950499364486319\n",
      "For n_clusters=10, the silhouette score is 0.4826447161233369\n",
      "For n_clusters=11, the silhouette score is 0.6049644224047338\n"
     ]
    }
   ],
   "source": [
    "# Silhouette Scores \n",
    "k_range = range(2,12)\n",
    "\n",
    "for i in k_range:\n",
    "    ac_i = AgglomerativeClustering(n_clusters = i,linkage='average')\n",
    "    silhouette_avg=silhouette_score(XHC_scaled, ac_i.fit_predict(XHC_scaled))\n",
    "\n",
    "    print(\"For n_clusters={0}, the silhouette score is {1}\".format(i, silhouette_avg))"
   ]
  },
  {
   "cell_type": "markdown",
   "metadata": {},
   "source": [
    "we achieve a highest silhouette score with average linkage method with 0.617 in 2 clusters."
   ]
  },
  {
   "cell_type": "markdown",
   "metadata": {},
   "source": [
    "For the 2 variable i chosen for the start will be credit amount and Number of people being liable to provide maintenance for as they have the highest silhouette score of 0.70"
   ]
  },
  {
   "cell_type": "markdown",
   "metadata": {},
   "source": [
    "# 3 vriables"
   ]
  },
  {
   "cell_type": "code",
   "execution_count": 100,
   "metadata": {},
   "outputs": [
    {
     "data": {
      "text/html": [
       "<div>\n",
       "<style scoped>\n",
       "    .dataframe tbody tr th:only-of-type {\n",
       "        vertical-align: middle;\n",
       "    }\n",
       "\n",
       "    .dataframe tbody tr th {\n",
       "        vertical-align: top;\n",
       "    }\n",
       "\n",
       "    .dataframe thead th {\n",
       "        text-align: right;\n",
       "    }\n",
       "</style>\n",
       "<table border=\"1\" class=\"dataframe\">\n",
       "  <thead>\n",
       "    <tr style=\"text-align: right;\">\n",
       "      <th></th>\n",
       "      <th>Credit amount</th>\n",
       "      <th>Number of people being liable to provide maintenance for</th>\n",
       "      <th>Age in years</th>\n",
       "    </tr>\n",
       "  </thead>\n",
       "  <tbody>\n",
       "    <tr>\n",
       "      <th>count</th>\n",
       "      <td>1000.000000</td>\n",
       "      <td>1000.000000</td>\n",
       "      <td>1000.000000</td>\n",
       "    </tr>\n",
       "    <tr>\n",
       "      <th>mean</th>\n",
       "      <td>3271.258000</td>\n",
       "      <td>1.155000</td>\n",
       "      <td>35.546000</td>\n",
       "    </tr>\n",
       "    <tr>\n",
       "      <th>std</th>\n",
       "      <td>2822.736876</td>\n",
       "      <td>0.362086</td>\n",
       "      <td>11.375469</td>\n",
       "    </tr>\n",
       "    <tr>\n",
       "      <th>min</th>\n",
       "      <td>250.000000</td>\n",
       "      <td>1.000000</td>\n",
       "      <td>19.000000</td>\n",
       "    </tr>\n",
       "    <tr>\n",
       "      <th>25%</th>\n",
       "      <td>1365.500000</td>\n",
       "      <td>1.000000</td>\n",
       "      <td>27.000000</td>\n",
       "    </tr>\n",
       "    <tr>\n",
       "      <th>50%</th>\n",
       "      <td>2319.500000</td>\n",
       "      <td>1.000000</td>\n",
       "      <td>33.000000</td>\n",
       "    </tr>\n",
       "    <tr>\n",
       "      <th>75%</th>\n",
       "      <td>3972.250000</td>\n",
       "      <td>1.000000</td>\n",
       "      <td>42.000000</td>\n",
       "    </tr>\n",
       "    <tr>\n",
       "      <th>max</th>\n",
       "      <td>18424.000000</td>\n",
       "      <td>2.000000</td>\n",
       "      <td>75.000000</td>\n",
       "    </tr>\n",
       "  </tbody>\n",
       "</table>\n",
       "</div>"
      ],
      "text/plain": [
       "       Credit amount  \\\n",
       "count    1000.000000   \n",
       "mean     3271.258000   \n",
       "std      2822.736876   \n",
       "min       250.000000   \n",
       "25%      1365.500000   \n",
       "50%      2319.500000   \n",
       "75%      3972.250000   \n",
       "max     18424.000000   \n",
       "\n",
       "       Number of people being liable to provide maintenance for  Age in years  \n",
       "count                                        1000.000000          1000.000000  \n",
       "mean                                            1.155000            35.546000  \n",
       "std                                             0.362086            11.375469  \n",
       "min                                             1.000000            19.000000  \n",
       "25%                                             1.000000            27.000000  \n",
       "50%                                             1.000000            33.000000  \n",
       "75%                                             1.000000            42.000000  \n",
       "max                                             2.000000            75.000000  "
      ]
     },
     "execution_count": 100,
     "metadata": {},
     "output_type": "execute_result"
    }
   ],
   "source": [
    "# Select three colulmns:  credit amount, Number of people being liable to provide maintenance for,age\n",
    "dfHC = df_num.iloc[:,[1,6,4]]\n",
    "dfHC.describe()"
   ]
  },
  {
   "cell_type": "code",
   "execution_count": 101,
   "metadata": {},
   "outputs": [],
   "source": [
    "# Scaling the data so that all the features/attributes become comparable \n",
    "X =dfHC.values\n",
    "scaler = StandardScaler() \n",
    "XHC_scaled = scaler.fit_transform(X) "
   ]
  },
  {
   "cell_type": "code",
   "execution_count": 102,
   "metadata": {},
   "outputs": [
    {
     "name": "stdout",
     "output_type": "stream",
     "text": [
      "For n_clusters=2, the silhouette score is 0.5088018159878303\n",
      "For n_clusters=3, the silhouette score is 0.4852747602128958\n",
      "For n_clusters=4, the silhouette score is 0.49766605464739194\n",
      "For n_clusters=5, the silhouette score is 0.4823928086867796\n",
      "For n_clusters=6, the silhouette score is 0.36354256206581104\n",
      "For n_clusters=7, the silhouette score is 0.36214789710195305\n",
      "For n_clusters=8, the silhouette score is 0.36284923368808686\n",
      "For n_clusters=9, the silhouette score is 0.35734498586277663\n",
      "For n_clusters=10, the silhouette score is 0.33754036545358085\n",
      "For n_clusters=11, the silhouette score is 0.3356817205187665\n"
     ]
    }
   ],
   "source": [
    "# Silhouette Scores \n",
    "k_range = range(2,12)\n",
    "\n",
    "for i in k_range:\n",
    "    ac_i = AgglomerativeClustering(n_clusters = i,linkage='ward')\n",
    "    silhouette_avg=silhouette_score(XHC_scaled, ac_i.fit_predict(XHC_scaled))\n",
    "\n",
    "    print(\"For n_clusters={0}, the silhouette score is {1}\".format(i, silhouette_avg))"
   ]
  },
  {
   "cell_type": "code",
   "execution_count": 103,
   "metadata": {},
   "outputs": [
    {
     "name": "stdout",
     "output_type": "stream",
     "text": [
      "For n_clusters=2, the silhouette score is 0.44785340877005086\n",
      "For n_clusters=3, the silhouette score is 0.5188481842705004\n",
      "For n_clusters=4, the silhouette score is 0.5005422855038993\n",
      "For n_clusters=5, the silhouette score is 0.4775365891574221\n",
      "For n_clusters=6, the silhouette score is 0.4434647137434597\n",
      "For n_clusters=7, the silhouette score is 0.4574023969561213\n",
      "For n_clusters=8, the silhouette score is 0.4603248512206403\n",
      "For n_clusters=9, the silhouette score is 0.4548762195172932\n",
      "For n_clusters=10, the silhouette score is 0.47177065707323257\n",
      "For n_clusters=11, the silhouette score is 0.4613113972117694\n"
     ]
    }
   ],
   "source": [
    "# Silhouette Scores \n",
    "k_range = range(2,12)\n",
    "\n",
    "for i in k_range:\n",
    "    ac_i = AgglomerativeClustering(n_clusters = i,linkage='average')\n",
    "    silhouette_avg=silhouette_score(XHC_scaled, ac_i.fit_predict(XHC_scaled))\n",
    "\n",
    "    print(\"For n_clusters={0}, the silhouette score is {1}\".format(i, silhouette_avg))"
   ]
  },
  {
   "cell_type": "markdown",
   "metadata": {},
   "source": [
    "The highest silhouette score for the three variable is 0.5188 with average linkage method at 3 clusters"
   ]
  },
  {
   "cell_type": "code",
   "execution_count": 104,
   "metadata": {},
   "outputs": [
    {
     "data": {
      "text/html": [
       "<div>\n",
       "<style scoped>\n",
       "    .dataframe tbody tr th:only-of-type {\n",
       "        vertical-align: middle;\n",
       "    }\n",
       "\n",
       "    .dataframe tbody tr th {\n",
       "        vertical-align: top;\n",
       "    }\n",
       "\n",
       "    .dataframe thead th {\n",
       "        text-align: right;\n",
       "    }\n",
       "</style>\n",
       "<table border=\"1\" class=\"dataframe\">\n",
       "  <thead>\n",
       "    <tr style=\"text-align: right;\">\n",
       "      <th></th>\n",
       "      <th>Credit amount</th>\n",
       "      <th>Number of people being liable to provide maintenance for</th>\n",
       "      <th>Job</th>\n",
       "    </tr>\n",
       "  </thead>\n",
       "  <tbody>\n",
       "    <tr>\n",
       "      <th>count</th>\n",
       "      <td>1000.000000</td>\n",
       "      <td>1000.000000</td>\n",
       "      <td>1000.000000</td>\n",
       "    </tr>\n",
       "    <tr>\n",
       "      <th>mean</th>\n",
       "      <td>3271.258000</td>\n",
       "      <td>1.155000</td>\n",
       "      <td>0.562000</td>\n",
       "    </tr>\n",
       "    <tr>\n",
       "      <th>std</th>\n",
       "      <td>2822.736876</td>\n",
       "      <td>0.362086</td>\n",
       "      <td>0.821481</td>\n",
       "    </tr>\n",
       "    <tr>\n",
       "      <th>min</th>\n",
       "      <td>250.000000</td>\n",
       "      <td>1.000000</td>\n",
       "      <td>0.000000</td>\n",
       "    </tr>\n",
       "    <tr>\n",
       "      <th>25%</th>\n",
       "      <td>1365.500000</td>\n",
       "      <td>1.000000</td>\n",
       "      <td>0.000000</td>\n",
       "    </tr>\n",
       "    <tr>\n",
       "      <th>50%</th>\n",
       "      <td>2319.500000</td>\n",
       "      <td>1.000000</td>\n",
       "      <td>0.000000</td>\n",
       "    </tr>\n",
       "    <tr>\n",
       "      <th>75%</th>\n",
       "      <td>3972.250000</td>\n",
       "      <td>1.000000</td>\n",
       "      <td>1.000000</td>\n",
       "    </tr>\n",
       "    <tr>\n",
       "      <th>max</th>\n",
       "      <td>18424.000000</td>\n",
       "      <td>2.000000</td>\n",
       "      <td>3.000000</td>\n",
       "    </tr>\n",
       "  </tbody>\n",
       "</table>\n",
       "</div>"
      ],
      "text/plain": [
       "       Credit amount  \\\n",
       "count    1000.000000   \n",
       "mean     3271.258000   \n",
       "std      2822.736876   \n",
       "min       250.000000   \n",
       "25%      1365.500000   \n",
       "50%      2319.500000   \n",
       "75%      3972.250000   \n",
       "max     18424.000000   \n",
       "\n",
       "       Number of people being liable to provide maintenance for          Job  \n",
       "count                                        1000.000000         1000.000000  \n",
       "mean                                            1.155000            0.562000  \n",
       "std                                             0.362086            0.821481  \n",
       "min                                             1.000000            0.000000  \n",
       "25%                                             1.000000            0.000000  \n",
       "50%                                             1.000000            0.000000  \n",
       "75%                                             1.000000            1.000000  \n",
       "max                                             2.000000            3.000000  "
      ]
     },
     "execution_count": 104,
     "metadata": {},
     "output_type": "execute_result"
    }
   ],
   "source": [
    "# Select three colulmns:  Age in years, Number of people being liable to provide maintenance for,job\n",
    "dfHC = df_num.iloc[:,[1,6,8]]\n",
    "dfHC.describe()"
   ]
  },
  {
   "cell_type": "code",
   "execution_count": 105,
   "metadata": {},
   "outputs": [],
   "source": [
    "# Scaling the data so that all the features/attributes become comparable \n",
    "X =dfHC.values\n",
    "scaler = StandardScaler() \n",
    "XHC_scaled = scaler.fit_transform(X) "
   ]
  },
  {
   "cell_type": "code",
   "execution_count": 106,
   "metadata": {},
   "outputs": [
    {
     "name": "stdout",
     "output_type": "stream",
     "text": [
      "For n_clusters=2, the silhouette score is 0.527700776085646\n",
      "For n_clusters=3, the silhouette score is 0.48915203279038194\n",
      "For n_clusters=4, the silhouette score is 0.5444648473106443\n",
      "For n_clusters=5, the silhouette score is 0.5257107375077396\n",
      "For n_clusters=6, the silhouette score is 0.5113424327561218\n",
      "For n_clusters=7, the silhouette score is 0.5161870090055336\n",
      "For n_clusters=8, the silhouette score is 0.5237530820248842\n",
      "For n_clusters=9, the silhouette score is 0.5294306132606386\n",
      "For n_clusters=10, the silhouette score is 0.5505387290954641\n",
      "For n_clusters=11, the silhouette score is 0.5534073383583078\n"
     ]
    }
   ],
   "source": [
    "# Silhouette Scores \n",
    "k_range = range(2,12)\n",
    "\n",
    "for i in k_range:\n",
    "    ac_i = AgglomerativeClustering(n_clusters = i,linkage='ward')\n",
    "    silhouette_avg=silhouette_score(XHC_scaled, ac_i.fit_predict(XHC_scaled))\n",
    "\n",
    "    print(\"For n_clusters={0}, the silhouette score is {1}\".format(i, silhouette_avg))"
   ]
  },
  {
   "cell_type": "code",
   "execution_count": 107,
   "metadata": {},
   "outputs": [
    {
     "name": "stdout",
     "output_type": "stream",
     "text": [
      "For n_clusters=2, the silhouette score is 0.4493923796119837\n",
      "For n_clusters=3, the silhouette score is 0.5337150081768998\n",
      "For n_clusters=4, the silhouette score is 0.5196022718735198\n",
      "For n_clusters=5, the silhouette score is 0.4774901336881845\n",
      "For n_clusters=6, the silhouette score is 0.5414002515185243\n",
      "For n_clusters=7, the silhouette score is 0.5494483403632813\n",
      "For n_clusters=8, the silhouette score is 0.5478211074850686\n",
      "For n_clusters=9, the silhouette score is 0.5311415620666814\n",
      "For n_clusters=10, the silhouette score is 0.5273738838654282\n",
      "For n_clusters=11, the silhouette score is 0.526108845190174\n"
     ]
    }
   ],
   "source": [
    "# Silhouette Scores \n",
    "k_range = range(2,12)\n",
    "\n",
    "for i in k_range:\n",
    "    ac_i = AgglomerativeClustering(n_clusters = i,linkage='average')\n",
    "    silhouette_avg=silhouette_score(XHC_scaled, ac_i.fit_predict(XHC_scaled))\n",
    "\n",
    "    print(\"For n_clusters={0}, the silhouette score is {1}\".format(i, silhouette_avg))"
   ]
  },
  {
   "cell_type": "markdown",
   "metadata": {},
   "source": [
    "we achieve a highest silhouette score with ward linkage method with 0.5534 in 11 clusters. followed by 0.5494 with average method at 7 clusters, they are too huge to handle so it might not be a good choice"
   ]
  },
  {
   "cell_type": "code",
   "execution_count": 108,
   "metadata": {},
   "outputs": [
    {
     "data": {
      "text/html": [
       "<div>\n",
       "<style scoped>\n",
       "    .dataframe tbody tr th:only-of-type {\n",
       "        vertical-align: middle;\n",
       "    }\n",
       "\n",
       "    .dataframe tbody tr th {\n",
       "        vertical-align: top;\n",
       "    }\n",
       "\n",
       "    .dataframe thead th {\n",
       "        text-align: right;\n",
       "    }\n",
       "</style>\n",
       "<table border=\"1\" class=\"dataframe\">\n",
       "  <thead>\n",
       "    <tr style=\"text-align: right;\">\n",
       "      <th></th>\n",
       "      <th>Credit amount</th>\n",
       "      <th>Number of people being liable to provide maintenance for</th>\n",
       "      <th>Number of existing credits at this bank</th>\n",
       "    </tr>\n",
       "  </thead>\n",
       "  <tbody>\n",
       "    <tr>\n",
       "      <th>count</th>\n",
       "      <td>1000.000000</td>\n",
       "      <td>1000.000000</td>\n",
       "      <td>1000.000000</td>\n",
       "    </tr>\n",
       "    <tr>\n",
       "      <th>mean</th>\n",
       "      <td>3271.258000</td>\n",
       "      <td>1.155000</td>\n",
       "      <td>1.407000</td>\n",
       "    </tr>\n",
       "    <tr>\n",
       "      <th>std</th>\n",
       "      <td>2822.736876</td>\n",
       "      <td>0.362086</td>\n",
       "      <td>0.577654</td>\n",
       "    </tr>\n",
       "    <tr>\n",
       "      <th>min</th>\n",
       "      <td>250.000000</td>\n",
       "      <td>1.000000</td>\n",
       "      <td>1.000000</td>\n",
       "    </tr>\n",
       "    <tr>\n",
       "      <th>25%</th>\n",
       "      <td>1365.500000</td>\n",
       "      <td>1.000000</td>\n",
       "      <td>1.000000</td>\n",
       "    </tr>\n",
       "    <tr>\n",
       "      <th>50%</th>\n",
       "      <td>2319.500000</td>\n",
       "      <td>1.000000</td>\n",
       "      <td>1.000000</td>\n",
       "    </tr>\n",
       "    <tr>\n",
       "      <th>75%</th>\n",
       "      <td>3972.250000</td>\n",
       "      <td>1.000000</td>\n",
       "      <td>2.000000</td>\n",
       "    </tr>\n",
       "    <tr>\n",
       "      <th>max</th>\n",
       "      <td>18424.000000</td>\n",
       "      <td>2.000000</td>\n",
       "      <td>4.000000</td>\n",
       "    </tr>\n",
       "  </tbody>\n",
       "</table>\n",
       "</div>"
      ],
      "text/plain": [
       "       Credit amount  \\\n",
       "count    1000.000000   \n",
       "mean     3271.258000   \n",
       "std      2822.736876   \n",
       "min       250.000000   \n",
       "25%      1365.500000   \n",
       "50%      2319.500000   \n",
       "75%      3972.250000   \n",
       "max     18424.000000   \n",
       "\n",
       "       Number of people being liable to provide maintenance for  \\\n",
       "count                                        1000.000000          \n",
       "mean                                            1.155000          \n",
       "std                                             0.362086          \n",
       "min                                             1.000000          \n",
       "25%                                             1.000000          \n",
       "50%                                             1.000000          \n",
       "75%                                             1.000000          \n",
       "max                                             2.000000          \n",
       "\n",
       "       Number of existing credits at this bank  \n",
       "count                              1000.000000  \n",
       "mean                                  1.407000  \n",
       "std                                   0.577654  \n",
       "min                                   1.000000  \n",
       "25%                                   1.000000  \n",
       "50%                                   1.000000  \n",
       "75%                                   2.000000  \n",
       "max                                   4.000000  "
      ]
     },
     "execution_count": 108,
     "metadata": {},
     "output_type": "execute_result"
    }
   ],
   "source": [
    "# Select three colulmns:  Age in years, Number of people being liable to provide maintenance for,Number of existing credits at this bank\n",
    "dfHC = df_num.iloc[:,[1,6,5]]\n",
    "dfHC.describe()"
   ]
  },
  {
   "cell_type": "code",
   "execution_count": 109,
   "metadata": {},
   "outputs": [],
   "source": [
    "# Scaling the data so that all the features/attributes become comparable \n",
    "X =dfHC.values\n",
    "scaler = StandardScaler() \n",
    "XHC_scaled = scaler.fit_transform(X) "
   ]
  },
  {
   "cell_type": "code",
   "execution_count": 110,
   "metadata": {
    "scrolled": true
   },
   "outputs": [
    {
     "name": "stdout",
     "output_type": "stream",
     "text": [
      "For n_clusters=2, the silhouette score is 0.5294835800816964\n",
      "For n_clusters=3, the silhouette score is 0.5073578758735312\n",
      "For n_clusters=4, the silhouette score is 0.591146953690825\n",
      "For n_clusters=5, the silhouette score is 0.6160710437377426\n",
      "For n_clusters=6, the silhouette score is 0.6223361747643671\n",
      "For n_clusters=7, the silhouette score is 0.6364280496960477\n",
      "For n_clusters=8, the silhouette score is 0.6495496241252613\n",
      "For n_clusters=9, the silhouette score is 0.6450744525390437\n",
      "For n_clusters=10, the silhouette score is 0.6039305253302119\n",
      "For n_clusters=11, the silhouette score is 0.60331154600576\n"
     ]
    }
   ],
   "source": [
    "# Silhouette Scores \n",
    "k_range = range(2,12)\n",
    "\n",
    "for i in k_range:\n",
    "    ac_i = AgglomerativeClustering(n_clusters = i,linkage='ward')\n",
    "    silhouette_avg=silhouette_score(XHC_scaled, ac_i.fit_predict(XHC_scaled))\n",
    "\n",
    "    print(\"For n_clusters={0}, the silhouette score is {1}\".format(i, silhouette_avg))\n"
   ]
  },
  {
   "cell_type": "code",
   "execution_count": 111,
   "metadata": {},
   "outputs": [
    {
     "name": "stdout",
     "output_type": "stream",
     "text": [
      "For n_clusters=2, the silhouette score is 0.5640962866207774\n",
      "For n_clusters=3, the silhouette score is 0.4837008912336767\n",
      "For n_clusters=4, the silhouette score is 0.40757970334319776\n",
      "For n_clusters=5, the silhouette score is 0.49955894358824127\n",
      "For n_clusters=6, the silhouette score is 0.4880720398369589\n",
      "For n_clusters=7, the silhouette score is 0.4852841157878534\n",
      "For n_clusters=8, the silhouette score is 0.47519023254176457\n",
      "For n_clusters=9, the silhouette score is 0.47627220828050604\n",
      "For n_clusters=10, the silhouette score is 0.48393756075122624\n",
      "For n_clusters=11, the silhouette score is 0.5915499653223004\n"
     ]
    }
   ],
   "source": [
    "# Silhouette Scores \n",
    "k_range = range(2,12)\n",
    "\n",
    "for i in k_range:\n",
    "    ac_i = AgglomerativeClustering(n_clusters = i,linkage='average')\n",
    "    silhouette_avg=silhouette_score(XHC_scaled, ac_i.fit_predict(XHC_scaled))\n",
    "\n",
    "    print(\"For n_clusters={0}, the silhouette score is {1}\".format(i, silhouette_avg))"
   ]
  },
  {
   "cell_type": "markdown",
   "metadata": {},
   "source": [
    "The highest silhouette score for the three variable is 0.6495 with ward linkage method at 8 clusters, it might be too larger to consider. however, it have highest silhouette score for average method of 0.5915 at 11 cluster, which is even larger to handle, thus this combination i might not consider."
   ]
  },
  {
   "cell_type": "code",
   "execution_count": 112,
   "metadata": {},
   "outputs": [
    {
     "data": {
      "text/html": [
       "<div>\n",
       "<style scoped>\n",
       "    .dataframe tbody tr th:only-of-type {\n",
       "        vertical-align: middle;\n",
       "    }\n",
       "\n",
       "    .dataframe tbody tr th {\n",
       "        vertical-align: top;\n",
       "    }\n",
       "\n",
       "    .dataframe thead th {\n",
       "        text-align: right;\n",
       "    }\n",
       "</style>\n",
       "<table border=\"1\" class=\"dataframe\">\n",
       "  <thead>\n",
       "    <tr style=\"text-align: right;\">\n",
       "      <th></th>\n",
       "      <th>Job</th>\n",
       "      <th>Number of people being liable to provide maintenance for</th>\n",
       "      <th>Age in years</th>\n",
       "    </tr>\n",
       "  </thead>\n",
       "  <tbody>\n",
       "    <tr>\n",
       "      <th>count</th>\n",
       "      <td>1000.000000</td>\n",
       "      <td>1000.000000</td>\n",
       "      <td>1000.000000</td>\n",
       "    </tr>\n",
       "    <tr>\n",
       "      <th>mean</th>\n",
       "      <td>0.562000</td>\n",
       "      <td>1.155000</td>\n",
       "      <td>35.546000</td>\n",
       "    </tr>\n",
       "    <tr>\n",
       "      <th>std</th>\n",
       "      <td>0.821481</td>\n",
       "      <td>0.362086</td>\n",
       "      <td>11.375469</td>\n",
       "    </tr>\n",
       "    <tr>\n",
       "      <th>min</th>\n",
       "      <td>0.000000</td>\n",
       "      <td>1.000000</td>\n",
       "      <td>19.000000</td>\n",
       "    </tr>\n",
       "    <tr>\n",
       "      <th>25%</th>\n",
       "      <td>0.000000</td>\n",
       "      <td>1.000000</td>\n",
       "      <td>27.000000</td>\n",
       "    </tr>\n",
       "    <tr>\n",
       "      <th>50%</th>\n",
       "      <td>0.000000</td>\n",
       "      <td>1.000000</td>\n",
       "      <td>33.000000</td>\n",
       "    </tr>\n",
       "    <tr>\n",
       "      <th>75%</th>\n",
       "      <td>1.000000</td>\n",
       "      <td>1.000000</td>\n",
       "      <td>42.000000</td>\n",
       "    </tr>\n",
       "    <tr>\n",
       "      <th>max</th>\n",
       "      <td>3.000000</td>\n",
       "      <td>2.000000</td>\n",
       "      <td>75.000000</td>\n",
       "    </tr>\n",
       "  </tbody>\n",
       "</table>\n",
       "</div>"
      ],
      "text/plain": [
       "               Job  Number of people being liable to provide maintenance for  \\\n",
       "count  1000.000000                                        1000.000000          \n",
       "mean      0.562000                                           1.155000          \n",
       "std       0.821481                                           0.362086          \n",
       "min       0.000000                                           1.000000          \n",
       "25%       0.000000                                           1.000000          \n",
       "50%       0.000000                                           1.000000          \n",
       "75%       1.000000                                           1.000000          \n",
       "max       3.000000                                           2.000000          \n",
       "\n",
       "       Age in years  \n",
       "count   1000.000000  \n",
       "mean      35.546000  \n",
       "std       11.375469  \n",
       "min       19.000000  \n",
       "25%       27.000000  \n",
       "50%       33.000000  \n",
       "75%       42.000000  \n",
       "max       75.000000  "
      ]
     },
     "execution_count": 112,
     "metadata": {},
     "output_type": "execute_result"
    }
   ],
   "source": [
    "# Select three colulmns:  job, Number of people being liable to provide maintenance for,age\n",
    "dfHC = df_num.iloc[:,[8,6,4]]\n",
    "dfHC.describe()"
   ]
  },
  {
   "cell_type": "code",
   "execution_count": 113,
   "metadata": {},
   "outputs": [],
   "source": [
    "# Scaling the data so that all the features/attributes become comparable \n",
    "X =dfHC.values\n",
    "scaler = StandardScaler() \n",
    "XHC_scaled = scaler.fit_transform(X) "
   ]
  },
  {
   "cell_type": "code",
   "execution_count": 114,
   "metadata": {},
   "outputs": [
    {
     "name": "stdout",
     "output_type": "stream",
     "text": [
      "For n_clusters=2, the silhouette score is 0.4976658440535565\n",
      "For n_clusters=3, the silhouette score is 0.4650470818103564\n",
      "For n_clusters=4, the silhouette score is 0.5131714332741324\n",
      "For n_clusters=5, the silhouette score is 0.4654426922580582\n",
      "For n_clusters=6, the silhouette score is 0.4682513410576858\n",
      "For n_clusters=7, the silhouette score is 0.5072496977902147\n",
      "For n_clusters=8, the silhouette score is 0.5033886533975792\n",
      "For n_clusters=9, the silhouette score is 0.5115410118924069\n",
      "For n_clusters=10, the silhouette score is 0.5145860120115167\n",
      "For n_clusters=11, the silhouette score is 0.514929989578168\n"
     ]
    }
   ],
   "source": [
    "# Silhouette Scores \n",
    "k_range = range(2,12)\n",
    "\n",
    "for i in k_range:\n",
    "    ac_i = AgglomerativeClustering(n_clusters = i,linkage='ward')\n",
    "    silhouette_avg=silhouette_score(XHC_scaled, ac_i.fit_predict(XHC_scaled))\n",
    "\n",
    "    print(\"For n_clusters={0}, the silhouette score is {1}\".format(i, silhouette_avg))"
   ]
  },
  {
   "cell_type": "code",
   "execution_count": 115,
   "metadata": {},
   "outputs": [
    {
     "name": "stdout",
     "output_type": "stream",
     "text": [
      "For n_clusters=2, the silhouette score is 0.508710884370072\n",
      "For n_clusters=3, the silhouette score is 0.4875340973627093\n",
      "For n_clusters=4, the silhouette score is 0.5146766648834296\n",
      "For n_clusters=5, the silhouette score is 0.5038290373153201\n",
      "For n_clusters=6, the silhouette score is 0.48857085187960897\n",
      "For n_clusters=7, the silhouette score is 0.46245375402256556\n",
      "For n_clusters=8, the silhouette score is 0.4439091831944201\n",
      "For n_clusters=9, the silhouette score is 0.4895438207888442\n",
      "For n_clusters=10, the silhouette score is 0.47019016218705795\n",
      "For n_clusters=11, the silhouette score is 0.4918477675685365\n"
     ]
    }
   ],
   "source": [
    "# Silhouette Scores \n",
    "k_range = range(2,12)\n",
    "\n",
    "for i in k_range:\n",
    "    ac_i = AgglomerativeClustering(n_clusters = i,linkage='average')\n",
    "    silhouette_avg=silhouette_score(XHC_scaled, ac_i.fit_predict(XHC_scaled))\n",
    "\n",
    "    print(\"For n_clusters={0}, the silhouette score is {1}\".format(i, silhouette_avg))"
   ]
  },
  {
   "cell_type": "markdown",
   "metadata": {},
   "source": [
    "The highest silhouette score for the three variable is0.5149 with ward method with 11 clusters, it is too large to handle, thus the follwed up one is 0.5146 with average linkage method at 4 clusters."
   ]
  },
  {
   "cell_type": "code",
   "execution_count": 116,
   "metadata": {},
   "outputs": [
    {
     "data": {
      "text/html": [
       "<div>\n",
       "<style scoped>\n",
       "    .dataframe tbody tr th:only-of-type {\n",
       "        vertical-align: middle;\n",
       "    }\n",
       "\n",
       "    .dataframe tbody tr th {\n",
       "        vertical-align: top;\n",
       "    }\n",
       "\n",
       "    .dataframe thead th {\n",
       "        text-align: right;\n",
       "    }\n",
       "</style>\n",
       "<table border=\"1\" class=\"dataframe\">\n",
       "  <thead>\n",
       "    <tr style=\"text-align: right;\">\n",
       "      <th></th>\n",
       "      <th>Credit amount</th>\n",
       "      <th>Number of existing credits at this bank</th>\n",
       "      <th>Age in years</th>\n",
       "    </tr>\n",
       "  </thead>\n",
       "  <tbody>\n",
       "    <tr>\n",
       "      <th>count</th>\n",
       "      <td>1000.000000</td>\n",
       "      <td>1000.000000</td>\n",
       "      <td>1000.000000</td>\n",
       "    </tr>\n",
       "    <tr>\n",
       "      <th>mean</th>\n",
       "      <td>3271.258000</td>\n",
       "      <td>1.407000</td>\n",
       "      <td>35.546000</td>\n",
       "    </tr>\n",
       "    <tr>\n",
       "      <th>std</th>\n",
       "      <td>2822.736876</td>\n",
       "      <td>0.577654</td>\n",
       "      <td>11.375469</td>\n",
       "    </tr>\n",
       "    <tr>\n",
       "      <th>min</th>\n",
       "      <td>250.000000</td>\n",
       "      <td>1.000000</td>\n",
       "      <td>19.000000</td>\n",
       "    </tr>\n",
       "    <tr>\n",
       "      <th>25%</th>\n",
       "      <td>1365.500000</td>\n",
       "      <td>1.000000</td>\n",
       "      <td>27.000000</td>\n",
       "    </tr>\n",
       "    <tr>\n",
       "      <th>50%</th>\n",
       "      <td>2319.500000</td>\n",
       "      <td>1.000000</td>\n",
       "      <td>33.000000</td>\n",
       "    </tr>\n",
       "    <tr>\n",
       "      <th>75%</th>\n",
       "      <td>3972.250000</td>\n",
       "      <td>2.000000</td>\n",
       "      <td>42.000000</td>\n",
       "    </tr>\n",
       "    <tr>\n",
       "      <th>max</th>\n",
       "      <td>18424.000000</td>\n",
       "      <td>4.000000</td>\n",
       "      <td>75.000000</td>\n",
       "    </tr>\n",
       "  </tbody>\n",
       "</table>\n",
       "</div>"
      ],
      "text/plain": [
       "       Credit amount  Number of existing credits at this bank  Age in years\n",
       "count    1000.000000                              1000.000000   1000.000000\n",
       "mean     3271.258000                                 1.407000     35.546000\n",
       "std      2822.736876                                 0.577654     11.375469\n",
       "min       250.000000                                 1.000000     19.000000\n",
       "25%      1365.500000                                 1.000000     27.000000\n",
       "50%      2319.500000                                 1.000000     33.000000\n",
       "75%      3972.250000                                 2.000000     42.000000\n",
       "max     18424.000000                                 4.000000     75.000000"
      ]
     },
     "execution_count": 116,
     "metadata": {},
     "output_type": "execute_result"
    }
   ],
   "source": [
    "# Select three colulmns:  Age in years, Number of people being liable to provide maintenance for,Number of existing credits at this bank\n",
    "dfHC = df_num.iloc[:,[1,5,4]]\n",
    "dfHC.describe()"
   ]
  },
  {
   "cell_type": "code",
   "execution_count": 117,
   "metadata": {},
   "outputs": [],
   "source": [
    "# Scaling the data so that all the features/attributes become comparable \n",
    "X =dfHC.values\n",
    "scaler = StandardScaler() \n",
    "XHC_scaled = scaler.fit_transform(X) "
   ]
  },
  {
   "cell_type": "code",
   "execution_count": 118,
   "metadata": {},
   "outputs": [
    {
     "name": "stdout",
     "output_type": "stream",
     "text": [
      "For n_clusters=2, the silhouette score is 0.3324871610491251\n",
      "For n_clusters=3, the silhouette score is 0.4001533160121393\n",
      "For n_clusters=4, the silhouette score is 0.3992445130637977\n",
      "For n_clusters=5, the silhouette score is 0.4101638201179301\n",
      "For n_clusters=6, the silhouette score is 0.41692556276716924\n",
      "For n_clusters=7, the silhouette score is 0.42518270799157576\n",
      "For n_clusters=8, the silhouette score is 0.4309274635241019\n",
      "For n_clusters=9, the silhouette score is 0.35380915532012397\n",
      "For n_clusters=10, the silhouette score is 0.36511676062909093\n",
      "For n_clusters=11, the silhouette score is 0.3640281578647666\n"
     ]
    }
   ],
   "source": [
    "# Silhouette Scores \n",
    "k_range = range(2,12)\n",
    "\n",
    "for i in k_range:\n",
    "    ac_i = AgglomerativeClustering(n_clusters = i,linkage='ward')\n",
    "    silhouette_avg=silhouette_score(XHC_scaled, ac_i.fit_predict(XHC_scaled))\n",
    "\n",
    "    print(\"For n_clusters={0}, the silhouette score is {1}\".format(i, silhouette_avg))"
   ]
  },
  {
   "cell_type": "code",
   "execution_count": 119,
   "metadata": {},
   "outputs": [
    {
     "name": "stdout",
     "output_type": "stream",
     "text": [
      "For n_clusters=2, the silhouette score is 0.5453662240550836\n",
      "For n_clusters=3, the silhouette score is 0.4201199382630673\n",
      "For n_clusters=4, the silhouette score is 0.35122630722748016\n",
      "For n_clusters=5, the silhouette score is 0.3420954770730145\n",
      "For n_clusters=6, the silhouette score is 0.2991786073375329\n",
      "For n_clusters=7, the silhouette score is 0.2832054781828697\n",
      "For n_clusters=8, the silhouette score is 0.2605825691999318\n",
      "For n_clusters=9, the silhouette score is 0.2414825087531987\n",
      "For n_clusters=10, the silhouette score is 0.36746860939604514\n",
      "For n_clusters=11, the silhouette score is 0.36670978406825905\n"
     ]
    }
   ],
   "source": [
    "# Silhouette Scores \n",
    "k_range = range(2,12)\n",
    "\n",
    "for i in k_range:\n",
    "    ac_i = AgglomerativeClustering(n_clusters = i,linkage='average')\n",
    "    silhouette_avg=silhouette_score(XHC_scaled, ac_i.fit_predict(XHC_scaled))\n",
    "\n",
    "    print(\"For n_clusters={0}, the silhouette score is {1}\".format(i, silhouette_avg))"
   ]
  },
  {
   "cell_type": "markdown",
   "metadata": {},
   "source": [
    "The highest silhouette score is 0.5453 for average linkage method with 2 clusters, however it only have 2 clusters which might be to little to analyse"
   ]
  },
  {
   "cell_type": "markdown",
   "metadata": {},
   "source": [
    "therefore, i wll be choosing the variable combination be  credit amount, Number of people being liable to provide maintenance for and age,  as it has the highest silhouette score of 0.5188 with acceptable number of cluster (3). It is also the same combination compared to kMeans.If it does not work i will be working on "
   ]
  },
  {
   "cell_type": "code",
   "execution_count": 120,
   "metadata": {},
   "outputs": [
    {
     "data": {
      "text/html": [
       "<div>\n",
       "<style scoped>\n",
       "    .dataframe tbody tr th:only-of-type {\n",
       "        vertical-align: middle;\n",
       "    }\n",
       "\n",
       "    .dataframe tbody tr th {\n",
       "        vertical-align: top;\n",
       "    }\n",
       "\n",
       "    .dataframe thead th {\n",
       "        text-align: right;\n",
       "    }\n",
       "</style>\n",
       "<table border=\"1\" class=\"dataframe\">\n",
       "  <thead>\n",
       "    <tr style=\"text-align: right;\">\n",
       "      <th></th>\n",
       "      <th>Credit amount</th>\n",
       "      <th>Number of people being liable to provide maintenance for</th>\n",
       "      <th>Age in years</th>\n",
       "    </tr>\n",
       "  </thead>\n",
       "  <tbody>\n",
       "    <tr>\n",
       "      <th>count</th>\n",
       "      <td>1000.000000</td>\n",
       "      <td>1000.000000</td>\n",
       "      <td>1000.000000</td>\n",
       "    </tr>\n",
       "    <tr>\n",
       "      <th>mean</th>\n",
       "      <td>3271.258000</td>\n",
       "      <td>1.155000</td>\n",
       "      <td>35.546000</td>\n",
       "    </tr>\n",
       "    <tr>\n",
       "      <th>std</th>\n",
       "      <td>2822.736876</td>\n",
       "      <td>0.362086</td>\n",
       "      <td>11.375469</td>\n",
       "    </tr>\n",
       "    <tr>\n",
       "      <th>min</th>\n",
       "      <td>250.000000</td>\n",
       "      <td>1.000000</td>\n",
       "      <td>19.000000</td>\n",
       "    </tr>\n",
       "    <tr>\n",
       "      <th>25%</th>\n",
       "      <td>1365.500000</td>\n",
       "      <td>1.000000</td>\n",
       "      <td>27.000000</td>\n",
       "    </tr>\n",
       "    <tr>\n",
       "      <th>50%</th>\n",
       "      <td>2319.500000</td>\n",
       "      <td>1.000000</td>\n",
       "      <td>33.000000</td>\n",
       "    </tr>\n",
       "    <tr>\n",
       "      <th>75%</th>\n",
       "      <td>3972.250000</td>\n",
       "      <td>1.000000</td>\n",
       "      <td>42.000000</td>\n",
       "    </tr>\n",
       "    <tr>\n",
       "      <th>max</th>\n",
       "      <td>18424.000000</td>\n",
       "      <td>2.000000</td>\n",
       "      <td>75.000000</td>\n",
       "    </tr>\n",
       "  </tbody>\n",
       "</table>\n",
       "</div>"
      ],
      "text/plain": [
       "       Credit amount  \\\n",
       "count    1000.000000   \n",
       "mean     3271.258000   \n",
       "std      2822.736876   \n",
       "min       250.000000   \n",
       "25%      1365.500000   \n",
       "50%      2319.500000   \n",
       "75%      3972.250000   \n",
       "max     18424.000000   \n",
       "\n",
       "       Number of people being liable to provide maintenance for  Age in years  \n",
       "count                                        1000.000000          1000.000000  \n",
       "mean                                            1.155000            35.546000  \n",
       "std                                             0.362086            11.375469  \n",
       "min                                             1.000000            19.000000  \n",
       "25%                                             1.000000            27.000000  \n",
       "50%                                             1.000000            33.000000  \n",
       "75%                                             1.000000            42.000000  \n",
       "max                                             2.000000            75.000000  "
      ]
     },
     "execution_count": 120,
     "metadata": {},
     "output_type": "execute_result"
    }
   ],
   "source": [
    "# Select three colulmns:  credit amount, Number of people being liable to provide maintenance for,age\n",
    "dfHC = df_num.iloc[:,[1,6,4]]\n",
    "dfHC.describe()"
   ]
  },
  {
   "cell_type": "code",
   "execution_count": 121,
   "metadata": {},
   "outputs": [],
   "source": [
    "# Scaling the data so that all the features/attributes become comparable \n",
    "X =dfHC.values\n",
    "scaler = StandardScaler() \n",
    "XHC_scaled = scaler.fit_transform(X) "
   ]
  },
  {
   "cell_type": "code",
   "execution_count": 122,
   "metadata": {},
   "outputs": [
    {
     "name": "stdout",
     "output_type": "stream",
     "text": [
      "For n_clusters=2, the silhouette score is 0.44785340877005086\n",
      "For n_clusters=3, the silhouette score is 0.5188481842705004\n",
      "For n_clusters=4, the silhouette score is 0.5005422855038993\n",
      "For n_clusters=5, the silhouette score is 0.4775365891574221\n",
      "For n_clusters=6, the silhouette score is 0.4434647137434597\n",
      "For n_clusters=7, the silhouette score is 0.4574023969561213\n",
      "For n_clusters=8, the silhouette score is 0.4603248512206403\n",
      "For n_clusters=9, the silhouette score is 0.4548762195172932\n",
      "For n_clusters=10, the silhouette score is 0.47177065707323257\n",
      "For n_clusters=11, the silhouette score is 0.4613113972117694\n"
     ]
    }
   ],
   "source": [
    "# Silhouette Scores \n",
    "k_range = range(2,12)\n",
    "\n",
    "for i in k_range:\n",
    "    ac_i = AgglomerativeClustering(n_clusters = i,linkage='average')\n",
    "    silhouette_avg=silhouette_score(XHC_scaled, ac_i.fit_predict(XHC_scaled))\n",
    "\n",
    "    print(\"For n_clusters={0}, the silhouette score is {1}\".format(i, silhouette_avg))"
   ]
  },
  {
   "cell_type": "code",
   "execution_count": 123,
   "metadata": {},
   "outputs": [],
   "source": [
    "# Build Agglomerative Clusting model with number of clusters set as 3\n",
    "ac = AgglomerativeClustering(n_clusters = 3,linkage='average')\n",
    "# Fit the model and assign each data point to the cluster\n",
    "y_pred1 = ac.fit_predict(XHC_scaled) # fit and then predict"
   ]
  },
  {
   "cell_type": "code",
   "execution_count": 124,
   "metadata": {
    "scrolled": true
   },
   "outputs": [
    {
     "name": "stdout",
     "output_type": "stream",
     "text": [
      "Credit amount\n"
     ]
    },
    {
     "name": "stderr",
     "output_type": "stream",
     "text": [
      "C:\\Users\\ljj\\AppData\\Local\\Temp\\ipykernel_10108\\3623842103.py:1: SettingWithCopyWarning: \n",
      "A value is trying to be set on a copy of a slice from a DataFrame.\n",
      "Try using .loc[row_indexer,col_indexer] = value instead\n",
      "\n",
      "See the caveats in the documentation: https://pandas.pydata.org/pandas-docs/stable/user_guide/indexing.html#returning-a-view-versus-a-copy\n",
      "  dfHC['Cluster']=y_pred1\n"
     ]
    },
    {
     "data": {
      "image/png": "[encoded data removed]",
      "text/plain": [
       "<Figure size 432x288 with 1 Axes>"
      ]
     },
     "metadata": {
      "needs_background": "light"
     },
     "output_type": "display_data"
    },
    {
     "name": "stdout",
     "output_type": "stream",
     "text": [
      "Number of people being liable to provide maintenance for\n"
     ]
    },
    {
     "data": {
      "image/png": "[encoded data removed]",
      "text/plain": [
       "<Figure size 432x288 with 1 Axes>"
      ]
     },
     "metadata": {
      "needs_background": "light"
     },
     "output_type": "display_data"
    },
    {
     "name": "stdout",
     "output_type": "stream",
     "text": [
      "Age in years\n"
     ]
    },
    {
     "data": {
      "image/png": "[encoded data removed]",
      "text/plain": [
       "<Figure size 432x288 with 1 Axes>"
      ]
     },
     "metadata": {
      "needs_background": "light"
     },
     "output_type": "display_data"
    },
    {
     "name": "stdout",
     "output_type": "stream",
     "text": [
      "Cluster\n"
     ]
    },
    {
     "data": {
      "image/png": "[encoded data removed]",
      "text/plain": [
       "<Figure size 432x288 with 1 Axes>"
      ]
     },
     "metadata": {
      "needs_background": "light"
     },
     "output_type": "display_data"
    }
   ],
   "source": [
    "dfHC['Cluster']=y_pred1\n",
    "i=0\n",
    "for col in dfHC: \n",
    "    print(col) \n",
    "    plt.cla()\n",
    "    plt.boxplot([dfK.iloc[:,i][dfHC.Cluster==0].tolist(),\n",
    "                 dfK.iloc[:,i][dfHC.Cluster==1].tolist(),\n",
    "                dfK.iloc[:,i][dfHC.Cluster==2].tolist()],\n",
    "                 labels=('Cluster 0','Cluster 1','Cluster 2'))  \n",
    "    plt.ylabel(col)\n",
    "    plt.show()\n",
    "    i=i+1"
   ]
  },
  {
   "cell_type": "markdown",
   "metadata": {},
   "source": [
    "It is a acceptabl clustering as all of the clusters are not similar.\n",
    "Cluster 0: low credit amount, 2 people being liable to provide maintenance for, medium age\n",
    "Cluster 1: medium credit amount, 1 people being liable to provide maintenance for, high age\n",
    "Cluter 2: low credit amount, 1 people being liable to provide maintenance for, low age"
   ]
  },
  {
   "cell_type": "markdown",
   "metadata": {},
   "source": [
    "Comparing the 2 clustering, i think the clustering with K-Means model is better as it has 4 clusters compares to 3 clusters in hierarchical clustering model, thus it will be more precise. also, comparing the age, the kmeans clustering is better as they are not so similar compared to hierarchical clustering, also, thea datas are not so wide spread."
   ]
  },
  {
   "cell_type": "markdown",
   "metadata": {},
   "source": [
    "# insert cluster to original data set"
   ]
  },
  {
   "cell_type": "code",
   "execution_count": 125,
   "metadata": {},
   "outputs": [
    {
     "data": {
      "text/html": [
       "<div>\n",
       "<style scoped>\n",
       "    .dataframe tbody tr th:only-of-type {\n",
       "        vertical-align: middle;\n",
       "    }\n",
       "\n",
       "    .dataframe tbody tr th {\n",
       "        vertical-align: top;\n",
       "    }\n",
       "\n",
       "    .dataframe thead th {\n",
       "        text-align: right;\n",
       "    }\n",
       "</style>\n",
       "<table border=\"1\" class=\"dataframe\">\n",
       "  <thead>\n",
       "    <tr style=\"text-align: right;\">\n",
       "      <th></th>\n",
       "      <th>Credit amount</th>\n",
       "      <th>Number of people being liable to provide maintenance for</th>\n",
       "      <th>Age in years</th>\n",
       "    </tr>\n",
       "  </thead>\n",
       "  <tbody>\n",
       "    <tr>\n",
       "      <th>count</th>\n",
       "      <td>1000.000000</td>\n",
       "      <td>1000.000000</td>\n",
       "      <td>1000.000000</td>\n",
       "    </tr>\n",
       "    <tr>\n",
       "      <th>mean</th>\n",
       "      <td>3271.258000</td>\n",
       "      <td>1.155000</td>\n",
       "      <td>35.546000</td>\n",
       "    </tr>\n",
       "    <tr>\n",
       "      <th>std</th>\n",
       "      <td>2822.736876</td>\n",
       "      <td>0.362086</td>\n",
       "      <td>11.375469</td>\n",
       "    </tr>\n",
       "    <tr>\n",
       "      <th>min</th>\n",
       "      <td>250.000000</td>\n",
       "      <td>1.000000</td>\n",
       "      <td>19.000000</td>\n",
       "    </tr>\n",
       "    <tr>\n",
       "      <th>25%</th>\n",
       "      <td>1365.500000</td>\n",
       "      <td>1.000000</td>\n",
       "      <td>27.000000</td>\n",
       "    </tr>\n",
       "    <tr>\n",
       "      <th>50%</th>\n",
       "      <td>2319.500000</td>\n",
       "      <td>1.000000</td>\n",
       "      <td>33.000000</td>\n",
       "    </tr>\n",
       "    <tr>\n",
       "      <th>75%</th>\n",
       "      <td>3972.250000</td>\n",
       "      <td>1.000000</td>\n",
       "      <td>42.000000</td>\n",
       "    </tr>\n",
       "    <tr>\n",
       "      <th>max</th>\n",
       "      <td>18424.000000</td>\n",
       "      <td>2.000000</td>\n",
       "      <td>75.000000</td>\n",
       "    </tr>\n",
       "  </tbody>\n",
       "</table>\n",
       "</div>"
      ],
      "text/plain": [
       "       Credit amount  \\\n",
       "count    1000.000000   \n",
       "mean     3271.258000   \n",
       "std      2822.736876   \n",
       "min       250.000000   \n",
       "25%      1365.500000   \n",
       "50%      2319.500000   \n",
       "75%      3972.250000   \n",
       "max     18424.000000   \n",
       "\n",
       "       Number of people being liable to provide maintenance for  Age in years  \n",
       "count                                        1000.000000          1000.000000  \n",
       "mean                                            1.155000            35.546000  \n",
       "std                                             0.362086            11.375469  \n",
       "min                                             1.000000            19.000000  \n",
       "25%                                             1.000000            27.000000  \n",
       "50%                                             1.000000            33.000000  \n",
       "75%                                             1.000000            42.000000  \n",
       "max                                             2.000000            75.000000  "
      ]
     },
     "execution_count": 125,
     "metadata": {},
     "output_type": "execute_result"
    }
   ],
   "source": [
    "# Select three colulmns:  Credit amount, Number of people being liable to provide maintenance for, age\n",
    "\n",
    "dfK = df_num.iloc[:,[1,6,4]]\n",
    "dfK.describe()"
   ]
  },
  {
   "cell_type": "code",
   "execution_count": 126,
   "metadata": {},
   "outputs": [],
   "source": [
    "X =dfK.values\n",
    "scaler = StandardScaler() \n",
    "XKmeans_scaled = scaler.fit_transform(X) "
   ]
  },
  {
   "cell_type": "code",
   "execution_count": null,
   "metadata": {},
   "outputs": [],
   "source": []
  },
  {
   "cell_type": "code",
   "execution_count": 127,
   "metadata": {},
   "outputs": [],
   "source": [
    "kmeans = KMeans(n_clusters=4, n_init=20, random_state=1)\n",
    "# Fit the model and assign each data point to the cluster\n",
    "y_pred = kmeans.fit_predict(XKmeans_scaled) # fit and then predict"
   ]
  },
  {
   "cell_type": "code",
   "execution_count": 128,
   "metadata": {},
   "outputs": [
    {
     "name": "stdout",
     "output_type": "stream",
     "text": [
      "Credit amount\n"
     ]
    },
    {
     "name": "stderr",
     "output_type": "stream",
     "text": [
      "C:\\Users\\ljj\\AppData\\Local\\Temp\\ipykernel_10108\\1053256822.py:1: SettingWithCopyWarning: \n",
      "A value is trying to be set on a copy of a slice from a DataFrame.\n",
      "Try using .loc[row_indexer,col_indexer] = value instead\n",
      "\n",
      "See the caveats in the documentation: https://pandas.pydata.org/pandas-docs/stable/user_guide/indexing.html#returning-a-view-versus-a-copy\n",
      "  dfK['Cluster']=y_pred\n"
     ]
    },
    {
     "data": {
      "image/png": "[encoded data removed]",
      "text/plain": [
       "<Figure size 432x288 with 1 Axes>"
      ]
     },
     "metadata": {
      "needs_background": "light"
     },
     "output_type": "display_data"
    },
    {
     "name": "stdout",
     "output_type": "stream",
     "text": [
      "Number of people being liable to provide maintenance for\n"
     ]
    },
    {
     "data": {
      "image/png": "[encoded data removed]",
      "text/plain": [
       "<Figure size 432x288 with 1 Axes>"
      ]
     },
     "metadata": {
      "needs_background": "light"
     },
     "output_type": "display_data"
    },
    {
     "name": "stdout",
     "output_type": "stream",
     "text": [
      "Age in years\n"
     ]
    },
    {
     "data": {
      "image/png": "[encoded data removed]",
      "text/plain": [
       "<Figure size 432x288 with 1 Axes>"
      ]
     },
     "metadata": {
      "needs_background": "light"
     },
     "output_type": "display_data"
    },
    {
     "name": "stdout",
     "output_type": "stream",
     "text": [
      "Cluster\n"
     ]
    },
    {
     "data": {
      "image/png": "[encoded data removed]",
      "text/plain": [
       "<Figure size 432x288 with 1 Axes>"
      ]
     },
     "metadata": {
      "needs_background": "light"
     },
     "output_type": "display_data"
    }
   ],
   "source": [
    "dfK['Cluster']=y_pred\n",
    "i=0\n",
    "for col in dfK: \n",
    "    print(col) \n",
    "    plt.cla()\n",
    "    plt.boxplot([dfK.iloc[:,i][dfK.Cluster==0].tolist(),\n",
    "                 dfK.iloc[:,i][dfK.Cluster==1].tolist(),\n",
    "                dfK.iloc[:,i][dfK.Cluster==2].tolist(),\n",
    "                 dfK.iloc[:,i][dfK.Cluster==3].tolist()],\n",
    "                 labels=('Cluster 0','Cluster 1','Cluster 2','Cluster 3'))  \n",
    "    plt.ylabel(col)\n",
    "    plt.show()\n",
    "    i=i+1"
   ]
  },
  {
   "cell_type": "code",
   "execution_count": null,
   "metadata": {},
   "outputs": [],
   "source": []
  },
  {
   "cell_type": "code",
   "execution_count": 177,
   "metadata": {},
   "outputs": [
    {
     "data": {
      "text/html": [
       "<div>\n",
       "<style scoped>\n",
       "    .dataframe tbody tr th:only-of-type {\n",
       "        vertical-align: middle;\n",
       "    }\n",
       "\n",
       "    .dataframe tbody tr th {\n",
       "        vertical-align: top;\n",
       "    }\n",
       "\n",
       "    .dataframe thead th {\n",
       "        text-align: right;\n",
       "    }\n",
       "</style>\n",
       "<table border=\"1\" class=\"dataframe\">\n",
       "  <thead>\n",
       "    <tr style=\"text-align: right;\">\n",
       "      <th></th>\n",
       "      <th>Account Status</th>\n",
       "      <th>Duration in month</th>\n",
       "      <th>Credit History</th>\n",
       "      <th>Purpose</th>\n",
       "      <th>Credit amount</th>\n",
       "      <th>Savings account or bonds</th>\n",
       "      <th>Present employment since</th>\n",
       "      <th>Instalment rate in percentage of disposable income</th>\n",
       "      <th>Personal status and sex</th>\n",
       "      <th>Other debtors or guarantors</th>\n",
       "      <th>...</th>\n",
       "      <th>Other installment plans</th>\n",
       "      <th>Housing</th>\n",
       "      <th>Number of existing credits at this bank</th>\n",
       "      <th>Job</th>\n",
       "      <th>Number of people being liable to provide maintenance for</th>\n",
       "      <th>Telephone</th>\n",
       "      <th>Foreign worker</th>\n",
       "      <th>Target</th>\n",
       "      <th>ClusteID</th>\n",
       "      <th>ClusterID</th>\n",
       "    </tr>\n",
       "  </thead>\n",
       "  <tbody>\n",
       "    <tr>\n",
       "      <th>0</th>\n",
       "      <td>0</td>\n",
       "      <td>6</td>\n",
       "      <td>0</td>\n",
       "      <td>0</td>\n",
       "      <td>1169</td>\n",
       "      <td>Savings account</td>\n",
       "      <td>0</td>\n",
       "      <td>4</td>\n",
       "      <td>0</td>\n",
       "      <td>0</td>\n",
       "      <td>...</td>\n",
       "      <td>0</td>\n",
       "      <td>0</td>\n",
       "      <td>2</td>\n",
       "      <td>0</td>\n",
       "      <td>1</td>\n",
       "      <td>0</td>\n",
       "      <td>0</td>\n",
       "      <td>1</td>\n",
       "      <td>3</td>\n",
       "      <td>3</td>\n",
       "    </tr>\n",
       "    <tr>\n",
       "      <th>1</th>\n",
       "      <td>1</td>\n",
       "      <td>48</td>\n",
       "      <td>1</td>\n",
       "      <td>0</td>\n",
       "      <td>5951</td>\n",
       "      <td>Savings account</td>\n",
       "      <td>2</td>\n",
       "      <td>2</td>\n",
       "      <td>1</td>\n",
       "      <td>0</td>\n",
       "      <td>...</td>\n",
       "      <td>0</td>\n",
       "      <td>0</td>\n",
       "      <td>1</td>\n",
       "      <td>0</td>\n",
       "      <td>1</td>\n",
       "      <td>1</td>\n",
       "      <td>0</td>\n",
       "      <td>2</td>\n",
       "      <td>0</td>\n",
       "      <td>0</td>\n",
       "    </tr>\n",
       "    <tr>\n",
       "      <th>2</th>\n",
       "      <td>3</td>\n",
       "      <td>12</td>\n",
       "      <td>0</td>\n",
       "      <td>1</td>\n",
       "      <td>2096</td>\n",
       "      <td>Savings account</td>\n",
       "      <td>1</td>\n",
       "      <td>2</td>\n",
       "      <td>0</td>\n",
       "      <td>0</td>\n",
       "      <td>...</td>\n",
       "      <td>0</td>\n",
       "      <td>0</td>\n",
       "      <td>1</td>\n",
       "      <td>1</td>\n",
       "      <td>2</td>\n",
       "      <td>1</td>\n",
       "      <td>0</td>\n",
       "      <td>1</td>\n",
       "      <td>1</td>\n",
       "      <td>1</td>\n",
       "    </tr>\n",
       "    <tr>\n",
       "      <th>3</th>\n",
       "      <td>0</td>\n",
       "      <td>42</td>\n",
       "      <td>1</td>\n",
       "      <td>2</td>\n",
       "      <td>7882</td>\n",
       "      <td>Savings account</td>\n",
       "      <td>1</td>\n",
       "      <td>2</td>\n",
       "      <td>0</td>\n",
       "      <td>1</td>\n",
       "      <td>...</td>\n",
       "      <td>0</td>\n",
       "      <td>1</td>\n",
       "      <td>1</td>\n",
       "      <td>0</td>\n",
       "      <td>2</td>\n",
       "      <td>1</td>\n",
       "      <td>0</td>\n",
       "      <td>1</td>\n",
       "      <td>1</td>\n",
       "      <td>1</td>\n",
       "    </tr>\n",
       "    <tr>\n",
       "      <th>4</th>\n",
       "      <td>0</td>\n",
       "      <td>24</td>\n",
       "      <td>2</td>\n",
       "      <td>3</td>\n",
       "      <td>4870</td>\n",
       "      <td>Savings account</td>\n",
       "      <td>2</td>\n",
       "      <td>3</td>\n",
       "      <td>0</td>\n",
       "      <td>0</td>\n",
       "      <td>...</td>\n",
       "      <td>0</td>\n",
       "      <td>1</td>\n",
       "      <td>2</td>\n",
       "      <td>0</td>\n",
       "      <td>2</td>\n",
       "      <td>1</td>\n",
       "      <td>0</td>\n",
       "      <td>2</td>\n",
       "      <td>1</td>\n",
       "      <td>1</td>\n",
       "    </tr>\n",
       "  </tbody>\n",
       "</table>\n",
       "<p>5 rows × 23 columns</p>\n",
       "</div>"
      ],
      "text/plain": [
       "   Account Status  Duration in month  Credit History  Purpose  Credit amount  \\\n",
       "0               0                  6               0        0           1169   \n",
       "1               1                 48               1        0           5951   \n",
       "2               3                 12               0        1           2096   \n",
       "3               0                 42               1        2           7882   \n",
       "4               0                 24               2        3           4870   \n",
       "\n",
       "  Savings account or bonds  Present employment since  \\\n",
       "0          Savings account                         0   \n",
       "1          Savings account                         2   \n",
       "2          Savings account                         1   \n",
       "3          Savings account                         1   \n",
       "4          Savings account                         2   \n",
       "\n",
       "   Instalment rate in percentage of disposable income  \\\n",
       "0                                                  4    \n",
       "1                                                  2    \n",
       "2                                                  2    \n",
       "3                                                  2    \n",
       "4                                                  3    \n",
       "\n",
       "   Personal status and sex  Other debtors or guarantors  ...  \\\n",
       "0                        0                            0  ...   \n",
       "1                        1                            0  ...   \n",
       "2                        0                            0  ...   \n",
       "3                        0                            1  ...   \n",
       "4                        0                            0  ...   \n",
       "\n",
       "   Other installment plans  Housing  Number of existing credits at this bank  \\\n",
       "0                        0        0                                        2   \n",
       "1                        0        0                                        1   \n",
       "2                        0        0                                        1   \n",
       "3                        0        1                                        1   \n",
       "4                        0        1                                        2   \n",
       "\n",
       "   Job  Number of people being liable to provide maintenance for  Telephone  \\\n",
       "0    0                                                  1                 0   \n",
       "1    0                                                  1                 1   \n",
       "2    1                                                  2                 1   \n",
       "3    0                                                  2                 1   \n",
       "4    0                                                  2                 1   \n",
       "\n",
       "   Foreign worker  Target  ClusteID  ClusterID  \n",
       "0               0       1         3          3  \n",
       "1               0       2         0          0  \n",
       "2               0       1         1          1  \n",
       "3               0       1         1          1  \n",
       "4               0       2         1          1  \n",
       "\n",
       "[5 rows x 23 columns]"
      ]
     },
     "execution_count": 177,
     "metadata": {},
     "output_type": "execute_result"
    }
   ],
   "source": [
    "df['ClusterID'] = y_pred\n",
    "df.head()"
   ]
  },
  {
   "cell_type": "code",
   "execution_count": 178,
   "metadata": {},
   "outputs": [
    {
     "data": {
      "image/png": "[encoded data removed]",
      "text/plain": [
       "<Figure size 432x288 with 1 Axes>"
      ]
     },
     "metadata": {},
     "output_type": "display_data"
    }
   ],
   "source": [
    "# see the target calss balance or not\n",
    "\n",
    "df['ClusteID'].value_counts().plot(kind = 'pie', autopct = '%.2f%%', \n",
    "                                         startangle = 90,labels = ['cluster 0','cluster 1','cluster 2','cluster 3'])\n",
    "\n",
    "plt.suptitle('ClusteID', fontsize = 12)\n",
    "plt.show()"
   ]
  },
  {
   "cell_type": "code",
   "execution_count": 179,
   "metadata": {},
   "outputs": [
    {
     "data": {
      "text/plain": [
       "<AxesSubplot:xlabel='Job'>"
      ]
     },
     "execution_count": 179,
     "metadata": {},
     "output_type": "execute_result"
    },
    {
     "data": {
      "image/png": "[encoded data removed]",
      "text/plain": [
       "<Figure size 432x288 with 1 Axes>"
      ]
     },
     "metadata": {
      "needs_background": "light"
     },
     "output_type": "display_data"
    }
   ],
   "source": [
    "# bar graph for Job\n",
    "df.groupby('ClusterID')['Job'].value_counts().unstack(0).plot.bar()"
   ]
  },
  {
   "cell_type": "code",
   "execution_count": 180,
   "metadata": {},
   "outputs": [
    {
     "data": {
      "text/plain": [
       "<AxesSubplot:xlabel='Credit History'>"
      ]
     },
     "execution_count": 180,
     "metadata": {},
     "output_type": "execute_result"
    },
    {
     "data": {
      "image/png": "[encoded data removed]",
      "text/plain": [
       "<Figure size 432x288 with 1 Axes>"
      ]
     },
     "metadata": {
      "needs_background": "light"
     },
     "output_type": "display_data"
    }
   ],
   "source": [
    "# bar graph for Credit History\n",
    "df.groupby('ClusterID')['Credit History'].value_counts().unstack(0).plot.bar()"
   ]
  },
  {
   "cell_type": "code",
   "execution_count": 181,
   "metadata": {},
   "outputs": [
    {
     "data": {
      "image/png": "[encoded data removed]",
      "text/plain": [
       "<Figure size 720x360 with 1 Axes>"
      ]
     },
     "metadata": {
      "needs_background": "light"
     },
     "output_type": "display_data"
    }
   ],
   "source": [
    "# bar graph for Personal status and sex\n",
    "plt.figure(figsize=(10,5))\n",
    "ax = sns.countplot(x=\"Personal status and sex\",data=df, hue='ClusterID',order = df[\"Personal status and sex\"].value_counts().index)\n",
    "plt.suptitle(\"Personal status and sex\")\n",
    "plt.show()"
   ]
  },
  {
   "cell_type": "code",
   "execution_count": null,
   "metadata": {},
   "outputs": [],
   "source": []
  },
  {
   "cell_type": "code",
   "execution_count": null,
   "metadata": {},
   "outputs": [],
   "source": []
  }
 ],
 "metadata": {
  "kernelspec": {
   "display_name": "Python 3 (ipykernel)",
   "language": "python",
   "name": "python3"
  },
  "language_info": {
   "codemirror_mode": {
    "name": "ipython",
    "version": 3
   },
   "file_extension": ".py",
   "mimetype": "text/x-python",
   "name": "python",
   "nbconvert_exporter": "python",
   "pygments_lexer": "ipython3",
   "version": "3.9.12"
  }
 },
 "nbformat": 4,
 "nbformat_minor": 2
}
